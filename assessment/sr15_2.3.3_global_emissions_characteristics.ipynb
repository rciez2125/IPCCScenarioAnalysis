{
 "cells": [
  {
   "cell_type": "markdown",
   "metadata": {},
   "source": [
    "### *IPCC SR15 scenario assessment*\n",
    "\n",
    "<img style=\"float: right; height: 80px; padding-left: 20px;\" src=\"../_static/IIASA_logo.png\">\n",
    "<img style=\"float: right; height: 80px;\" src=\"../_static/IAMC_logo.jpg\">\n",
    "\n",
    "# Annual global emissions characteristics <br /> of long-lived climate forcers\n",
    "\n",
    "This notebook plots the development of carbon dioxide emissions by different subsectors\n",
    "for **Figure 2.6** in the IPCC's _\"Special Report on Global Warming of 1.5°C\"_.\n",
    "\n",
    "The scenario data used in this analysis can be accessed and downloaded at [https://data.ene.iiasa.ac.at/iamc-1.5c-explorer](https://data.ene.iiasa.ac.at/iamc-1.5c-explorer)."
   ]
  },
  {
   "cell_type": "markdown",
   "metadata": {},
   "source": [
    "## Load `pyam` package and other dependencies"
   ]
  },
  {
   "cell_type": "code",
   "execution_count": null,
   "metadata": {},
   "outputs": [],
   "source": [
    "import pandas as pd\n",
    "import numpy as np\n",
    "import warnings\n",
    "import io\n",
    "import itertools\n",
    "import yaml\n",
    "import math\n",
    "import matplotlib.pyplot as plt\n",
    "plt.style.use('style_sr15.mplstyle')\n",
    "%matplotlib inline\n",
    "import pyam\n",
    "\n",
    "from utils import boxplot_by_cat"
   ]
  },
  {
   "cell_type": "markdown",
   "metadata": {},
   "source": [
    "## Import scenario data, categorization and specifications files\n",
    "\n",
    "The metadata file must be generated from the notebook `sr15_2.0_categories_indicators` included in this repository.  \n",
    "If the snapshot file has been updated, make sure that you rerun the categorization notebook.\n",
    "\n",
    "The last cell of this section loads and assigns a number of auxiliary lists as defined in the categorization notebook."
   ]
  },
  {
   "cell_type": "code",
   "execution_count": null,
   "metadata": {},
   "outputs": [],
   "source": [
    "sr1p5 = pyam.IamDataFrame(data='../data/iamc15_scenario_data_world_r1.1.xlsx')"
   ]
  },
  {
   "cell_type": "code",
   "execution_count": null,
   "metadata": {},
   "outputs": [],
   "source": [
    "sr1p5.load_metadata('sr15_metadata_indicators.xlsx')"
   ]
  },
  {
   "cell_type": "code",
   "execution_count": null,
   "metadata": {},
   "outputs": [],
   "source": [
    "with open(\"sr15_specs.yaml\", 'r') as stream:\n",
    "    specs = yaml.load(stream, Loader=yaml.FullLoader)\n",
    "\n",
    "rc = pyam.run_control()\n",
    "for item in specs.pop('run_control').items():\n",
    "    rc.update({item[0]: item[1]})\n",
    "cats = specs.pop('cats')\n",
    "all_cats = specs.pop('all_cats')\n",
    "subcats = specs.pop('subcats')\n",
    "all_subcats = specs.pop('all_subcats')\n",
    "plotting_args = specs.pop('plotting_args')\n",
    "marker= specs.pop('marker')"
   ]
  },
  {
   "cell_type": "markdown",
   "metadata": {},
   "source": [
    "## Downselect scenario ensemble to categories of interest for this assessment"
   ]
  },
  {
   "cell_type": "code",
   "execution_count": null,
   "metadata": {},
   "outputs": [],
   "source": [
    "cats.remove('Above 2C')"
   ]
  },
  {
   "cell_type": "code",
   "execution_count": null,
   "metadata": {},
   "outputs": [],
   "source": [
    "years = [2020, 2030, 2050, 2100]"
   ]
  },
  {
   "cell_type": "code",
   "execution_count": null,
   "metadata": {},
   "outputs": [],
   "source": [
    "sr1p5.meta.rename(columns={'Kyoto-GHG|2010 (SAR)': 'kyoto_ghg_2010'}, inplace=True)"
   ]
  },
  {
   "cell_type": "code",
   "execution_count": null,
   "metadata": {},
   "outputs": [],
   "source": [
    "df = sr1p5.filter(kyoto_ghg_2010='in range', category=cats, year=years)"
   ]
  },
  {
   "cell_type": "markdown",
   "metadata": {},
   "source": [
    "## Set specifications for filter and plotting"
   ]
  },
  {
   "cell_type": "code",
   "execution_count": null,
   "metadata": {},
   "outputs": [],
   "source": [
    "save_name = 'output/fig2.6{}.{}'"
   ]
  },
  {
   "cell_type": "code",
   "execution_count": null,
   "metadata": {},
   "outputs": [],
   "source": [
    "filter_args = dict(df=sr1p5, category=cats, marker=None, join_meta=True)"
   ]
  },
  {
   "cell_type": "code",
   "execution_count": null,
   "metadata": {},
   "outputs": [],
   "source": [
    "def plotting_args(name, filetype='png', hlines=[0]):\n",
    "    return {'categories': cats, 'column': 'category', 'years': years, 'add_marker': marker,\n",
    "            'hlines': hlines, 'save': save_name.format(name, filetype)}"
   ]
  },
  {
   "cell_type": "code",
   "execution_count": null,
   "metadata": {},
   "outputs": [],
   "source": [
    "data = []"
   ]
  },
  {
   "cell_type": "markdown",
   "metadata": {},
   "source": [
    "## Plot different emissions pathways by category"
   ]
  },
  {
   "cell_type": "code",
   "execution_count": null,
   "metadata": {},
   "outputs": [],
   "source": [
    "ghg = (\n",
    "    df.filter(variable='Emissions|Kyoto Gases (AR4-GWP100)')\n",
    "    .convert_unit({'Mt CO2-equiv/yr': ('Gt CO2-equiv/yr', 0.001)})\n",
    "    .timeseries()\n",
    ")"
   ]
  },
  {
   "cell_type": "code",
   "execution_count": null,
   "metadata": {},
   "outputs": [],
   "source": [
    "name = 'kyoto'\n",
    "_data = pyam.filter_by_meta(ghg, **filter_args)\n",
    "fig = boxplot_by_cat(_data, ylabel='Global Kyoto-GHG emissions (GtCO2e AR4GWP)',\n",
    "                     **plotting_args('a_{}'.format(name)))\n",
    "_data['species'] = name\n",
    "data.append(_data)"
   ]
  },
  {
   "cell_type": "code",
   "execution_count": null,
   "metadata": {},
   "outputs": [],
   "source": [
    "co2 = (\n",
    "    df.filter(variable='Emissions|CO2')\n",
    "    .convert_unit({'Mt CO2/yr': ('Gt CO2/yr', 0.001)})\n",
    "    .timeseries()\n",
    ")"
   ]
  },
  {
   "cell_type": "code",
   "execution_count": null,
   "metadata": {},
   "outputs": [],
   "source": [
    "name = 'co2_net_total'\n",
    "_data = pyam.filter_by_meta(co2, **filter_args)\n",
    "fig = boxplot_by_cat(_data, ylabel='Global CO2 emissions (GtCO2)',\n",
    "                     **plotting_args('b_{}'.format(name)), legend=False)\n",
    "_data['species'] = name\n",
    "data.append(_data)"
   ]
  },
  {
   "cell_type": "code",
   "execution_count": null,
   "metadata": {},
   "outputs": [],
   "source": [
    "co2_afolu = (\n",
    "    df.filter(variable='Emissions|CO2|AFOLU')\n",
    "    .convert_unit({'Mt CO2/yr': ('Gt CO2/yr', 0.001)})\n",
    "    .timeseries()\n",
    ")"
   ]
  },
  {
   "cell_type": "code",
   "execution_count": null,
   "metadata": {},
   "outputs": [],
   "source": [
    "name = 'co2_afolu'\n",
    "_data = pyam.filter_by_meta(co2_afolu, **filter_args)\n",
    "fig = boxplot_by_cat(_data, ylabel='Global CO2 emissions from AFOLU (GtCO2)',\n",
    "                     **plotting_args('c_{}'.format(name)), legend=False)\n",
    "_data['species'] = name\n",
    "data.append(_data)"
   ]
  },
  {
   "cell_type": "code",
   "execution_count": null,
   "metadata": {},
   "outputs": [],
   "source": [
    "n2o = (\n",
    "    df.filter(variable='Emissions|N2O')\n",
    "    .convert_unit({'kt N2O/yr': ('Mt N2O/yr', 0.001)})   \n",
    "    .timeseries()\n",
    ")"
   ]
  },
  {
   "cell_type": "code",
   "execution_count": null,
   "metadata": {},
   "outputs": [],
   "source": [
    "name = 'n2o'\n",
    "_data = pyam.filter_by_meta(n2o, **filter_args)\n",
    "fig = boxplot_by_cat(_data, ylabel='Global N2O emissions (MtN2O)',\n",
    "                     **plotting_args('d_{}'.format(name), hlines=None),\n",
    "                     legend=False)\n",
    "_data['species'] = name\n",
    "data.append(_data)"
   ]
  },
  {
   "cell_type": "code",
   "execution_count": null,
   "metadata": {},
   "outputs": [],
   "source": [
    "co2_ene = (\n",
    "    df.filter(variable='Emissions|CO2|Energy and Industrial Processes')\n",
    "    .convert_unit({'Mt CO2/yr': ('Gt CO2/yr', 0.001)})\n",
    "    .timeseries()\n",
    ")"
   ]
  },
  {
   "cell_type": "code",
   "execution_count": null,
   "metadata": {},
   "outputs": [],
   "source": [
    "name = 'co2_ffi'\n",
    "_data = pyam.filter_by_meta(co2_ene, **filter_args)\n",
    "fig = boxplot_by_cat(_data, ylabel='Global CO2 emissions from fossil fuels and industry (GtCO2)',\n",
    "                     **plotting_args('e_{}'.format(name)), legend=False)\n",
    "_data['species'] = name\n",
    "data.append(_data)"
   ]
  },
  {
   "cell_type": "code",
   "execution_count": null,
   "metadata": {},
   "outputs": [],
   "source": [
    "co2_supply = (\n",
    "    df.filter(variable='Emissions|CO2|Energy|Supply')\n",
    "    .convert_unit({'Mt CO2/yr': ('Gt CO2/yr', 0.001)})\n",
    "    .timeseries()\n",
    ")"
   ]
  },
  {
   "cell_type": "code",
   "execution_count": null,
   "metadata": {},
   "outputs": [],
   "source": [
    "name = 'co2_supply'\n",
    "_data = pyam.filter_by_meta(co2_supply, **filter_args)\n",
    "fig = boxplot_by_cat(_data, ylabel='Global CO2 emissions from energy supply (GtCO2)',\n",
    "                     **plotting_args('f_{}'.format(name)), legend=False)\n",
    "_data['species'] = name\n",
    "data.append(_data)"
   ]
  },
  {
   "cell_type": "code",
   "execution_count": null,
   "metadata": {},
   "outputs": [],
   "source": [
    "co2_demand = (\n",
    "    df.filter(variable='Emissions|CO2|Energy|Demand')\n",
    "    .convert_unit({'Mt CO2/yr': ('Gt CO2/yr', 0.001)})\n",
    "    .timeseries()\n",
    ")"
   ]
  },
  {
   "cell_type": "markdown",
   "metadata": {},
   "source": [
    "Exclude scenarios that report the CO2 emissions from energy demand as zero from this plot."
   ]
  },
  {
   "cell_type": "code",
   "execution_count": null,
   "metadata": {},
   "outputs": [],
   "source": [
    "co2_demand[co2_demand.apply(lambda x: max(x), axis=1) < 0.1]"
   ]
  },
  {
   "cell_type": "code",
   "execution_count": null,
   "metadata": {},
   "outputs": [],
   "source": [
    "co2_demand = co2_demand[co2_demand.apply(lambda x: max(x), axis=1) > 0.1]"
   ]
  },
  {
   "cell_type": "code",
   "execution_count": null,
   "metadata": {},
   "outputs": [],
   "source": [
    "name = 'co2_demand'\n",
    "_data = pyam.filter_by_meta(co2_demand, **filter_args)\n",
    "fig = boxplot_by_cat(_data, ylabel='Global CO2 emissions from energy demand (GtCO2)',\n",
    "                     **plotting_args('g_{}'.format(name)), legend=False)\n",
    "_data['species'] = name\n",
    "data.append(_data)"
   ]
  },
  {
   "cell_type": "markdown",
   "metadata": {},
   "source": [
    "## Export timeseries data to `xlsx`"
   ]
  },
  {
   "cell_type": "code",
   "execution_count": null,
   "metadata": {},
   "outputs": [],
   "source": [
    "data = pd.concat(data).set_index(['species', 'category', 'marker'], append=True)"
   ]
  },
  {
   "cell_type": "code",
   "execution_count": null,
   "metadata": {},
   "outputs": [],
   "source": [
    "data.head()"
   ]
  },
  {
   "cell_type": "code",
   "execution_count": null,
   "metadata": {},
   "outputs": [],
   "source": [
    "data.reset_index().to_excel('output/fig2.6_data_table.xlsx')"
   ]
  },
  {
   "cell_type": "code",
   "execution_count": null,
   "metadata": {},
   "outputs": [],
   "source": []
  }
 ],
 "metadata": {
  "kernelspec": {
   "display_name": "Python [conda env:anaconda]",
   "language": "python",
   "name": "conda-env-anaconda-py"
  },
  "language_info": {
   "codemirror_mode": {
    "name": "ipython",
    "version": 3
   },
   "file_extension": ".py",
   "mimetype": "text/x-python",
   "name": "python",
   "nbconvert_exporter": "python",
   "pygments_lexer": "ipython3",
   "version": "3.6.6"
  }
 },
 "nbformat": 4,
 "nbformat_minor": 2
}
