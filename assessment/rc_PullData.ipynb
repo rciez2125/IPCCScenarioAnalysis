{
 "cells": [
  {
   "cell_type": "markdown",
   "metadata": {},
   "source": [
    "pull the data from fig 2.9 (ccs by type) with scenario information "
   ]
  },
  {
   "cell_type": "code",
   "execution_count": 1,
   "metadata": {},
   "outputs": [
    {
     "data": {
      "application/javascript": [
       "IPython.OutputArea.prototype._should_scroll = function(lines) { return false; }"
      ],
      "text/plain": [
       "<IPython.core.display.Javascript object>"
      ]
     },
     "metadata": {},
     "output_type": "display_data"
    }
   ],
   "source": [
    "import pandas as pd\n",
    "import numpy as np\n",
    "import warnings\n",
    "import io\n",
    "import itertools\n",
    "import yaml\n",
    "import math\n",
    "import matplotlib\n",
    "matplotlib.use('TkAgg')\n",
    "import matplotlib.pyplot as plt\n",
    "plt.style.use('style_sr15.mplstyle')\n",
    "%matplotlib inline\n",
    "import pyam"
   ]
  },
  {
   "cell_type": "code",
   "execution_count": 2,
   "metadata": {},
   "outputs": [
    {
     "name": "stderr",
     "output_type": "stream",
     "text": [
      "INFO:root:Reading `../data/iamc15_scenario_data_world_r1.1.xlsx`\n"
     ]
    }
   ],
   "source": [
    "sr1p5 = pyam.IamDataFrame(data='../data/iamc15_scenario_data_world_r1.1.xlsx')"
   ]
  },
  {
   "cell_type": "code",
   "execution_count": 3,
   "metadata": {},
   "outputs": [
    {
     "name": "stderr",
     "output_type": "stream",
     "text": [
      "INFO:root:Importing metadata for 416 scenarios (for total of 416)\n",
      "INFO:numexpr.utils:NumExpr defaulting to 8 threads.\n"
     ]
    }
   ],
   "source": [
    "sr1p5.load_metadata('../data/sr15_metadata_indicators.xlsx')"
   ]
  },
  {
   "cell_type": "code",
   "execution_count": 4,
   "metadata": {},
   "outputs": [],
   "source": [
    "with open(\"sr15_specs.yaml\", 'r') as stream:\n",
    "    specs = yaml.load(stream, Loader=yaml.FullLoader)\n",
    "\n",
    "rc = pyam.run_control()\n",
    "for item in specs.pop('run_control').items():\n",
    "    rc.update({item[0]: item[1]})\n",
    "cats = specs.pop('cats')\n",
    "all_cats = specs.pop('all_cats')\n",
    "subcats = specs.pop('subcats')\n",
    "all_subcats = specs.pop('all_subcats')\n",
    "cats_15 = specs.pop('cats_15')\n",
    "cats_15_no_lo = specs.pop('cats_15_no_lo')\n",
    "marker= specs.pop('marker')\n",
    "plotting_args = specs.pop('plotting_args')"
   ]
  },
  {
   "cell_type": "code",
   "execution_count": 5,
   "metadata": {},
   "outputs": [],
   "source": [
    "# 3a\n",
    "\n",
    "sr1p5.meta.rename(columns={'Kyoto-GHG|2010 (SAR)': 'kyoto_ghg_2010'}, inplace=True)\n",
    "df = sr1p5.filter(category=cats_15, kyoto_ghg_2010='in range')\n",
    "df.set_meta(meta='1.5C limited overshoot', name='supercategory', index=df.filter(category=cats_15_no_lo))\n",
    "rc.update({'color': {'supercategory': {'1.5C limited overshoot': 'xkcd:bluish'}}})\n",
    "filter_args = dict(df=df, category=cats, marker=None, join_meta=True)"
   ]
  },
  {
   "cell_type": "code",
   "execution_count": 6,
   "metadata": {},
   "outputs": [],
   "source": [
    "# 2.9\n",
    "df = sr1p5.filter(category=cats_15)\n",
    "filter_args = dict(df=sr1p5, category=cats, marker=None, join_meta=True)\n",
    "co2 = df.filter(variable='Emissions|CO2').timeseries()"
   ]
  },
  {
   "cell_type": "code",
   "execution_count": null,
   "metadata": {},
   "outputs": [],
   "source": []
  }
 ],
 "metadata": {
  "kernelspec": {
   "display_name": "Python 3",
   "language": "python",
   "name": "python3"
  },
  "language_info": {
   "codemirror_mode": {
    "name": "ipython",
    "version": 3
   },
   "file_extension": ".py",
   "mimetype": "text/x-python",
   "name": "python",
   "nbconvert_exporter": "python",
   "pygments_lexer": "ipython3",
   "version": "3.7.4"
  }
 },
 "nbformat": 4,
 "nbformat_minor": 2
}
