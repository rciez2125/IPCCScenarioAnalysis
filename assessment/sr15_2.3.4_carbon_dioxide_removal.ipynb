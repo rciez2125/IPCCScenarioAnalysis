{
 "cells": [
  {
   "cell_type": "markdown",
   "metadata": {},
   "source": [
    "### *IPCC SR15 scenario assessment*\n",
    "\n",
    "<img style=\"float: right; height: 80px; padding-left: 20px;\" src=\"../_static/IIASA_logo.png\">\n",
    "<img style=\"float: right; height: 80px;\" src=\"../_static/IAMC_logo.jpg\">\n",
    "\n",
    "# Analysis of carbon dioxide removal (CDR)\n",
    "\n",
    "This notebook generates the assessment of carbon dioxide removal for **Figure 2.9** in the IPCC's _\"Special Report on Global Warming of 1.5°C\"_.\n",
    "\n",
    "The scenario data used in this analysis can be accessed and downloaded at [https://data.ene.iiasa.ac.at/iamc-1.5c-explorer](https://data.ene.iiasa.ac.at/iamc-1.5c-explorer)."
   ]
  },
  {
   "cell_type": "markdown",
   "metadata": {},
   "source": [
    "## Load `pyam` package and other dependencies"
   ]
  },
  {
   "cell_type": "code",
   "execution_count": 1,
   "metadata": {},
   "outputs": [
    {
     "data": {
      "application/javascript": [
       "IPython.OutputArea.prototype._should_scroll = function(lines) { return false; }"
      ],
      "text/plain": [
       "<IPython.core.display.Javascript object>"
      ]
     },
     "metadata": {},
     "output_type": "display_data"
    }
   ],
   "source": [
    "import pandas as pd\n",
    "import numpy as np\n",
    "import warnings\n",
    "import io\n",
    "import itertools\n",
    "import yaml\n",
    "import math\n",
    "import matplotlib\n",
    "matplotlib.use('TkAgg')\n",
    "import matplotlib.pyplot as plt\n",
    "plt.style.use('style_sr15.mplstyle')\n",
    "%matplotlib inline\n",
    "import pyam"
   ]
  },
  {
   "cell_type": "markdown",
   "metadata": {},
   "source": [
    "## Import scenario data, categorization and specifications files\n",
    "\n",
    "The metadata file must be generated from the notebook `sr15_2.0_categories_indicators` included in this repository.  \n",
    "If the snapshot file has been updated, make sure that you rerun the categorization notebook.\n",
    "\n",
    "The last cell of this section loads and assigns a number of auxiliary lists as defined in the categorization notebook."
   ]
  },
  {
   "cell_type": "code",
   "execution_count": 2,
   "metadata": {},
   "outputs": [
    {
     "name": "stderr",
     "output_type": "stream",
     "text": [
      "INFO:root:Reading `../data/iamc15_scenario_data_world_r1.1.xlsx`\n"
     ]
    }
   ],
   "source": [
    "sr1p5 = pyam.IamDataFrame(data='../data/iamc15_scenario_data_world_r1.1.xlsx')"
   ]
  },
  {
   "cell_type": "code",
   "execution_count": 3,
   "metadata": {},
   "outputs": [
    {
     "name": "stderr",
     "output_type": "stream",
     "text": [
      "INFO:root:Importing metadata for 416 scenarios (for total of 416)\n",
      "INFO:numexpr.utils:NumExpr defaulting to 8 threads.\n"
     ]
    }
   ],
   "source": [
    "sr1p5.load_metadata('../data/sr15_metadata_indicators.xlsx')"
   ]
  },
  {
   "cell_type": "code",
   "execution_count": 4,
   "metadata": {},
   "outputs": [],
   "source": [
    "with open(\"sr15_specs.yaml\", 'r') as stream:\n",
    "    specs = yaml.load(stream, Loader=yaml.FullLoader)\n",
    "\n",
    "rc = pyam.run_control()\n",
    "for item in specs.pop('run_control').items():\n",
    "    rc.update({item[0]: item[1]})\n",
    "cats = specs.pop('cats')\n",
    "all_cats = specs.pop('all_cats')\n",
    "subcats = specs.pop('subcats')\n",
    "all_subcats = specs.pop('all_subcats')\n",
    "plotting_args = specs.pop('plotting_args')\n",
    "marker = specs.pop('marker')"
   ]
  },
  {
   "cell_type": "markdown",
   "metadata": {},
   "source": [
    "## Downselect scenario ensemble to categories of interest for this assessment"
   ]
  },
  {
   "cell_type": "code",
   "execution_count": 5,
   "metadata": {},
   "outputs": [],
   "source": [
    "df = sr1p5.filter(category=all_cats)"
   ]
  },
  {
   "cell_type": "code",
   "execution_count": 6,
   "metadata": {},
   "outputs": [
    {
     "data": {
      "text/plain": [
       "pandas.core.frame.DataFrame"
      ]
     },
     "execution_count": 6,
     "metadata": {},
     "output_type": "execute_result"
    }
   ],
   "source": [
    "#df.data.iloc[:3]\n",
    "df2 = sr1p5\n",
    "type(df2.data)"
   ]
  },
  {
   "cell_type": "markdown",
   "metadata": {},
   "source": [
    "## Set specifications for filter and plotting"
   ]
  },
  {
   "cell_type": "code",
   "execution_count": 7,
   "metadata": {},
   "outputs": [],
   "source": [
    "filter_args = dict(df=sr1p5, category=cats, marker=None, join_meta=True)"
   ]
  },
  {
   "cell_type": "markdown",
   "metadata": {},
   "source": [
    "## Retrieve carbon dioxide emissions and generate two auxiliary variables with net-negative CO2 emissions \n",
    "\n",
    "For easier aggregation of the timeseries later on towards different metrics of carbon dioxide removal, we introduce both a positive net-negative timeseries (A, where the removal of 1Gt CO2 is counted as a positive value) and a timeseries where the sequestered amount is defined as a negative value (B)."
   ]
  },
  {
   "cell_type": "code",
   "execution_count": 8,
   "metadata": {},
   "outputs": [],
   "source": [
    "co2 = df.filter(variable='Emissions|CO2').timeseries()"
   ]
  },
  {
   "cell_type": "code",
   "execution_count": 9,
   "metadata": {},
   "outputs": [
    {
     "data": {
      "text/plain": [
       "Int64Index([2000, 2001, 2002, 2003, 2004, 2005, 2006, 2007, 2008, 2009, 2010,\n",
       "            2011, 2012, 2013, 2014, 2015, 2020, 2025, 2030, 2035, 2040, 2045,\n",
       "            2050, 2055, 2060, 2065, 2070, 2075, 2080, 2085, 2090, 2095, 2100],\n",
       "           dtype='int64')"
      ]
     },
     "execution_count": 9,
     "metadata": {},
     "output_type": "execute_result"
    }
   ],
   "source": [
    "type(co2)\n",
    "co2.columns"
   ]
  },
  {
   "cell_type": "markdown",
   "metadata": {},
   "source": [
    "### A) Net-negative CO2 emissions"
   ]
  },
  {
   "cell_type": "code",
   "execution_count": 10,
   "metadata": {},
   "outputs": [],
   "source": [
    "co2_nn = co2.applymap(lambda x: - min(x, 0)).reset_index()\n",
    "co2_nn.variable = 'Emissions|CO2|Net-negative'"
   ]
  },
  {
   "cell_type": "code",
   "execution_count": 11,
   "metadata": {},
   "outputs": [],
   "source": [
    "co2_nn_df = pyam.IamDataFrame(co2_nn)"
   ]
  },
  {
   "cell_type": "code",
   "execution_count": 12,
   "metadata": {},
   "outputs": [],
   "source": [
    "df.data = df.data.append(co2_nn_df.data, ignore_index=True)"
   ]
  },
  {
   "cell_type": "markdown",
   "metadata": {},
   "source": [
    "### B) Net-negative-negative CO2 emissions"
   ]
  },
  {
   "cell_type": "code",
   "execution_count": 13,
   "metadata": {},
   "outputs": [],
   "source": [
    "co2_nn_neg = co2.applymap(lambda x: min(x, 0)).reset_index()\n",
    "co2_nn_neg.variable = 'Emissions|CO2|Net-negative-negative'"
   ]
  },
  {
   "cell_type": "code",
   "execution_count": 14,
   "metadata": {},
   "outputs": [],
   "source": [
    "co2_nn_neg_df = pyam.IamDataFrame(co2_nn_neg)"
   ]
  },
  {
   "cell_type": "code",
   "execution_count": 15,
   "metadata": {},
   "outputs": [],
   "source": [
    "df.data = df.data.append(co2_nn_neg_df.data, ignore_index=True)"
   ]
  },
  {
   "cell_type": "code",
   "execution_count": 16,
   "metadata": {},
   "outputs": [
    {
     "data": {
      "text/html": [
       "<div>\n",
       "<style scoped>\n",
       "    .dataframe tbody tr th:only-of-type {\n",
       "        vertical-align: middle;\n",
       "    }\n",
       "\n",
       "    .dataframe tbody tr th {\n",
       "        vertical-align: top;\n",
       "    }\n",
       "\n",
       "    .dataframe thead th {\n",
       "        text-align: right;\n",
       "    }\n",
       "</style>\n",
       "<table border=\"1\" class=\"dataframe\">\n",
       "  <thead>\n",
       "    <tr style=\"text-align: right;\">\n",
       "      <th></th>\n",
       "      <th>model</th>\n",
       "      <th>scenario</th>\n",
       "      <th>region</th>\n",
       "      <th>variable</th>\n",
       "      <th>unit</th>\n",
       "      <th>year</th>\n",
       "      <th>value</th>\n",
       "    </tr>\n",
       "  </thead>\n",
       "  <tbody>\n",
       "    <tr>\n",
       "      <td>0</td>\n",
       "      <td>AIM/CGE 2.0</td>\n",
       "      <td>ADVANCE_2020_1.5C-2100</td>\n",
       "      <td>World</td>\n",
       "      <td>AR5 climate diagnostics|Concentration|CO2|FAIR...</td>\n",
       "      <td>ppm</td>\n",
       "      <td>2010</td>\n",
       "      <td>389.102</td>\n",
       "    </tr>\n",
       "    <tr>\n",
       "      <td>1</td>\n",
       "      <td>AIM/CGE 2.0</td>\n",
       "      <td>ADVANCE_2020_1.5C-2100</td>\n",
       "      <td>World</td>\n",
       "      <td>AR5 climate diagnostics|Concentration|CO2|FAIR...</td>\n",
       "      <td>ppm</td>\n",
       "      <td>2011</td>\n",
       "      <td>391.579</td>\n",
       "    </tr>\n",
       "    <tr>\n",
       "      <td>2</td>\n",
       "      <td>AIM/CGE 2.0</td>\n",
       "      <td>ADVANCE_2020_1.5C-2100</td>\n",
       "      <td>World</td>\n",
       "      <td>AR5 climate diagnostics|Concentration|CO2|FAIR...</td>\n",
       "      <td>ppm</td>\n",
       "      <td>2012</td>\n",
       "      <td>394.117</td>\n",
       "    </tr>\n",
       "  </tbody>\n",
       "</table>\n",
       "</div>"
      ],
      "text/plain": [
       "         model                scenario region  \\\n",
       "0  AIM/CGE 2.0  ADVANCE_2020_1.5C-2100  World   \n",
       "1  AIM/CGE 2.0  ADVANCE_2020_1.5C-2100  World   \n",
       "2  AIM/CGE 2.0  ADVANCE_2020_1.5C-2100  World   \n",
       "\n",
       "                                            variable unit  year    value  \n",
       "0  AR5 climate diagnostics|Concentration|CO2|FAIR...  ppm  2010  389.102  \n",
       "1  AR5 climate diagnostics|Concentration|CO2|FAIR...  ppm  2011  391.579  \n",
       "2  AR5 climate diagnostics|Concentration|CO2|FAIR...  ppm  2012  394.117  "
      ]
     },
     "execution_count": 16,
     "metadata": {},
     "output_type": "execute_result"
    }
   ],
   "source": [
    "df.data.iloc[:3]"
   ]
  },
  {
   "cell_type": "markdown",
   "metadata": {},
   "source": [
    "## Retrieve carbon dioxide emissions from agriculture, forestry and land-use"
   ]
  },
  {
   "cell_type": "code",
   "execution_count": 17,
   "metadata": {},
   "outputs": [],
   "source": [
    "co2_afolu = df.filter(variable='Emissions|CO2|AFOLU').timeseries()"
   ]
  },
  {
   "cell_type": "code",
   "execution_count": 18,
   "metadata": {},
   "outputs": [],
   "source": [
    "co_afolu_nn = co2_afolu.applymap(lambda x: - min(x, 0)).reset_index()\n",
    "co_afolu_nn.variable = 'Emissions|CO2|AFOLU|Net-negative'"
   ]
  },
  {
   "cell_type": "code",
   "execution_count": 19,
   "metadata": {},
   "outputs": [],
   "source": [
    "co_afolu_nn_df = pyam.IamDataFrame(co_afolu_nn)"
   ]
  },
  {
   "cell_type": "code",
   "execution_count": 20,
   "metadata": {},
   "outputs": [],
   "source": [
    "df.data = df.data.append(co_afolu_nn_df.data, ignore_index=True)"
   ]
  },
  {
   "cell_type": "markdown",
   "metadata": {},
   "source": [
    "## Determine emissions reductions from land use\n",
    "\n",
    "### Where possible, determine AFOLU CO2 emissions reduction relative to baseline"
   ]
  },
  {
   "cell_type": "code",
   "execution_count": 21,
   "metadata": {},
   "outputs": [],
   "source": [
    "base_mapping = df.meta.reset_index()[['model', 'scenario', 'baseline']].groupby(['model'])"
   ]
  },
  {
   "cell_type": "code",
   "execution_count": 22,
   "metadata": {},
   "outputs": [
    {
     "name": "stderr",
     "output_type": "stream",
     "text": [
      "WARNING:root:Filtered IamDataFrame is empty!\n",
      "WARNING:root:Filtered IamDataFrame is empty!\n",
      "WARNING:root:Filtered IamDataFrame is empty!\n",
      "WARNING:root:Filtered IamDataFrame is empty!\n"
     ]
    }
   ],
   "source": [
    "afolu_cdr_lst = []\n",
    "\n",
    "for mapping in base_mapping:\n",
    "    m = mapping[0]\n",
    "    _df = co_afolu_nn_df.filter(model=m, year=range(2020, 2101))\n",
    "    base_mapping_by_model = mapping[1].groupby(['baseline'])\n",
    "    for _mapping in base_mapping_by_model:\n",
    "        b = _mapping[0]\n",
    "        base = _df.filter(scenario=b).timeseries()\n",
    "        base.index = base.index.droplevel([1, 2, 3, 4])\n",
    "\n",
    "        for s in _mapping[1].scenario:\n",
    "            cdr = _df.filter(scenario=s).timeseries()\n",
    "            cdr.index = cdr.index.droplevel([1, 2, 3, 4])\n",
    "            cdr = cdr - base\n",
    "            cdr['scenario'] = s\n",
    "            afolu_cdr_lst.append(cdr)"
   ]
  },
  {
   "cell_type": "code",
   "execution_count": 23,
   "metadata": {},
   "outputs": [],
   "source": [
    "afolu_cdr = pd.concat(afolu_cdr_lst, sort=False).reset_index()\n",
    "afolu_cdr['region'] = 'World'\n",
    "afolu_cdr['variable'] = 'Emissions|CO2|AFOLU|Net-negative reduction'\n",
    "afolu_cdr['unit'] = 'MtCO2'"
   ]
  },
  {
   "cell_type": "code",
   "execution_count": 24,
   "metadata": {},
   "outputs": [],
   "source": [
    "afolu_cdr_df = pyam.IamDataFrame(afolu_cdr)"
   ]
  },
  {
   "cell_type": "markdown",
   "metadata": {},
   "source": [
    "### For scenarios that do not provide a baseline, use the self-reported land-iuse carbon sequestration timeseries"
   ]
  },
  {
   "cell_type": "code",
   "execution_count": 25,
   "metadata": {},
   "outputs": [],
   "source": [
    "alofu_cdr_direct_df = df.filter(variable='Carbon Sequestration|Land Use',\n",
    "                                scenario=['PEP*', 'IMA15*', 'LowEnergyDemand'],\n",
    "                                year=range(2020, 2101)\n",
    "                               )"
   ]
  },
  {
   "cell_type": "markdown",
   "metadata": {},
   "source": [
    "### Check that methods 1 and 2 do not overlap, then merge"
   ]
  },
  {
   "cell_type": "code",
   "execution_count": 26,
   "metadata": {},
   "outputs": [],
   "source": [
    "if not afolu_cdr_df.meta.index.intersection(alofu_cdr_direct_df.meta.index).empty:\n",
    "    print('There is an overlap of index sets!')"
   ]
  },
  {
   "cell_type": "code",
   "execution_count": 27,
   "metadata": {},
   "outputs": [],
   "source": [
    "afolu_cdr_df.data = afolu_cdr_df.data.append(alofu_cdr_direct_df.data, ignore_index=True)"
   ]
  },
  {
   "cell_type": "markdown",
   "metadata": {},
   "source": [
    "## Remove 'Carbon Sequestration|Land Use' from `IamDataFrame` and merge in alternative metrics"
   ]
  },
  {
   "cell_type": "code",
   "execution_count": 28,
   "metadata": {},
   "outputs": [],
   "source": [
    "df.filter(variable='Carbon Sequestration|Land Use', keep=False, inplace=True)"
   ]
  },
  {
   "cell_type": "code",
   "execution_count": 29,
   "metadata": {
    "scrolled": true
   },
   "outputs": [],
   "source": [
    "df.data = df.data.append(afolu_cdr_df.data, ignore_index=True)"
   ]
  },
  {
   "cell_type": "code",
   "execution_count": 30,
   "metadata": {},
   "outputs": [],
   "source": [
    "df.rename({'variable': {'Carbon Sequestration|Land Use': 'AFOLU CDR',\n",
    "                        'Emissions|CO2|AFOLU|Net-negative reduction': 'AFOLU CDR'}}, inplace=True)"
   ]
  },
  {
   "cell_type": "code",
   "execution_count": 31,
   "metadata": {},
   "outputs": [
    {
     "name": "stderr",
     "output_type": "stream",
     "text": [
      "INFO:root:82 scenarios do not include required variable `AFOLU CDR`, marked as `exclude: True` in metadata\n"
     ]
    }
   ],
   "source": [
    "exclude_no_afolue_cdr = df.require_variable('AFOLU CDR', exclude_on_fail=True)"
   ]
  },
  {
   "cell_type": "code",
   "execution_count": 32,
   "metadata": {},
   "outputs": [],
   "source": [
    "df.filter(exclude=False, inplace=True)"
   ]
  },
  {
   "cell_type": "markdown",
   "metadata": {},
   "source": [
    "## Rename variables for plots"
   ]
  },
  {
   "cell_type": "code",
   "execution_count": 33,
   "metadata": {},
   "outputs": [],
   "source": [
    "variable_mapping = [\n",
    "    ('Total CDR', [\n",
    "        'Carbon Sequestration|CCS|Biomass',\n",
    "        'AFOLU CDR',\n",
    "        'Carbon Sequestration|Direct Air Capture',\n",
    "        'Carbon Sequestration|Enhanced Weathering']),\n",
    "    ('AFOLU CDR', 'AFOLU CDR'),\n",
    "    ('BECCS', 'Carbon Sequestration|CCS|Biomass'),\n",
    "    ('Net negative CO2', 'Emissions|CO2|Net-negative'),\n",
    "    ('Compensate CDR', [\n",
    "        'Carbon Sequestration|CCS|Biomass',\n",
    "        'AFOLU CDR',\n",
    "        'Carbon Sequestration|Direct Air Capture',\n",
    "        'Carbon Sequestration|Enhanced Weathering',\n",
    "        'Emissions|CO2|Net-negative-negative'])\n",
    "]"
   ]
  },
  {
   "cell_type": "code",
   "execution_count": 34,
   "metadata": {},
   "outputs": [],
   "source": [
    "valid_variables = []\n",
    "for (name, variable) in variable_mapping:\n",
    "    if pyam.isstr(variable):\n",
    "        valid_variables.append(variable)\n",
    "    else:\n",
    "        for v in variable:\n",
    "            valid_variables.append(v)"
   ]
  },
  {
   "cell_type": "code",
   "execution_count": 35,
   "metadata": {},
   "outputs": [],
   "source": [
    "df.filter(variable=valid_variables, inplace=True)"
   ]
  },
  {
   "cell_type": "code",
   "execution_count": 36,
   "metadata": {},
   "outputs": [],
   "source": [
    "df.data.iloc[:25]\n",
    "# save to an excel file\n",
    "\n",
    "df.data.to_csv('output/CCSBySource.csv')"
   ]
  },
  {
   "cell_type": "markdown",
   "metadata": {},
   "source": [
    "## Plot by warming category with multiple last years"
   ]
  },
  {
   "cell_type": "code",
   "execution_count": 37,
   "metadata": {},
   "outputs": [],
   "source": [
    "cats.remove('Above 2C')"
   ]
  },
  {
   "cell_type": "code",
   "execution_count": 38,
   "metadata": {},
   "outputs": [],
   "source": [
    "def marker_args(m):\n",
    "    return dict(zorder=4,\n",
    "                edgecolors=rc['edgecolors']['marker'][m],\n",
    "                c=rc['c']['marker'][m],\n",
    "                marker=rc['marker']['marker'][m],\n",
    "                linewidths=1)"
   ]
  },
  {
   "cell_type": "code",
   "execution_count": 75,
   "metadata": {
    "scrolled": true
   },
   "outputs": [],
   "source": [
    "def boxplot_cumulative_ccs(ymax, last_year, panel_label, legend=True): # should be able to include categories like this\n",
    "    fig = plt.figure(figsize=(8, 3))\n",
    "\n",
    "    _cats = len(cats) - 1\n",
    "    label_list = []\n",
    "    for i, (name, v) in enumerate(variable_mapping):\n",
    "        _df = df.filter(variable=v, year=range(2020, 2101, 10)).timeseries() / 1000 # gigatons \n",
    "        _df = _df.groupby(['model', 'scenario']).sum()\n",
    "        _df = pd.DataFrame(_df.apply(pyam.cumulative, raw=False, axis=1, first_year=2020, last_year=last_year))\n",
    "        _df = pyam.filter_by_meta(_df, df, category=cats, marker=None, join_meta=True)\n",
    "\n",
    "        for j, c in enumerate(cats):\n",
    "            __df = _df[_df.category == c]\n",
    "            \n",
    "            lst = __df[0][~np.isnan(__df[0])]\n",
    "            pos = 0.5 / _cats * (j - _cats / 2) + i\n",
    "\n",
    "            outliers = len(lst[lst > ymax])\n",
    "            if outliers > 0:\n",
    "                plt.text(pos - 0.01 * len(cats), ymax * 1.01, outliers)\n",
    "\n",
    "            p = plt.boxplot(lst, positions=[pos], widths=(0.3 / _cats),\n",
    "                            whis='range',\n",
    "                            patch_artist=True)\n",
    "            plt.setp(p['boxes'], color=rc['color']['category'][c])\n",
    "            plt.setp(p['medians'], color='black')\n",
    "\n",
    "            for m in marker:\n",
    "                val = __df.loc[_df.marker == m, 0]\n",
    "                if not val.empty:\n",
    "                    plt.scatter(x=pos, y=val, **marker_args(m),\n",
    "                                s=40, label=None)\n",
    "\n",
    "        label_list.append(name)\n",
    "\n",
    "    for m in marker:\n",
    "        meta = df.filter(marker=m).timeseries()\n",
    "        if not meta.empty:\n",
    "            meta = meta.iloc[0].name[0:2]\n",
    "            plt.scatter(x=[], y=[], **marker_args(m), s=60, label=m)\n",
    "\n",
    "    for j, c in enumerate(cats):\n",
    "        plt.plot([], c=rc['color']['category'][c], label='{}'.format(c))\n",
    "\n",
    "    if legend:\n",
    "        plt.legend()\n",
    "\n",
    "    plt.grid(False)\n",
    "    plt.xlim(-0.6, (i + 0.6))\n",
    "    plt.xticks(range(0, i + 1), label_list)\n",
    "    plt.vlines(x=[_i + 0.5 for _i in range(i)], ymin=0, ymax=ymax, colors='white')\n",
    "    plt.ylim(0, ymax)\n",
    "    plt.ylabel('Cumulative CO2 until {} (GtCO2)'.format(last_year))\n",
    "\n",
    "    fig.savefig('output/fig2.9{}_cdr_{}.png'.format(panel_label, last_year))"
   ]
  },
  {
   "cell_type": "code",
   "execution_count": 76,
   "metadata": {},
   "outputs": [
    {
     "name": "stdout",
     "output_type": "stream",
     "text": [
      "Total CDR ['Carbon Sequestration|CCS|Biomass', 'AFOLU CDR', 'Carbon Sequestration|Direct Air Capture', 'Carbon Sequestration|Enhanced Weathering']\n",
      "name Total CDR\n",
      "v ['Carbon Sequestration|CCS|Biomass', 'AFOLU CDR', 'Carbon Sequestration|Direct Air Capture', 'Carbon Sequestration|Enhanced Weathering']\n",
      "(650, 9)\n",
      "(334, 9)\n",
      "(334, 1)\n",
      "(209, 3)\n",
      "AFOLU CDR AFOLU CDR\n",
      "name AFOLU CDR\n",
      "v AFOLU CDR\n",
      "(334, 9)\n",
      "(334, 9)\n",
      "(334, 1)\n",
      "(209, 3)\n",
      "BECCS Carbon Sequestration|CCS|Biomass\n",
      "name BECCS\n",
      "v Carbon Sequestration|CCS|Biomass\n",
      "(302, 9)\n",
      "(302, 9)\n",
      "(302, 1)\n",
      "(188, 3)\n",
      "Net negative CO2 Emissions|CO2|Net-negative\n",
      "name Net negative CO2\n",
      "v Emissions|CO2|Net-negative\n",
      "(334, 9)\n",
      "(334, 9)\n",
      "(334, 1)\n",
      "(209, 3)\n",
      "Compensate CDR ['Carbon Sequestration|CCS|Biomass', 'AFOLU CDR', 'Carbon Sequestration|Direct Air Capture', 'Carbon Sequestration|Enhanced Weathering', 'Emissions|CO2|Net-negative-negative']\n",
      "name Compensate CDR\n",
      "v ['Carbon Sequestration|CCS|Biomass', 'AFOLU CDR', 'Carbon Sequestration|Direct Air Capture', 'Carbon Sequestration|Enhanced Weathering', 'Emissions|CO2|Net-negative-negative']\n",
      "(984, 9)\n",
      "(334, 9)\n",
      "(334, 1)\n",
      "(209, 3)\n"
     ]
    },
    {
     "data": {
      "image/png": "[encoded data removed]",
      "text/plain": [
       "<Figure size 576x216 with 1 Axes>"
      ]
     },
     "metadata": {
      "needs_background": "light"
     },
     "output_type": "display_data"
    }
   ],
   "source": [
    "boxplot_cumulative_ccs(340, 2050, 'a')"
   ]
  },
  {
   "cell_type": "code",
   "execution_count": 83,
   "metadata": {},
   "outputs": [
    {
     "name": "stdout",
     "output_type": "stream",
     "text": [
      "Total CDR ['Carbon Sequestration|CCS|Biomass', 'AFOLU CDR', 'Carbon Sequestration|Direct Air Capture', 'Carbon Sequestration|Enhanced Weathering']\n",
      "name Total CDR\n",
      "v ['Carbon Sequestration|CCS|Biomass', 'AFOLU CDR', 'Carbon Sequestration|Direct Air Capture', 'Carbon Sequestration|Enhanced Weathering']\n",
      "(650, 9)\n",
      "(334, 9)\n",
      "(334, 1)\n",
      "(209, 3)\n",
      "AFOLU CDR AFOLU CDR\n",
      "name AFOLU CDR\n",
      "v AFOLU CDR\n",
      "(334, 9)\n",
      "(334, 9)\n",
      "(334, 1)\n",
      "(209, 3)\n",
      "BECCS Carbon Sequestration|CCS|Biomass\n",
      "name BECCS\n",
      "v Carbon Sequestration|CCS|Biomass\n",
      "(302, 9)\n",
      "(302, 9)\n",
      "(302, 1)\n",
      "(188, 3)\n",
      "Net negative CO2 Emissions|CO2|Net-negative\n",
      "name Net negative CO2\n",
      "v Emissions|CO2|Net-negative\n",
      "(334, 9)\n",
      "(334, 9)\n",
      "(334, 1)\n",
      "(209, 3)\n",
      "Compensate CDR ['Carbon Sequestration|CCS|Biomass', 'AFOLU CDR', 'Carbon Sequestration|Direct Air Capture', 'Carbon Sequestration|Enhanced Weathering', 'Emissions|CO2|Net-negative-negative']\n",
      "name Compensate CDR\n",
      "v ['Carbon Sequestration|CCS|Biomass', 'AFOLU CDR', 'Carbon Sequestration|Direct Air Capture', 'Carbon Sequestration|Enhanced Weathering', 'Emissions|CO2|Net-negative-negative']\n",
      "(984, 9)\n",
      "(334, 9)\n",
      "(334, 1)\n",
      "(209, 3)\n"
     ]
    },
    {
     "data": {
      "image/png": "[encoded data removed]",
      "text/plain": [
       "<Figure size 576x216 with 1 Axes>"
      ]
     },
     "metadata": {
      "needs_background": "light"
     },
     "output_type": "display_data"
    }
   ],
   "source": [
    "boxplot_cumulative_ccs(1250, 2100, 'b', legend=False)"
   ]
  },
  {
   "cell_type": "markdown",
   "metadata": {},
   "source": [
    "## Export timeseries data to `xlsx`"
   ]
  },
  {
   "cell_type": "code",
   "execution_count": 84,
   "metadata": {},
   "outputs": [
    {
     "data": {
      "text/plain": [
       "[('Total CDR',\n",
       "  ['Carbon Sequestration|CCS|Biomass',\n",
       "   'AFOLU CDR',\n",
       "   'Carbon Sequestration|Direct Air Capture',\n",
       "   'Carbon Sequestration|Enhanced Weathering']),\n",
       " ('AFOLU CDR', 'AFOLU CDR'),\n",
       " ('BECCS', 'Carbon Sequestration|CCS|Biomass'),\n",
       " ('Net negative CO2', 'Emissions|CO2|Net-negative'),\n",
       " ('Compensate CDR',\n",
       "  ['Carbon Sequestration|CCS|Biomass',\n",
       "   'AFOLU CDR',\n",
       "   'Carbon Sequestration|Direct Air Capture',\n",
       "   'Carbon Sequestration|Enhanced Weathering',\n",
       "   'Emissions|CO2|Net-negative-negative'])]"
      ]
     },
     "execution_count": 84,
     "metadata": {},
     "output_type": "execute_result"
    }
   ],
   "source": [
    "variable_mapping"
   ]
  },
  {
   "cell_type": "code",
   "execution_count": 85,
   "metadata": {},
   "outputs": [
    {
     "data": {
      "text/plain": [
       "['Below 1.5C',\n",
       " '1.5C low overshoot',\n",
       " '1.5C high overshoot',\n",
       " 'Lower 2C',\n",
       " 'Higher 2C']"
      ]
     },
     "execution_count": 85,
     "metadata": {},
     "output_type": "execute_result"
    }
   ],
   "source": [
    "cats"
   ]
  },
  {
   "cell_type": "code",
   "execution_count": 86,
   "metadata": {},
   "outputs": [],
   "source": [
    "df.to_excel('output/fig2.9_data_table.xlsx')"
   ]
  },
  {
   "cell_type": "code",
   "execution_count": 113,
   "metadata": {},
   "outputs": [],
   "source": [
    "def exportDataExcel(last_year): # should be able to include categories like this\n",
    "    _cats = len(cats) - 1\n",
    "    label_list = []\n",
    "    \n",
    "    for i, (name, v) in enumerate(variable_mapping):\n",
    "        _df = df.filter(variable=v, year=range(2020, 2101, 5)).timeseries() / 1000\n",
    "        _df = _df.groupby(['model', 'scenario']).sum()\n",
    "        _df = pyam.filter_by_meta(_df, df, category=cats, marker=None, join_meta=True)\n",
    "\n",
    "        for j, c in enumerate(cats):\n",
    "            __df = _df[_df.category == c]\n",
    "            __df.to_csv(('output/fig2.9_data_table' + name + c + '.csv'))"
   ]
  },
  {
   "cell_type": "code",
   "execution_count": 114,
   "metadata": {},
   "outputs": [],
   "source": [
    "exportDataExcel(2100)"
   ]
  },
  {
   "cell_type": "code",
   "execution_count": 153,
   "metadata": {},
   "outputs": [
    {
     "name": "stdout",
     "output_type": "stream",
     "text": [
      "Index(['model', 'scenario', '2020', '2025', '2030', '2035', '2040', '2045',\n",
      "       '2050', '2055', '2060', '2065', '2070', '2075', '2080', '2085', '2090',\n",
      "       '2095', '2100', 'category', 'marker', 'Variable'],\n",
      "      dtype='object')\n"
     ]
    }
   ],
   "source": [
    "x = pd.read_csv(('output/fig2.9_data_tableTotal CDR1.5C low overshoot.csv'))\n",
    "x['Variable'] = name\n",
    "cols = x.columns\n",
    "print(cols)\n",
    "\n",
    "def combineData():\n",
    "    a = pd.DataFrame(columns=cols)\n",
    "    for i, (name, v) in enumerate(variable_mapping):\n",
    "        for j, c in enumerate(cats):\n",
    "            x = pd.read_csv(('output/fig2.9_data_table' + name + c + '.csv'))\n",
    "            x['Variable'] = name\n",
    "            a = pd.concat([a, x])\n",
    "    print(a.shape)\n",
    "    a = a.sort_values(['model', 'scenario'], ascending = (True, False))\n",
    "    a.to_csv('output/CombinedCsvsWithOutcome.csv')"
   ]
  },
  {
   "cell_type": "code",
   "execution_count": 154,
   "metadata": {},
   "outputs": [
    {
     "name": "stdout",
     "output_type": "stream",
     "text": [
      "(1024, 22)\n"
     ]
    }
   ],
   "source": [
    "combineData()"
   ]
  },
  {
   "cell_type": "code",
   "execution_count": null,
   "metadata": {},
   "outputs": [],
   "source": []
  }
 ],
 "metadata": {
  "kernelspec": {
   "display_name": "Python 3",
   "language": "python",
   "name": "python3"
  },
  "language_info": {
   "codemirror_mode": {
    "name": "ipython",
    "version": 3
   },
   "file_extension": ".py",
   "mimetype": "text/x-python",
   "name": "python",
   "nbconvert_exporter": "python",
   "pygments_lexer": "ipython3",
   "version": "3.7.4"
  }
 },
 "nbformat": 4,
 "nbformat_minor": 2
}
