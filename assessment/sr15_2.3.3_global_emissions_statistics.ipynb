{
 "cells": [
  {
   "cell_type": "markdown",
   "metadata": {},
   "source": [
    "### *IPCC SR15 scenario assessment*\n",
    "\n",
    "<img style=\"float: right; height: 80px; padding-left: 20px;\" src=\"../_static/IIASA_logo.png\">\n",
    "<img style=\"float: right; height: 80px;\" src=\"../_static/IAMC_logo.jpg\">\n",
    "\n",
    "# Analysis of global CO2 and Kyoto emissions, (BE)CCS <br /> and year of net-zero\n",
    "\n",
    "This notebook computes indicators and diagnostics of emissions pathways, the use of carbon capture and sequestration, and the timing of net-zero of different emissions categories \n",
    "in the IPCC's _\"Special Report on Global Warming of 1.5°C\"_. The notebook generates the data for **Table 2.4** in the Special Report.\n",
    "\n",
    "The scenario data used in this analysis can be accessed and downloaded at [https://data.ene.iiasa.ac.at/iamc-1.5c-explorer](https://data.ene.iiasa.ac.at/iamc-1.5c-explorer)."
   ]
  },
  {
   "cell_type": "markdown",
   "metadata": {},
   "source": [
    "## Load `pyam` package and other dependencies"
   ]
  },
  {
   "cell_type": "code",
   "execution_count": null,
   "metadata": {},
   "outputs": [],
   "source": [
    "import pandas as pd\n",
    "import numpy as np\n",
    "import warnings\n",
    "import io\n",
    "import itertools\n",
    "import yaml\n",
    "import math\n",
    "import pyam"
   ]
  },
  {
   "cell_type": "markdown",
   "metadata": {},
   "source": [
    "## Import scenario data, categorization and specifications files\n",
    "\n",
    "The metadata file must be generated from the notebook `sr15_2.0_categories_indicators` included in this repository.  \n",
    "If the snapshot file has been updated, make sure that you rerun the categorization notebook.\n",
    "\n",
    "The last cell of this section loads and assigns a number of auxiliary lists as defined in the categorization notebook."
   ]
  },
  {
   "cell_type": "code",
   "execution_count": null,
   "metadata": {},
   "outputs": [],
   "source": [
    "sr1p5 = pyam.IamDataFrame(data='../data/iamc15_scenario_data_world_r1.1.xlsx')"
   ]
  },
  {
   "cell_type": "code",
   "execution_count": null,
   "metadata": {},
   "outputs": [],
   "source": [
    "sr1p5.load_metadata('sr15_metadata_indicators.xlsx')"
   ]
  },
  {
   "cell_type": "code",
   "execution_count": null,
   "metadata": {},
   "outputs": [],
   "source": [
    "with open(\"sr15_specs.yaml\", 'r') as stream:\n",
    "    specs = yaml.load(stream, Loader=yaml.FullLoader)\n",
    "\n",
    "rc = pyam.run_control()\n",
    "for item in specs.pop('run_control').items():\n",
    "    rc.update({item[0]: item[1]})\n",
    "cats = specs.pop('cats')\n",
    "cats_15_no_lo = specs.pop('cats_15_no_lo')"
   ]
  },
  {
   "cell_type": "markdown",
   "metadata": {},
   "source": [
    "## Downselect scenario ensemble to categories of interest for this assessment\n",
    "\n",
    "To reduce potential bias by many scenarios from the same modelling framework, 13 scenarios submitted by the 'AIM' model are excluded from the assessment underpinning this statement (cf. SPM Statement C1).\n",
    "\n",
    "Also, note that we apply the filter by relevant years *after computing the year of netzero*."
   ]
  },
  {
   "cell_type": "code",
   "execution_count": null,
   "metadata": {},
   "outputs": [],
   "source": [
    "cats.remove('Above 2C')"
   ]
  },
  {
   "cell_type": "code",
   "execution_count": null,
   "metadata": {},
   "outputs": [],
   "source": [
    "sr1p5.meta.rename(columns={'Kyoto-GHG|2010 (SAR)': 'kyoto_ghg_2010'}, inplace=True)"
   ]
  },
  {
   "cell_type": "code",
   "execution_count": null,
   "metadata": {},
   "outputs": [],
   "source": [
    "filter_args_aim = dict(model='AIM*',\n",
    "                       scenario=['SFCM*_1p5Degree', 'EMF33_Med2C_nofuel', 'EMF33_Med2C_none'],\n",
    "                       keep=False)"
   ]
  },
  {
   "cell_type": "code",
   "execution_count": null,
   "metadata": {},
   "outputs": [],
   "source": [
    "df = (\n",
    "    sr1p5\n",
    "    .filter(kyoto_ghg_2010='in range', category=cats)\n",
    "    .filter(**filter_args_aim)\n",
    ")"
   ]
  },
  {
   "cell_type": "markdown",
   "metadata": {},
   "source": [
    "## Initialize a `pyam.Statistics` instance"
   ]
  },
  {
   "cell_type": "code",
   "execution_count": null,
   "metadata": {},
   "outputs": [],
   "source": [
    "stats = pyam.Statistics(df=df,\n",
    "                        filters=[\n",
    "                            ('below 1.5', {'category': 'Below 1.5C'}),\n",
    "                            ('lo os 1.5', {'category': '1.5C low overshoot'}),\n",
    "                            ('no & lo os 1.5', {'category': cats_15_no_lo}),\n",
    "                            ('hi os 1.5', {'category': ['1.5C high overshoot']}),\n",
    "                            ('lower 2.0', {'category': ['Lower 2C']}),\n",
    "                            ('higher 2.0', {'category': ['Higher 2C']})]\n",
    "                        , rows=True)"
   ]
  },
  {
   "cell_type": "code",
   "execution_count": null,
   "metadata": {},
   "outputs": [],
   "source": [
    "years = [2030, 2050, 2100]\n",
    "compare_years = [(2010, 2030), (2020, 2030), (2030, 2050)]"
   ]
  },
  {
   "cell_type": "markdown",
   "metadata": {},
   "source": [
    "## Function to compute the year of netzero and add growth statistics to the summary"
   ]
  },
  {
   "cell_type": "code",
   "execution_count": null,
   "metadata": {},
   "outputs": [],
   "source": [
    "def year_of_net_zero(data, years, threshold):\n",
    "    prev_val = 0\n",
    "    prev_yr = np.nan\n",
    "\n",
    "    for yr, val in zip(years, data):\n",
    "        if np.isnan(val):\n",
    "            continue\n",
    "        \n",
    "        if val < threshold:\n",
    "            x = (val - prev_val) / (yr - prev_yr) # absolute change per year\n",
    "            return prev_yr + int((threshold - prev_val) / x) + 1 # add one because int() rounds down\n",
    "        \n",
    "        prev_val = val\n",
    "        prev_yr = yr\n",
    "    return np.inf"
   ]
  },
  {
   "cell_type": "code",
   "execution_count": null,
   "metadata": {},
   "outputs": [],
   "source": [
    "header='Annual emissions/sequestration (GtCO2)'\n",
    "header_change='Absolute annual change (GtCO2)'\n",
    "header_zero='Timing of global zero'\n",
    "\n",
    "statistics_settings = dict(\n",
    "    header=header,\n",
    "    header_change=header_change,\n",
    "    header_zero= header_zero,\n",
    "    years=years,\n",
    "    compare_years=[(2010, 2030), (2020, 2030), (2030, 2050)],\n",
    ")"
   ]
  },
  {
   "cell_type": "code",
   "execution_count": null,
   "metadata": {},
   "outputs": [],
   "source": [
    "def add_statistics(data, row, years, compare_years,\n",
    "                  header, header_change, header_zero, add_netzero=False):\n",
    "    stats.add(data[years], header=header, row=row)\n",
    "    for i, j in compare_years:\n",
    "        abs_ann_change = (data[j] - data[i]) / (j - i)\n",
    "        stats.add(abs_ann_change, header=header_change, row=row,\n",
    "                       subheader='{}-{}'.format(i,j))\n",
    "    if add_netzero:\n",
    "        netzero = data.apply(year_of_net_zero, years=data.columns, threshold=0, axis=1)\n",
    "        stats.add(netzero, header=header_zero, row=row, subheader='year')"
   ]
  },
  {
   "cell_type": "markdown",
   "metadata": {},
   "source": [
    "## Get timeseries of total CO2 emissions"
   ]
  },
  {
   "cell_type": "code",
   "execution_count": null,
   "metadata": {},
   "outputs": [],
   "source": [
    "co2 = (\n",
    "    df.filter(variable='Emissions|CO2')\n",
    "    .convert_unit({'Mt CO2/yr': ('Gt CO2/yr', 0.001)})\n",
    "    .timeseries()\n",
    ")"
   ]
  },
  {
   "cell_type": "code",
   "execution_count": null,
   "metadata": {},
   "outputs": [],
   "source": [
    "add_statistics(co2, 'Total CO2 (net)', **statistics_settings, add_netzero=True)"
   ]
  },
  {
   "cell_type": "code",
   "execution_count": null,
   "metadata": {},
   "outputs": [],
   "source": [
    "co2_gross_seq_variables = [\n",
    "    'Carbon Sequestration|CCS|Biomass',\n",
    "    'Carbon Sequestration|Land Use',\n",
    "    'Carbon Sequestration|Direct Air Capture',\n",
    "    'Carbon Sequestration|Enhanced Weathering'\n",
    "]\n",
    "agg_sequestration = (\n",
    "    df.filter(variable=co2_gross_seq_variables)\n",
    "    .convert_unit({'Mt CO2/yr': ('Gt CO2/yr', 0.001)})\n",
    "    .timeseries()\n",
    ")\n",
    "agg_sequestration = agg_sequestration.groupby(pyam.META_IDX).sum()"
   ]
  },
  {
   "cell_type": "code",
   "execution_count": null,
   "metadata": {},
   "outputs": [],
   "source": [
    "co2_ene_ind = (\n",
    "    df.filter(variable='Emissions|CO2|Energy and Industrial Processes')\n",
    "    .convert_unit({'Mt CO2/yr': ('Gt CO2/yr', 0.001)})\n",
    "    .timeseries()\n",
    ")\n",
    "co2_ene_ind.index = co2_ene_ind.index.droplevel([2, 3, 4])"
   ]
  },
  {
   "cell_type": "code",
   "execution_count": null,
   "metadata": {},
   "outputs": [],
   "source": [
    "co2_ene_ind_gross = (co2_ene_ind + agg_sequestration).combine_first(co2_ene_ind)"
   ]
  },
  {
   "cell_type": "code",
   "execution_count": null,
   "metadata": {},
   "outputs": [],
   "source": [
    "add_statistics(co2_ene_ind_gross, 'CO2 from fossil fuels and industry (gross)', **statistics_settings)"
   ]
  },
  {
   "cell_type": "code",
   "execution_count": null,
   "metadata": {},
   "outputs": [],
   "source": [
    "add_statistics(co2_ene_ind, 'CO2 from fossil fuels and industry (net)', **statistics_settings)"
   ]
  },
  {
   "cell_type": "code",
   "execution_count": null,
   "metadata": {},
   "outputs": [],
   "source": [
    "co2_afolu = (\n",
    "    df.filter(variable='Emissions|CO2|AFOLU')\n",
    "    .convert_unit({'Mt CO2/yr': ('Gt CO2/yr', 0.001)})\n",
    "    .timeseries()\n",
    ")"
   ]
  },
  {
   "cell_type": "code",
   "execution_count": null,
   "metadata": {},
   "outputs": [],
   "source": [
    "add_statistics(co2_afolu, 'CO2 from AFOLU', **statistics_settings)"
   ]
  },
  {
   "cell_type": "markdown",
   "metadata": {},
   "source": [
    "## CCS from bioenergy"
   ]
  },
  {
   "cell_type": "code",
   "execution_count": null,
   "metadata": {},
   "outputs": [],
   "source": [
    "ccs_bio = (\n",
    "    df.filter(variable='Carbon Sequestration|CCS|Biomass')\n",
    "    .convert_unit({'Mt CO2/yr': ('Gt CO2/yr', 0.001)})\n",
    "    .timeseries()\n",
    ")"
   ]
  },
  {
   "cell_type": "code",
   "execution_count": null,
   "metadata": {},
   "outputs": [],
   "source": [
    "add_statistics(ccs_bio, 'Bioenergy combined with carbon capture and storage (BECCS)',**statistics_settings)"
   ]
  },
  {
   "cell_type": "markdown",
   "metadata": {},
   "source": [
    "## Total greenhouse gases according to the Kyoto protocol"
   ]
  },
  {
   "cell_type": "code",
   "execution_count": null,
   "metadata": {},
   "outputs": [],
   "source": [
    "ghg = (\n",
    "    df.filter(variable='Emissions|Kyoto Gases (AR4-GWP100)')\n",
    "    .convert_unit({'Mt CO2-equiv/yr': ('Gt CO2-equiv/yr', 0.001)})\n",
    "    .timeseries()\n",
    ")"
   ]
  },
  {
   "cell_type": "code",
   "execution_count": null,
   "metadata": {},
   "outputs": [],
   "source": [
    "add_statistics(ghg, 'Kyoto GHG (AR4, GtCO2e)', **statistics_settings, add_netzero=True)"
   ]
  },
  {
   "cell_type": "markdown",
   "metadata": {},
   "source": [
    "## Display and export summary statistics to `xlsx`\n",
    "\n",
    "Note that in Table 2.4 as printed in the Special Report, the full range is shown for any cells with less than 7 scenarios, and interquartile ranges are shown otherwise.\n",
    "This formatting was implemented manually ex-post, as it is currently not supported by the `pyam.Statistics` module."
   ]
  },
  {
   "cell_type": "code",
   "execution_count": null,
   "metadata": {},
   "outputs": [],
   "source": [
    "summary = stats.summarize(center='median', interquartile=True, custom_format='{:.1f}')\n",
    "index = summary.index.get_level_values(1).unique()\n",
    "summary = (\n",
    "    summary\n",
    "    .swaplevel(0, 1, axis=0)\n",
    "    .reindex(index=index, level=0)\n",
    ")\n",
    "summary"
   ]
  },
  {
   "cell_type": "code",
   "execution_count": null,
   "metadata": {},
   "outputs": [],
   "source": [
    "summary.to_excel('output/table_2.4_emission_statistics.xlsx')"
   ]
  },
  {
   "cell_type": "code",
   "execution_count": null,
   "metadata": {},
   "outputs": [],
   "source": []
  }
 ],
 "metadata": {
  "kernelspec": {
   "display_name": "Python [default]",
   "language": "python",
   "name": "python3"
  },
  "language_info": {
   "codemirror_mode": {
    "name": "ipython",
    "version": 3
   },
   "file_extension": ".py",
   "mimetype": "text/x-python",
   "name": "python",
   "nbconvert_exporter": "python",
   "pygments_lexer": "ipython3",
   "version": "3.6.6"
  }
 },
 "nbformat": 4,
 "nbformat_minor": 2
}
