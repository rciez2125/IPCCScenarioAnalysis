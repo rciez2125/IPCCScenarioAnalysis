{
 "cells": [
  {
   "cell_type": "markdown",
   "metadata": {},
   "source": [
    "### *IPCC SR15 scenario assessment*\n",
    "\n",
    "<img style=\"float: right; height: 80px; padding-left: 20px;\" src=\"../_static/IIASA_logo.png\">\n",
    "<img style=\"float: right; height: 80px;\" src=\"../_static/IAMC_logo.jpg\">\n",
    "\n",
    "# Descriptive statistics of the primary energy development\n",
    "\n",
    "This notebook computes indicators and diagnostics of the primary-energy timeseries by fuel\n",
    "for **Table 2.6** in the IPCC's _\"Special Report on Global Warming of 1.5°C\"_.\n",
    "\n",
    "The scenario data used in this analysis can be accessed and downloaded at [https://data.ene.iiasa.ac.at/iamc-1.5c-explorer](https://data.ene.iiasa.ac.at/iamc-1.5c-explorer)."
   ]
  },
  {
   "cell_type": "markdown",
   "metadata": {},
   "source": [
    "## Load `pyam` package and other dependencies"
   ]
  },
  {
   "cell_type": "code",
   "execution_count": null,
   "metadata": {},
   "outputs": [],
   "source": [
    "import pandas as pd\n",
    "import numpy as np\n",
    "import warnings\n",
    "import io\n",
    "import itertools\n",
    "import yaml\n",
    "import math\n",
    "import matplotlib.pyplot as plt\n",
    "plt.style.use('style_sr15.mplstyle')\n",
    "%matplotlib inline\n",
    "import pyam"
   ]
  },
  {
   "cell_type": "markdown",
   "metadata": {},
   "source": [
    "## Import scenario data, categorization and specifications files\n",
    "\n",
    "The metadata file must be generated from the notebook `sr15_2.0_categories_indicators` included in this repository.  \n",
    "If the snapshot file has been updated, make sure that you rerun the categorization notebook.\n",
    "\n",
    "The last cell of this section loads and assigns a number of auxiliary lists as defined in the categorization notebook."
   ]
  },
  {
   "cell_type": "code",
   "execution_count": null,
   "metadata": {},
   "outputs": [],
   "source": [
    "sr1p5 = pyam.IamDataFrame(data='../data/iamc15_scenario_data_world_r1.1.xlsx')"
   ]
  },
  {
   "cell_type": "code",
   "execution_count": null,
   "metadata": {},
   "outputs": [],
   "source": [
    "sr1p5.load_metadata('sr15_metadata_indicators.xlsx')"
   ]
  },
  {
   "cell_type": "code",
   "execution_count": null,
   "metadata": {},
   "outputs": [],
   "source": [
    "with open(\"sr15_specs.yaml\", 'r') as stream:\n",
    "    specs = yaml.load(stream, Loader=yaml.FullLoader)\n",
    "\n",
    "rc = pyam.run_control()\n",
    "for item in specs.pop('run_control').items():\n",
    "    rc.update({item[0]: item[1]})\n",
    "cats = specs.pop('cats')\n",
    "cats_15 = specs.pop('cats_15')\n",
    "cats_15_no_lo = specs.pop('cats_15_no_lo')\n",
    "marker= specs.pop('marker')"
   ]
  },
  {
   "cell_type": "markdown",
   "metadata": {},
   "source": [
    "## Downselect scenario ensemble to categories of interest for this assessment"
   ]
  },
  {
   "cell_type": "code",
   "execution_count": null,
   "metadata": {},
   "outputs": [],
   "source": [
    "years = [2020, 2030, 2050]"
   ]
  },
  {
   "cell_type": "code",
   "execution_count": null,
   "metadata": {},
   "outputs": [],
   "source": [
    "df = sr1p5.filter(category=cats_15, year=years)"
   ]
  },
  {
   "cell_type": "markdown",
   "metadata": {},
   "source": [
    "## Initialize a `pyam.Statistics` instance"
   ]
  },
  {
   "cell_type": "code",
   "execution_count": null,
   "metadata": {},
   "outputs": [],
   "source": [
    "stats = pyam.Statistics(df=df,\n",
    "                        filters=[('all 1.5', {}),\n",
    "                                 ('no & lo os 1.5', {'category': cats_15_no_lo}),\n",
    "                                 ('hi os 1.5', {'category': ['1.5C high overshoot']})\n",
    "                                ], rows=True)"
   ]
  },
  {
   "cell_type": "code",
   "execution_count": null,
   "metadata": {},
   "outputs": [],
   "source": [
    "header='Primary energy supply (EJ)'\n",
    "header_share='Share in primary energy (%)'\n",
    "header_growth='Growth (factor)'\n",
    "\n",
    "statistics_settings = dict(\n",
    "    header=header,\n",
    "    header_share=header_share,\n",
    "    header_growth= header_growth,\n",
    "    growth_year=2050,\n",
    "    base_year=2020\n",
    ")"
   ]
  },
  {
   "cell_type": "code",
   "execution_count": null,
   "metadata": {},
   "outputs": [],
   "source": [
    "def add_statistics(data, base, row, growth_year, base_year,\n",
    "                   header, header_share, header_growth):\n",
    "    stats.add(data, header=header, row=row)\n",
    "    if base is not None:\n",
    "        stats.add(data / base * 100, header=header_share, row=row)\n",
    "    stats.add(data[growth_year] / data[base_year] - 1,\n",
    "              header=header_growth, row=row,\n",
    "              subheader='{}-{}'.format(base_year, growth_year))"
   ]
  },
  {
   "cell_type": "markdown",
   "metadata": {},
   "source": [
    "## Extract primary energy timeseries data and add summary statistics"
   ]
  },
  {
   "cell_type": "code",
   "execution_count": null,
   "metadata": {},
   "outputs": [],
   "source": [
    "pe = df.filter(variable='Primary Energy').timeseries()\n",
    "pe.index = pe.index.droplevel([2, 3, 4])"
   ]
  },
  {
   "cell_type": "code",
   "execution_count": null,
   "metadata": {},
   "outputs": [],
   "source": [
    "add_statistics(pe, None, 'total primary', **statistics_settings)"
   ]
  },
  {
   "cell_type": "markdown",
   "metadata": {},
   "source": [
    "## Compute share of renewables by various types in primary energy\n",
    "\n",
    "Only use scenarios for this indicator that report both biomass and the aggregate non-biomass timeseries - otherwise, the share would be distorted."
   ]
  },
  {
   "cell_type": "markdown",
   "metadata": {},
   "source": [
    "### All renewables (biomass and non-biomass)"
   ]
  },
  {
   "cell_type": "code",
   "execution_count": null,
   "metadata": {},
   "outputs": [],
   "source": [
    "df_pe_res = df.filter()\n",
    "df_pe_res.require_variable('Primary Energy|Non-Biomass Renewables', exclude_on_fail=True)\n",
    "df_pe_res.require_variable('Primary Energy|Biomass', exclude_on_fail=True)\n",
    "df_pe_res.filter(exclude=False, inplace=True)"
   ]
  },
  {
   "cell_type": "code",
   "execution_count": null,
   "metadata": {},
   "outputs": [],
   "source": [
    "res = (\n",
    "    df_pe_res.filter(variable=['Primary Energy|Biomass', 'Primary Energy|Non-Biomass Renewables'])\n",
    "    .timeseries()\n",
    "    .groupby(['model', 'scenario']).sum()\n",
    ")"
   ]
  },
  {
   "cell_type": "code",
   "execution_count": null,
   "metadata": {},
   "outputs": [],
   "source": [
    "add_statistics(res, pe, 'renewables', **statistics_settings)"
   ]
  },
  {
   "cell_type": "markdown",
   "metadata": {},
   "source": [
    "### Biomass"
   ]
  },
  {
   "cell_type": "code",
   "execution_count": null,
   "metadata": {},
   "outputs": [],
   "source": [
    "res_bio = (\n",
    "    df.filter(variable=['Primary Energy|Biomass'])\n",
    "    .timeseries()\n",
    "    .groupby(['model', 'scenario']).sum()\n",
    ")"
   ]
  },
  {
   "cell_type": "code",
   "execution_count": null,
   "metadata": {},
   "outputs": [],
   "source": [
    "add_statistics(res_bio, pe, 'biomass', **statistics_settings)"
   ]
  },
  {
   "cell_type": "markdown",
   "metadata": {},
   "source": [
    "### Non-biomass renewables"
   ]
  },
  {
   "cell_type": "code",
   "execution_count": null,
   "metadata": {},
   "outputs": [],
   "source": [
    "res_non_bio = (\n",
    "    df.filter(variable=['Primary Energy|Non-Biomass Renewables'])\n",
    "    .timeseries()\n",
    "    .groupby(['model', 'scenario']).sum()\n",
    ")"
   ]
  },
  {
   "cell_type": "code",
   "execution_count": null,
   "metadata": {},
   "outputs": [],
   "source": [
    "add_statistics(res_non_bio, pe, 'non-biomass', **statistics_settings)"
   ]
  },
  {
   "cell_type": "markdown",
   "metadata": {},
   "source": [
    "### Renewable energy from wind and solar\n",
    "\n",
    "As above, verify that scenarios report values for both 'Wind' and 'Solar' "
   ]
  },
  {
   "cell_type": "code",
   "execution_count": null,
   "metadata": {},
   "outputs": [],
   "source": [
    "df_win_sol = df.filter()\n",
    "df_win_sol.require_variable('Primary Energy|Wind', exclude_on_fail=True)\n",
    "df_win_sol.require_variable('Primary Energy|Solar', exclude_on_fail=True)\n",
    "df_win_sol.filter(exclude=False, inplace=True)"
   ]
  },
  {
   "cell_type": "code",
   "execution_count": null,
   "metadata": {},
   "outputs": [],
   "source": [
    "win_sol = (\n",
    "    df_win_sol.filter(variable=['Primary Energy|Wind',\n",
    "                                'Primary Energy|Solar'])\n",
    "    .timeseries()\n",
    "    .groupby(['model', 'scenario']).sum()\n",
    ")"
   ]
  },
  {
   "cell_type": "code",
   "execution_count": null,
   "metadata": {},
   "outputs": [],
   "source": [
    "add_statistics(win_sol, pe, 'wind & solar', **statistics_settings)"
   ]
  },
  {
   "cell_type": "markdown",
   "metadata": {},
   "source": [
    "## Compute share of nuclear in primary energy"
   ]
  },
  {
   "cell_type": "code",
   "execution_count": null,
   "metadata": {},
   "outputs": [],
   "source": [
    "nuc = (\n",
    "    df.filter(variable=['Primary Energy|Nuclear'])\n",
    "    .timeseries()\n",
    "    .groupby(['model', 'scenario']).sum()\n",
    ")"
   ]
  },
  {
   "cell_type": "code",
   "execution_count": null,
   "metadata": {},
   "outputs": [],
   "source": [
    "add_statistics(nuc, pe, 'nuclear', **statistics_settings)"
   ]
  },
  {
   "cell_type": "markdown",
   "metadata": {},
   "source": [
    "## Compute share of fossil in primary energy"
   ]
  },
  {
   "cell_type": "code",
   "execution_count": null,
   "metadata": {},
   "outputs": [],
   "source": [
    "fossil = (\n",
    "    df.filter(variable=['Primary Energy|Coal', 'Primary Energy|Gas', 'Primary Energy|Oil'])\n",
    "    .timeseries()\n",
    "    .groupby(['model', 'scenario']).sum()\n",
    ")"
   ]
  },
  {
   "cell_type": "code",
   "execution_count": null,
   "metadata": {},
   "outputs": [],
   "source": [
    "add_statistics(fossil, pe, 'fossil', **statistics_settings)"
   ]
  },
  {
   "cell_type": "code",
   "execution_count": null,
   "metadata": {},
   "outputs": [],
   "source": [
    "coal = (\n",
    "    df.filter(variable=['Primary Energy|Coal'])\n",
    "    .timeseries()\n",
    "    .groupby(['model', 'scenario']).sum()\n",
    ")"
   ]
  },
  {
   "cell_type": "code",
   "execution_count": null,
   "metadata": {},
   "outputs": [],
   "source": [
    "add_statistics(coal, pe, 'coal', **statistics_settings)"
   ]
  },
  {
   "cell_type": "code",
   "execution_count": null,
   "metadata": {},
   "outputs": [],
   "source": [
    "gas = (\n",
    "    df.filter(variable=['Primary Energy|Gas'])\n",
    "    .timeseries()\n",
    "    .groupby(['model', 'scenario']).sum()\n",
    ")"
   ]
  },
  {
   "cell_type": "code",
   "execution_count": null,
   "metadata": {},
   "outputs": [],
   "source": [
    "add_statistics(gas, pe, 'gas', **statistics_settings)"
   ]
  },
  {
   "cell_type": "code",
   "execution_count": null,
   "metadata": {},
   "outputs": [],
   "source": [
    "oil = (\n",
    "    df.filter(variable=['Primary Energy|Oil'])\n",
    "    .timeseries()\n",
    "    .groupby(['model', 'scenario']).sum()\n",
    ")"
   ]
  },
  {
   "cell_type": "code",
   "execution_count": null,
   "metadata": {},
   "outputs": [],
   "source": [
    "add_statistics(oil, pe, 'oil', **statistics_settings)"
   ]
  },
  {
   "cell_type": "markdown",
   "metadata": {},
   "source": [
    "## Display and export summary statistics for all 1.5C scenarios to `xlsx`"
   ]
  },
  {
   "cell_type": "code",
   "execution_count": null,
   "metadata": {},
   "outputs": [],
   "source": [
    "summary = (\n",
    "    stats.summarize(center='median', fullrange=True)\n",
    "    .reindex(columns=['count', header, header_share, header_growth], level=0)\n",
    ")\n",
    "summary"
   ]
  },
  {
   "cell_type": "code",
   "execution_count": null,
   "metadata": {},
   "outputs": [],
   "source": [
    "summary.to_excel('output/table_2.6_primary_energy_supply.xlsx')"
   ]
  },
  {
   "cell_type": "code",
   "execution_count": null,
   "metadata": {},
   "outputs": [],
   "source": []
  }
 ],
 "metadata": {
  "kernelspec": {
   "display_name": "Python [default]",
   "language": "python",
   "name": "python3"
  },
  "language_info": {
   "codemirror_mode": {
    "name": "ipython",
    "version": 3
   },
   "file_extension": ".py",
   "mimetype": "text/x-python",
   "name": "python",
   "nbconvert_exporter": "python",
   "pygments_lexer": "ipython3",
   "version": "3.6.6"
  }
 },
 "nbformat": 4,
 "nbformat_minor": 2
}
