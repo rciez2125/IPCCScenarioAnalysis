{
 "cells": [
  {
   "cell_type": "markdown",
   "metadata": {},
   "source": [
    "### *IPCC SR15 scenario assessment*\n",
    "\n",
    "<img style=\"float: right; height: 80px; padding-left: 20px;\" src=\"../_static/IIASA_logo.png\">\n",
    "<img style=\"float: right; height: 80px;\" src=\"../_static/IAMC_logo.jpg\">\n",
    "\n",
    "# Analysis of the electricity generation development <br /> in illustrative pathways\n",
    "\n",
    "This notebook computes indicators and diagnostics of the electricity sector and fuel mix timeseries for **Figure 2.16**, \n",
    "focusing on the illustrative pathways and the IEA's 'Faster Transition Scenario' using the 'World Energy Model' \n",
    "in the IPCC's _\"Special Report on Global Warming of 1.5°C\"_.\n",
    "\n",
    "The scenario data used in this analysis can be accessed and downloaded at [https://data.ene.iiasa.ac.at/iamc-1.5c-explorer](https://data.ene.iiasa.ac.at/iamc-1.5c-explorer)."
   ]
  },
  {
   "cell_type": "markdown",
   "metadata": {},
   "source": [
    "## Load `pyam` package and other dependencies"
   ]
  },
  {
   "cell_type": "code",
   "execution_count": null,
   "metadata": {},
   "outputs": [],
   "source": [
    "import pandas as pd\n",
    "import numpy as np\n",
    "import warnings\n",
    "import io\n",
    "import itertools\n",
    "import yaml\n",
    "import math\n",
    "import matplotlib.pyplot as plt\n",
    "plt.style.use('style_sr15.mplstyle')\n",
    "%matplotlib inline\n",
    "import pyam"
   ]
  },
  {
   "cell_type": "markdown",
   "metadata": {},
   "source": [
    "## Import scenario data, categorization and specifications files\n",
    "\n",
    "The metadata file must be generated from the notebook `sr15_2.0_categories_indicators` included in this repository.  \n",
    "If the snapshot file has been updated, make sure that you rerun the categorization notebook.\n",
    "\n",
    "The last cell of this section loads and assigns a number of auxiliary lists as defined in the categorization notebook."
   ]
  },
  {
   "cell_type": "code",
   "execution_count": null,
   "metadata": {},
   "outputs": [],
   "source": [
    "sr1p5 = pyam.IamDataFrame(data='../data/iamc15_scenario_data_world_r1.1.xlsx')"
   ]
  },
  {
   "cell_type": "code",
   "execution_count": null,
   "metadata": {},
   "outputs": [],
   "source": [
    "sr1p5.load_metadata('sr15_metadata_indicators.xlsx')"
   ]
  },
  {
   "cell_type": "code",
   "execution_count": null,
   "metadata": {},
   "outputs": [],
   "source": [
    "with open(\"sr15_specs.yaml\", 'r') as stream:\n",
    "    specs = yaml.load(stream, Loader=yaml.FullLoader)\n",
    "\n",
    "rc = pyam.run_control()\n",
    "for item in specs.pop('run_control').items():\n",
    "    rc.update({item[0]: item[1]})\n",
    "cats = specs.pop('cats')\n",
    "cats_15_no_lo = specs.pop('cats_15_no_lo')\n",
    "marker = specs.pop('marker')"
   ]
  },
  {
   "cell_type": "markdown",
   "metadata": {},
   "source": [
    "## Downselect scenario ensemble to categories of interest for this assessment"
   ]
  },
  {
   "cell_type": "code",
   "execution_count": null,
   "metadata": {},
   "outputs": [],
   "source": [
    "cats.remove('Above 2C')"
   ]
  },
  {
   "cell_type": "code",
   "execution_count": null,
   "metadata": {},
   "outputs": [],
   "source": [
    "years = [2030, 2050, 2100]"
   ]
  },
  {
   "cell_type": "code",
   "execution_count": null,
   "metadata": {},
   "outputs": [],
   "source": [
    "df = sr1p5.filter(category=cats, year=years)"
   ]
  },
  {
   "cell_type": "markdown",
   "metadata": {},
   "source": [
    "## Set specifications for filter and plotting"
   ]
  },
  {
   "cell_type": "code",
   "execution_count": null,
   "metadata": {},
   "outputs": [],
   "source": [
    "save_name = 'output/fig2.16{}.png'"
   ]
  },
  {
   "cell_type": "code",
   "execution_count": null,
   "metadata": {},
   "outputs": [],
   "source": [
    "filter_args = dict(df=sr1p5, category=cats, marker=None, join_meta=True)"
   ]
  },
  {
   "cell_type": "markdown",
   "metadata": {},
   "source": [
    "## Retrieve historical data from IEA Energy Statistics"
   ]
  },
  {
   "cell_type": "code",
   "execution_count": null,
   "metadata": {},
   "outputs": [],
   "source": [
    "hist = sr1p5.filter(model='Reference', scenario='IEA Energy Statistics (r2017)')"
   ]
  },
  {
   "cell_type": "code",
   "execution_count": null,
   "metadata": {},
   "outputs": [],
   "source": [
    "fossil_vars = [\n",
    "    'Secondary Energy|Electricity|Coal',\n",
    "    'Secondary Energy|Electricity|Oil',\n",
    "    'Secondary Energy|Electricityy|Gas'\n",
    "]\n",
    "\n",
    "ren_vars = [\n",
    "    'Secondary Energy|Electricity|Geothermal',\n",
    "    'Secondary Energy|Electricity|Hydro',\n",
    "    'Secondary Energy|Electricity|Ocean',\n",
    "]\n",
    "\n",
    "hist_mapping = {}\n",
    "\n",
    "for f in fossil_vars:\n",
    "    hist_mapping.update({f: 'Fossil without CCS'})\n",
    "for r in ren_vars:\n",
    "    hist_mapping.update({r: 'Other renewables'})\n",
    "\n",
    "hist_mapping.update({\n",
    "    'Secondary Energy|Electricity|Biomass': 'Biomass without CCS'})\n",
    "\n",
    "hist.rename({'variable': hist_mapping}, inplace=True)"
   ]
  },
  {
   "cell_type": "code",
   "execution_count": null,
   "metadata": {},
   "outputs": [],
   "source": [
    "hist_args = dict(color='black', linestyle='dashed', linewidth=1)"
   ]
  },
  {
   "cell_type": "markdown",
   "metadata": {},
   "source": [
    "## Add IEA's 'Faster Transition Scenario' to the set of marker scenarios for comparison"
   ]
  },
  {
   "cell_type": "code",
   "execution_count": null,
   "metadata": {},
   "outputs": [],
   "source": [
    "m = 'IEA WEM'\n",
    "col = 'marker'\n",
    "df.set_meta(m, col,\n",
    "            df.filter(model='IEA World Energy Model 2017',\n",
    "                      scenario='Faster Transition Scenario'))\n",
    "rc.update({'marker': {col: {m: 'o'}},\n",
    "           'c': {col: {m: 'red'}},\n",
    "           'edgecolors': {col: {m: 'black'}}}\n",
    "         )\n",
    "marker += [m]"
   ]
  },
  {
   "cell_type": "markdown",
   "metadata": {},
   "source": [
    "## Rename variables for plots"
   ]
  },
  {
   "cell_type": "code",
   "execution_count": null,
   "metadata": {},
   "outputs": [],
   "source": [
    "variable_mapping = [\n",
    "    ('Fossil without CCS', \n",
    "         ['Secondary Energy|Electricity|Coal|w/o CCS',\n",
    "          'Secondary Energy|Electricity|Gas|w/o CCS',\n",
    "          'Secondary Energy|Electricity|Oil|w/o CCS'], 'black'),\n",
    "    ('Fossil with CCS',\n",
    "         ['Secondary Energy|Electricity|Coal|w/ CCS',\n",
    "          'Secondary Energy|Electricity|Gas|w/ CCS',\n",
    "          'Secondary Energy|Electricity|Oil|w/ CCS'], 'grey'),\n",
    "    ('Biomass without CCS', 'Secondary Energy|Electricity|Biomass|w/o CCS',\n",
    "        'forestgreen'),\n",
    "    ('Biomass with CCS', 'Secondary Energy|Electricity|Biomass|w/ CCS',\n",
    "        'limegreen'),\n",
    "    ('Nuclear', 'Secondary Energy|Electricity|Nuclear', 'firebrick'),\n",
    "    ('Wind', 'Secondary Energy|Electricity|Wind', 'lightskyblue'),\n",
    "    ('Solar', 'Secondary Energy|Electricity|Solar', 'gold'),\n",
    "    ('Other renewables',\n",
    "         ['Secondary Energy|Electricity|Ocean',\n",
    "          'Secondary Energy|Electricity|Geothermal',\n",
    "          'Secondary Energy|Electricity|Hydro'], 'darkorange')\n",
    "]"
   ]
  },
  {
   "cell_type": "code",
   "execution_count": null,
   "metadata": {},
   "outputs": [],
   "source": [
    "variables = []\n",
    "mapping = {}\n",
    "\n",
    "for (name, variable, color) in variable_mapping:\n",
    "    variables.append(name)\n",
    "    if isinstance(variable, list):\n",
    "        for v in variable:\n",
    "            mapping.update({v: name})\n",
    "    else:\n",
    "        mapping.update({variable: name})\n",
    "    rc.update({'color': {'marker': {name: color}}})\n",
    "\n",
    "df.rename({'variable': mapping}, inplace=True)\n",
    "hist.rename({'variable': mapping}, inplace=True)"
   ]
  },
  {
   "cell_type": "code",
   "execution_count": null,
   "metadata": {},
   "outputs": [],
   "source": [
    "df.filter(variable=variables, inplace=True)\n",
    "hist.filter(variable=variables + ['Secondary Energy|Electricity'],\n",
    "            inplace=True)"
   ]
  },
  {
   "cell_type": "markdown",
   "metadata": {},
   "source": [
    "## Plot by marker scenario"
   ]
  },
  {
   "cell_type": "code",
   "execution_count": null,
   "metadata": {},
   "outputs": [],
   "source": [
    "w, h = plt.figaspect(0.3)\n",
    "fig = plt.figure(figsize=(w, h))\n",
    "ymax = 680\n",
    "hist_yr = 2015\n",
    "\n",
    "_years = len(years) - 1\n",
    "label_list = []\n",
    "\n",
    "w = 0.5 / len(years)\n",
    "\n",
    "for i, m in enumerate(marker):\n",
    "    _df = df.filter(marker=m).timeseries()\n",
    "    meta = _df.iloc[0].name[0:2]\n",
    "    _label = '{}\\n{}\\n({})'.format(meta[0], meta[1], m)\n",
    "    _df.index = _df.index.droplevel([0, 1, 2, 4])\n",
    "    \n",
    "    # use _df.columns because not all scenarios extend until 2100\n",
    "    pos = [0.5 / _years * (j - (len(_df.columns) - 1) / 2) + i\n",
    "           for j in range(len(_df.columns))]\n",
    "    b = [0] * len(_df.columns)\n",
    "\n",
    "    for v in variables:\n",
    "        if v in _df.index:\n",
    "            lst = _df.loc[v]\n",
    "            plt.bar(x=pos, height=lst, bottom=b, width=w,\n",
    "                    color=rc['color']['marker'][v],\n",
    "                    edgecolor='black', label=None)\n",
    "            b += _df.loc[v]\n",
    "\n",
    "    label_list.append(_label)\n",
    "\n",
    "    val = (\n",
    "        hist.filter(variable='Secondary Energy|Electricity')\n",
    "        .timeseries()[hist_yr]\n",
    "    )\n",
    "    plt.hlines(y=val, xmin=(-.4 + i),\n",
    "               xmax=(.4 + i), **hist_args,\n",
    "               label=None)\n",
    "\n",
    "    # add years at the top\n",
    "    for j, yr in enumerate(_df.columns):\n",
    "        plt.text(pos[j] - 0.1, ymax * 1.05, yr)    \n",
    "    \n",
    "# add legend entries\n",
    "plt.hlines(y=[], xmin=[], xmax=[], **hist_args,\n",
    "           label='{} Electricity Generation (IEA Energy Statistics 2017)'.format(hist_yr))\n",
    "for v in variables:\n",
    "    plt.scatter(x=[], y=[], color=rc['color']['marker'][v], label=v)\n",
    "\n",
    "plt.legend()\n",
    "plt.grid(False)\n",
    "plt.xlim(-0.5, (i + 0.6))\n",
    "plt.xticks(range(0, i + 1), label_list)\n",
    "plt.vlines(x=[_i + 0.5 for _i in range(i)], ymin=0, ymax=ymax, colors='white')\n",
    "plt.ylim(0, ymax)\n",
    "plt.ylabel('Electricity generation by illustrative pathway (EJ/y)')\n",
    "\n",
    "fig.savefig(save_name.format('a_electricity_generation_by_marker'))"
   ]
  },
  {
   "cell_type": "markdown",
   "metadata": {},
   "source": [
    "## Plot energy system development by fuel for all 1.5°C pathways with limited overshoot"
   ]
  },
  {
   "cell_type": "code",
   "execution_count": null,
   "metadata": {},
   "outputs": [],
   "source": [
    "w, h = plt.figaspect(0.3)\n",
    "fig = plt.figure(figsize=(w, h))\n",
    "ymax = 220\n",
    "hist_yr = 2015\n",
    "\n",
    "_years = len(years) - 1\n",
    "label_list = []\n",
    "\n",
    "def marker_args(m):\n",
    "    return dict(zorder=4,\n",
    "                edgecolors=rc['edgecolors']['marker'][m],\n",
    "                c=rc['c']['marker'][m],\n",
    "                marker=rc['marker']['marker'][m],\n",
    "                linewidths=1)\n",
    "\n",
    "for i, v in enumerate(variables):\n",
    "    _df = df.filter(variable=v).timeseries()\n",
    "    _df = pyam.filter_by_meta(_df, df, category=None, marker=None, join_meta=True)\n",
    "    \n",
    "    for j, y in enumerate(years):\n",
    "        _df_15 = _df[_df.category.isin(cats_15_no_lo)]\n",
    "        lst = _df_15[y][~np.isnan(_df[y])]\n",
    "        pos = 0.5 / _years * (j - _years / 2) + i\n",
    "        \n",
    "        outliers = len(lst[lst > ymax])\n",
    "        if outliers > 0:\n",
    "            plt.text(pos - 0.01 * len(years), ymax * 1.01, outliers)\n",
    "\n",
    "        p = plt.boxplot(lst, positions=[pos],\n",
    "                        whis='range',\n",
    "                        patch_artist=True)\n",
    "        plt.setp(p['boxes'], color=rc['color']['marker'][v])\n",
    "        plt.setp(p['medians'], color='black')\n",
    "        \n",
    "        for m in marker:\n",
    "            val = _df.loc[_df.marker == m, y]\n",
    "            if not val.empty:\n",
    "                plt.scatter(x=pos, y=val, **marker_args(m),\n",
    "                            s=40, label=None)\n",
    "\n",
    "    if v in list(hist.variables()):\n",
    "        val = hist.filter(variable=v).timeseries()[hist_yr]\n",
    "        plt.hlines(y=val, xmin=(-.4 + i), xmax=(.4 + i), **hist_args,\n",
    "                   label=None)\n",
    "                \n",
    "    label_list.append(v)\n",
    "\n",
    "# add legend entries\n",
    "plt.hlines(y=[], xmin=[], xmax=[], **hist_args,\n",
    "           label='{} Electricity Generation (IEA Energy Statistics 2017)'.format(hist_yr))\n",
    "for m in marker:\n",
    "    meta = df.filter(marker=m).timeseries().iloc[0].name[0:2]\n",
    "    _label = '{}|{} ({})'.format(meta[0], meta[1], m)\n",
    "    plt.scatter(x=[], y=[], **marker_args(m), s=60, label=_label)\n",
    "\n",
    "# add years at the top\n",
    "for _i in range(0, i + 1):\n",
    "    for j, yr in enumerate(years):\n",
    "        plt.text(0.5 / _years * (j - _years / 2) + _i - 0.1,\n",
    "                 ymax * 1.05, yr)\n",
    "\n",
    "# plt.legend()\n",
    "plt.grid(False)\n",
    "plt.xlim(-0.6, (i + 0.6))\n",
    "plt.xticks(range(0, i + 1), label_list)\n",
    "plt.vlines(x=[_i + 0.5 for _i in range(i)], ymin=0, ymax=ymax, colors='white')\n",
    "plt.ylim(0, ymax)\n",
    "plt.ylabel('Electricity generation by fuel type (EJ/y)')\n",
    "\n",
    "fig.savefig(save_name.format('b_electricity_generation_by_fuel'))"
   ]
  },
  {
   "cell_type": "markdown",
   "metadata": {},
   "source": [
    "## Export timeseries data to `xlsx`"
   ]
  },
  {
   "cell_type": "code",
   "execution_count": null,
   "metadata": {},
   "outputs": [],
   "source": [
    "writer = pd.ExcelWriter('output/fig2.16_data_table.xlsx')\n",
    "pyam.utils.write_sheet(writer, name, \n",
    "                       pyam.filter_by_meta(df.timeseries(), df, category=None, marker=None, join_meta=True),\n",
    "                       index=True)\n",
    "writer.save()"
   ]
  },
  {
   "cell_type": "code",
   "execution_count": null,
   "metadata": {},
   "outputs": [],
   "source": []
  }
 ],
 "metadata": {
  "kernelspec": {
   "display_name": "Python [conda env:anaconda]",
   "language": "python",
   "name": "conda-env-anaconda-py"
  },
  "language_info": {
   "codemirror_mode": {
    "name": "ipython",
    "version": 3
   },
   "file_extension": ".py",
   "mimetype": "text/x-python",
   "name": "python",
   "nbconvert_exporter": "python",
   "pygments_lexer": "ipython3",
   "version": "3.6.6"
  }
 },
 "nbformat": 4,
 "nbformat_minor": 2
}
