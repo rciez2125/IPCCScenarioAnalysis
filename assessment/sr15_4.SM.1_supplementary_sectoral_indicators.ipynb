{
 "cells": [
  {
   "cell_type": "markdown",
   "metadata": {},
   "source": [
    "### *IPCC SR15 scenario assessment*\n",
    "\n",
    "<img style=\"float: right; height: 80px; padding-left: 20px;\" src=\"../_static/IIASA_logo.png\">\n",
    "<img style=\"float: right; height: 80px;\" src=\"../_static/IAMC_logo.jpg\">\n",
    "\n",
    "# Supplementary indicators of the pace of transformation <br /> in 1.5°C pathways and selected sectoral studies\n",
    "\n",
    "This notebook computes additional indicators of sectoral transformation for **Table 4.SM.1** in the Special Report.\n",
    "\n",
    "The scenario data used in this analysis can be accessed and downloaded at [https://data.ene.iiasa.ac.at/iamc-1.5c-explorer](https://data.ene.iiasa.ac.at/iamc-1.5c-explorer)."
   ]
  },
  {
   "cell_type": "markdown",
   "metadata": {},
   "source": [
    "## Load ``pyam`` package and other dependencies"
   ]
  },
  {
   "cell_type": "code",
   "execution_count": null,
   "metadata": {},
   "outputs": [],
   "source": [
    "import yaml\n",
    "import pyam"
   ]
  },
  {
   "cell_type": "markdown",
   "metadata": {},
   "source": [
    "## Import scenario data, categorization and specifications files\n",
    "\n",
    "The metadata file must have been generated from the notebook `sr15_2.0_categories_indicators` included in this repository.  \n",
    "If the snapshot file has been updated, make sure that you rerun the categorization notebook.\n",
    "\n",
    "The last cell of this section loads and assigns a number of auxiliary lists as defined in the categorization notebook."
   ]
  },
  {
   "cell_type": "code",
   "execution_count": null,
   "metadata": {},
   "outputs": [],
   "source": [
    "sr1p5 = pyam.IamDataFrame(data='../data/iamc15_scenario_data_world_r1.1.xlsx')"
   ]
  },
  {
   "cell_type": "code",
   "execution_count": null,
   "metadata": {},
   "outputs": [],
   "source": [
    "sr1p5.load_metadata('sr15_metadata_indicators.xlsx')"
   ]
  },
  {
   "cell_type": "code",
   "execution_count": null,
   "metadata": {},
   "outputs": [],
   "source": [
    "with open(\"sr15_specs.yaml\", 'r') as stream:\n",
    "    specs = yaml.load(stream)\n",
    "\n",
    "rc = pyam.run_control()\n",
    "for item in specs.pop('run_control').items():\n",
    "    rc.update({item[0]: item[1]})\n",
    "cats = specs.pop('cats')\n",
    "cats_15_no_lo = specs.pop('cats_15_no_lo')\n",
    "marker= specs.pop('marker')"
   ]
  },
  {
   "cell_type": "markdown",
   "metadata": {},
   "source": [
    "## Assign years of interest and downselect to scenarios of interest for this assessment"
   ]
  },
  {
   "cell_type": "code",
   "execution_count": null,
   "metadata": {},
   "outputs": [],
   "source": [
    "table_years = [2020, 2030, 2050]\n",
    "compare_year = 2010\n",
    "years = [compare_year] + table_years"
   ]
  },
  {
   "cell_type": "code",
   "execution_count": null,
   "metadata": {},
   "outputs": [],
   "source": [
    "cats.remove('Above 2C')"
   ]
  },
  {
   "cell_type": "code",
   "execution_count": null,
   "metadata": {},
   "outputs": [],
   "source": [
    "df = sr1p5.filter(category=cats + ['no-climate-assessment'], year=years)"
   ]
  },
  {
   "cell_type": "markdown",
   "metadata": {},
   "source": [
    "## Initialize a `pyam.Statistics` instance¶"
   ]
  },
  {
   "cell_type": "code",
   "execution_count": null,
   "metadata": {},
   "outputs": [],
   "source": [
    "filters = [\n",
    "    (('IAM pathways', 'no & lo os 1.5'), {'category': cats_15_no_lo}),\n",
    "    (('IAM pathways', 'lo os 1.5'), {'category': ['1.5C low overshoot']}),\n",
    "    (('IAM pathways', 'hi os 1.5'), {'category': ['1.5C high overshoot']}),\n",
    "    (('IAM pathways', 'S1'), {'marker': ['S1']}),\n",
    "    (('IAM pathways', 'S2'), {'marker': ['S2']}),\n",
    "    (('IAM pathways', 'S5'), {'marker': ['S5']}),\n",
    "    (('IAM pathways', 'LED'), {'marker': ['LED']}),\n",
    "    (('sectoral studies', 'Löffler et al. (2017)'), {'model': ['GENeSYS-MOD 1.0']}),\n",
    "    (('sectoral studies', 'IEA ETP (2017)'), {'model': ['IEA Energy Technology Perspective Model 2017']}),\n",
    "    (('sectoral studies', 'IEA WEM (2017)'), {'model': ['IEA World Energy Model 2017']})\n",
    "]\n",
    "\n",
    "stats = pyam.Statistics(df=df, filters=filters, rows=True)"
   ]
  },
  {
   "cell_type": "markdown",
   "metadata": {},
   "source": [
    "## Share of renewables in primary energy and electricity generation"
   ]
  },
  {
   "cell_type": "code",
   "execution_count": null,
   "metadata": {},
   "outputs": [],
   "source": [
    "def add_stats_share(var_list, header, total, total_name, df=df, years=table_years):\n",
    "\n",
    "    _df = df.filter(variable=var_list)\n",
    "    for v in var_list:\n",
    "        _df.require_variable(v, exclude_on_fail=True)\n",
    "    _df.filter(exclude=False, inplace=True)\n",
    "\n",
    "    component = (\n",
    "        _df.timeseries()\n",
    "        .groupby(['model', 'scenario']).sum()\n",
    "    )\n",
    "    share = component / total * 100\n",
    "    \n",
    "    for y in years:\n",
    "        stats.add(share[y], header='Share of {}'.format(header),\n",
    "                  subheader='in {} (%)'.format(total_name), row=y)"
   ]
  },
  {
   "cell_type": "code",
   "execution_count": null,
   "metadata": {},
   "outputs": [],
   "source": [
    "pe = df.filter(variable='Primary Energy').timeseries()\n",
    "pe.index = pe.index.droplevel([2, 3, 4])"
   ]
  },
  {
   "cell_type": "code",
   "execution_count": null,
   "metadata": {},
   "outputs": [],
   "source": [
    "pe_re_vars = [\n",
    "    'Primary Energy|Biomass',\n",
    "    'Primary Energy|Non-Biomass Renewables'\n",
    "]\n",
    "\n",
    "add_stats_share(pe_re_vars, 'renewables', pe, 'primary energy')"
   ]
  },
  {
   "cell_type": "code",
   "execution_count": null,
   "metadata": {},
   "outputs": [],
   "source": [
    "ele = df.filter(variable='Secondary Energy|Electricity').timeseries()\n",
    "ele.index = ele.index.droplevel([2, 3, 4])"
   ]
  },
  {
   "cell_type": "code",
   "execution_count": null,
   "metadata": {},
   "outputs": [],
   "source": [
    "ele_re_vars = [\n",
    "    'Secondary Energy|Electricity|Biomass',\n",
    "    'Secondary Energy|Electricity|Non-Biomass Renewables'\n",
    "]\n",
    "\n",
    "add_stats_share(ele_re_vars, 'renewables', ele, 'electricity generation')"
   ]
  },
  {
   "cell_type": "markdown",
   "metadata": {},
   "source": [
    "## Share of fossil fuels in electricity generation"
   ]
  },
  {
   "cell_type": "code",
   "execution_count": null,
   "metadata": {},
   "outputs": [],
   "source": [
    "ele_foss_vars = [\n",
    "    'Secondary Energy|Electricity|Coal',\n",
    "    'Secondary Energy|Electricity|Gas',\n",
    "    'Secondary Energy|Electricity|Oil',\n",
    "]\n",
    "\n",
    "add_stats_share(ele_foss_vars, 'fossil fuels', ele, 'electricity generation')"
   ]
  },
  {
   "cell_type": "markdown",
   "metadata": {},
   "source": [
    "## Energy demand in buildings (relative to 2010)"
   ]
  },
  {
   "cell_type": "code",
   "execution_count": null,
   "metadata": {},
   "outputs": [],
   "source": [
    "bld = df.filter(variable='Final Energy|Residential and Commercial', year=years).timeseries()"
   ]
  },
  {
   "cell_type": "code",
   "execution_count": null,
   "metadata": {},
   "outputs": [],
   "source": [
    "for y in table_years:\n",
    "    stats.add(-(bld[y] / bld[compare_year] - 1) * 100,\n",
    "              header='Change in energy demand in buildings',\n",
    "              subheader='relative to {} (%)'.format(compare_year), row=y)"
   ]
  },
  {
   "cell_type": "markdown",
   "metadata": {},
   "source": [
    "## Direct emissions reductions from buildings (relative to 2010)"
   ]
  },
  {
   "cell_type": "code",
   "execution_count": null,
   "metadata": {},
   "outputs": [],
   "source": [
    "co2_bld = df.filter(variable='Emissions|CO2|Energy|Demand|Residential and Commercial', year=years).timeseries()"
   ]
  },
  {
   "cell_type": "code",
   "execution_count": null,
   "metadata": {},
   "outputs": [],
   "source": [
    "for y in table_years:\n",
    "    stats.add(-(co2_bld[y] / co2_bld[compare_year] - 1) * 100,\n",
    "              header='Direct emissions reductions from buildings',\n",
    "              subheader='relative to {} (%)'.format(compare_year), row=y)"
   ]
  },
  {
   "cell_type": "markdown",
   "metadata": {},
   "source": [
    "## Share of low-carbon fuels and electricity in the transport sector\n",
    "\n",
    "For the scenario presented by \"Löffler et al. (2017)\", the share of low-carbon fuels was read directly from one of the figures in the manuscript."
   ]
  },
  {
   "cell_type": "code",
   "execution_count": null,
   "metadata": {},
   "outputs": [],
   "source": [
    "trp = df.filter(variable='Final Energy|Transportation').timeseries()\n",
    "trp.index = trp.index.droplevel([2, 3, 4])"
   ]
  },
  {
   "cell_type": "code",
   "execution_count": null,
   "metadata": {},
   "outputs": [],
   "source": [
    "trp_low_vars = [\n",
    "    'Final Energy|Transportation|Electricity',\n",
    "    'Final Energy|Transportation|Hydrogen',\n",
    "    'Final Energy|Transportation|Liquids|Biomass'\n",
    "]\n",
    "add_stats_share(trp_low_vars, 'low-carbon fuels', trp, 'transport')"
   ]
  },
  {
   "cell_type": "code",
   "execution_count": null,
   "metadata": {},
   "outputs": [],
   "source": [
    "trp_ele_vars = ['Final Energy|Transportation|Electricity']\n",
    "add_stats_share(trp_ele_vars, 'electricity', trp, 'transport')"
   ]
  },
  {
   "cell_type": "code",
   "execution_count": null,
   "metadata": {},
   "outputs": [],
   "source": [
    "trp_bio_vars = ['Final Energy|Transportation|Liquids|Biomass']\n",
    "add_stats_share(trp_bio_vars, 'biofuels', trp, 'transport')"
   ]
  },
  {
   "cell_type": "markdown",
   "metadata": {},
   "source": [
    "## Industrial emissions (relative to 2010)"
   ]
  },
  {
   "cell_type": "code",
   "execution_count": null,
   "metadata": {},
   "outputs": [],
   "source": [
    "co2_ind = df.filter(variable='Emissions|CO2|Energy|Demand|Industry', year=years).timeseries()"
   ]
  },
  {
   "cell_type": "code",
   "execution_count": null,
   "metadata": {},
   "outputs": [],
   "source": [
    "for y in table_years:\n",
    "    stats.add(-(co2_ind[y] / co2_ind[compare_year] - 1) * 100,\n",
    "              header='Industrial emissions reductions',\n",
    "              subheader='relative to {} (%)'.format(compare_year), row=y)"
   ]
  },
  {
   "cell_type": "markdown",
   "metadata": {},
   "source": [
    "## Display summary statistics table and export as `xlsx`"
   ]
  },
  {
   "cell_type": "code",
   "execution_count": null,
   "metadata": {},
   "outputs": [],
   "source": [
    "summary = stats.summarize(center='median', interquartile=True, custom_format='{:.2f}')\n",
    "summary = (\n",
    "    summary\n",
    "    .swaplevel(0, 2, axis=0).swaplevel(1, 2, axis=0)\n",
    "    .sort_index(axis=0, level=0, sort_remaining=False)\n",
    ")\n",
    "summary"
   ]
  },
  {
   "cell_type": "code",
   "execution_count": null,
   "metadata": {},
   "outputs": [],
   "source": [
    "summary.to_excel('output/table_4.SM.1_suppl_sectoral_indicators.xlsx')"
   ]
  }
 ],
 "metadata": {
  "kernelspec": {
   "display_name": "Python 3",
   "language": "python",
   "name": "python3"
  },
  "language_info": {
   "codemirror_mode": {
    "name": "ipython",
    "version": 3
   },
   "file_extension": ".py",
   "mimetype": "text/x-python",
   "name": "python",
   "nbconvert_exporter": "python",
   "pygments_lexer": "ipython3",
   "version": "3.6.4"
  },
  "latex_envs": {
   "LaTeX_envs_menu_present": true,
   "autoclose": false,
   "autocomplete": true,
   "bibliofile": "biblio.bib",
   "cite_by": "apalike",
   "current_citInitial": 1,
   "eqLabelWithNumbers": true,
   "eqNumInitial": 1,
   "hotkeys": {
    "equation": "Ctrl-E",
    "itemize": "Ctrl-I"
   },
   "labels_anchors": false,
   "latex_user_defs": false,
   "report_style_numbering": false,
   "user_envs_cfg": false
  }
 },
 "nbformat": 4,
 "nbformat_minor": 2
}
