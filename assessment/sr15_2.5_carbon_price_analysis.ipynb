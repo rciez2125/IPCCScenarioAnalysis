{
 "cells": [
  {
   "cell_type": "markdown",
   "metadata": {},
   "source": [
    "### *IPCC SR15 scenario assessment*\n",
    "\n",
    "<img style=\"float: right; height: 80px; padding-left: 20px;\" src=\"../_static/IIASA_logo.png\">\n",
    "<img style=\"float: right; height: 80px;\" src=\"../_static/IAMC_logo.jpg\">\n",
    "\n",
    "# Assessment of carbon prices by warming category\n",
    "\n",
    "This notebook contains the carbon price assessment of the scenario ensemble  \n",
    "in **Section 2.5.2** and for **Figure 2.26** of the IPCC's _\"Special Report on Global Warming of 1.5°C\"_.\n",
    "\n",
    "The scenario data used in this analysis can be accessed and downloaded at [https://data.ene.iiasa.ac.at/iamc-1.5c-explorer](https://data.ene.iiasa.ac.at/iamc-1.5c-explorer)."
   ]
  },
  {
   "cell_type": "markdown",
   "metadata": {},
   "source": [
    "## Load `pyam` package and other dependencies"
   ]
  },
  {
   "cell_type": "code",
   "execution_count": null,
   "metadata": {},
   "outputs": [],
   "source": [
    "import pandas as pd\n",
    "import numpy as np\n",
    "import io\n",
    "import yaml\n",
    "import math\n",
    "import matplotlib.pyplot as plt\n",
    "plt.style.use('style_sr15.mplstyle')\n",
    "%matplotlib inline\n",
    "\n",
    "import pyam\n",
    "from utils import boxplot_by_cat"
   ]
  },
  {
   "cell_type": "markdown",
   "metadata": {},
   "source": [
    "## Import scenario data, categorization and specifications files\n",
    "\n",
    "The metadata file must have been generated from the notebook `sr15_2.0_categories_indicators` included in this repository.  \n",
    "If the snapshot file has been updated, make sure that you rerun the categorization notebook.\n",
    "\n",
    "The last cell of this section loads and assigns a number of auxiliary lists as defined in the categorization notebook."
   ]
  },
  {
   "cell_type": "code",
   "execution_count": null,
   "metadata": {},
   "outputs": [],
   "source": [
    "sr1p5 = pyam.IamDataFrame(data='../data/iamc15_scenario_data_world_r1.1.xlsx')"
   ]
  },
  {
   "cell_type": "code",
   "execution_count": null,
   "metadata": {},
   "outputs": [],
   "source": [
    "sr1p5.load_metadata('sr15_metadata_indicators.xlsx')"
   ]
  },
  {
   "cell_type": "code",
   "execution_count": null,
   "metadata": {},
   "outputs": [],
   "source": [
    "with open(\"sr15_specs.yaml\", 'r') as stream:\n",
    "    specs = yaml.load(stream, Loader=yaml.FullLoader)\n",
    "\n",
    "rc = pyam.run_control()\n",
    "for item in specs.pop('run_control').items():\n",
    "    rc.update({item[0]: item[1]})\n",
    "cats = specs.pop('cats')\n",
    "marker= specs.pop('marker')"
   ]
  },
  {
   "cell_type": "markdown",
   "metadata": {},
   "source": [
    "## Downselect scenario ensemble to categories of interest for this assessment\n",
    "\n",
    "Only scenarios that limit warming to at most 2°C at the end of the century are included in this assessment."
   ]
  },
  {
   "cell_type": "code",
   "execution_count": null,
   "metadata": {},
   "outputs": [],
   "source": [
    "cats.remove('Above 2C')"
   ]
  },
  {
   "cell_type": "markdown",
   "metadata": {},
   "source": [
    "## Set specifications for figures and statistics\n",
    "\n",
    "First, set the list of years included in the plots. Then, define an auxiliary dictionary and function for easier display."
   ]
  },
  {
   "cell_type": "code",
   "execution_count": null,
   "metadata": {},
   "outputs": [],
   "source": [
    "years = [2030, 2050, 2070, 2100]"
   ]
  },
  {
   "cell_type": "code",
   "execution_count": null,
   "metadata": {},
   "outputs": [],
   "source": [
    "filter_args = dict(df=sr1p5, category=cats, marker=None, join_meta=True)"
   ]
  },
  {
   "cell_type": "code",
   "execution_count": null,
   "metadata": {},
   "outputs": [],
   "source": [
    "def plotting_args():\n",
    "    return {'categories': cats, 'column': 'category',\n",
    "            'add_marker': marker, 'ar5_format': True}"
   ]
  },
  {
   "cell_type": "markdown",
   "metadata": {},
   "source": [
    "## Rename aggregate indicator from metadata\n",
    "\n",
    "This simplifies including the aggregate indicator 'Annual compounded Net Present Value' in the plots and assessment below."
   ]
  },
  {
   "cell_type": "code",
   "execution_count": null,
   "metadata": {},
   "outputs": [],
   "source": [
    "sr1p5.meta.rename(columns={'carbon price|AC NPV (2030-2100)': 'ac_npv'}, inplace=True)"
   ]
  },
  {
   "cell_type": "markdown",
   "metadata": {},
   "source": [
    "## Check for misreported carbon prices and exclude these from analysis and figues\n",
    "\n",
    "In some cases, models were not able to report carbon prices throughout the century due to the scenario protocol and policy implementation. Carbon prices below 5 USD/tCO2 in 2030 or reported as `nan` were, after consultation with the modeling teams, assessed to be misreported entries. For consistency, these scenarios are excluded throughout this notebook."
   ]
  },
  {
   "cell_type": "code",
   "execution_count": null,
   "metadata": {},
   "outputs": [],
   "source": [
    "df = sr1p5.filter(category=cats, variable='Price|Carbon', year=range(2030, 2101, 10))"
   ]
  },
  {
   "cell_type": "code",
   "execution_count": null,
   "metadata": {},
   "outputs": [],
   "source": [
    "misc = df.validate({'Price|Carbon': {'lo': 5, 'year': 2030}},\n",
    "                   exclude_on_fail=True).set_index(pyam.META_IDX)"
   ]
  },
  {
   "cell_type": "markdown",
   "metadata": {},
   "source": [
    "Check for `nan` entries in the carbon price timeseries and remove scenarios."
   ]
  },
  {
   "cell_type": "code",
   "execution_count": null,
   "metadata": {},
   "outputs": [],
   "source": [
    "carbon_price = df.timeseries()\n",
    "carbon_price.index = carbon_price.index.droplevel([2, 3, 4])"
   ]
  },
  {
   "cell_type": "code",
   "execution_count": null,
   "metadata": {},
   "outputs": [],
   "source": [
    "has_na = carbon_price.apply(lambda x: np.isnan(max(x)), axis=1)\n",
    "na = carbon_price[has_na]"
   ]
  },
  {
   "cell_type": "code",
   "execution_count": null,
   "metadata": {},
   "outputs": [],
   "source": [
    "df.set_meta(meta=True, name='exclude', index=na.index)"
   ]
  },
  {
   "cell_type": "markdown",
   "metadata": {},
   "source": [
    "### Show all carbon-price trajectories excluded from the analysis and export to `xlsx` for archiving"
   ]
  },
  {
   "cell_type": "code",
   "execution_count": null,
   "metadata": {},
   "outputs": [],
   "source": [
    "all_excluded = carbon_price.loc[misc.index].append(na)\n",
    "all_excluded"
   ]
  },
  {
   "cell_type": "code",
   "execution_count": null,
   "metadata": {},
   "outputs": [],
   "source": [
    "sr1p5.set_meta(True, 'exclude', all_excluded.index)"
   ]
  },
  {
   "cell_type": "code",
   "execution_count": null,
   "metadata": {},
   "outputs": [],
   "source": [
    "df.filter(exclude=False, inplace=True)"
   ]
  },
  {
   "cell_type": "markdown",
   "metadata": {},
   "source": [
    "## Compute net-present value carbon price timeseries\n",
    "\n",
    "Reload carbon-price timeseries after excluding non-valid timeseries data."
   ]
  },
  {
   "cell_type": "code",
   "execution_count": null,
   "metadata": {},
   "outputs": [],
   "source": [
    "carbon_price = df.timeseries()\n",
    "carbon_price.index = carbon_price.index.droplevel([2, 3, 4])"
   ]
  },
  {
   "cell_type": "code",
   "execution_count": null,
   "metadata": {},
   "outputs": [],
   "source": [
    "carbon_price_npv = carbon_price.copy()\n",
    "\n",
    "r = 0.05\n",
    "baseyear = 2020\n",
    "\n",
    "for y in carbon_price_npv.columns: \n",
    "    carbon_price_npv[y] = carbon_price_npv[y] / math.pow(1 + r, y - baseyear)"
   ]
  },
  {
   "cell_type": "markdown",
   "metadata": {},
   "source": [
    "## Statistical assessment of the carbon price development\n",
    "\n",
    "The following assessment is the basis of *Section 2.5.2.1*."
   ]
  },
  {
   "cell_type": "code",
   "execution_count": null,
   "metadata": {},
   "outputs": [],
   "source": [
    "stats = pyam.Statistics(df=sr1p5, groupby={'category': cats})"
   ]
  },
  {
   "cell_type": "code",
   "execution_count": null,
   "metadata": {},
   "outputs": [],
   "source": [
    "stats.add(carbon_price, header='Carbon price')"
   ]
  },
  {
   "cell_type": "code",
   "execution_count": null,
   "metadata": {},
   "outputs": [],
   "source": [
    "summary = stats.summarize()\n",
    "summary"
   ]
  },
  {
   "cell_type": "code",
   "execution_count": null,
   "metadata": {},
   "outputs": [],
   "source": [
    "summary.to_excel('output/sec_2.5_carbon_price_summary_statistics.xlsx')"
   ]
  },
  {
   "cell_type": "markdown",
   "metadata": {},
   "source": [
    "### Descriptive statistics of the 'Higher 2C' pathways"
   ]
  },
  {
   "cell_type": "code",
   "execution_count": null,
   "metadata": {},
   "outputs": [],
   "source": [
    "stats.summarize().loc[('category', 'Higher 2C')]"
   ]
  },
  {
   "cell_type": "markdown",
   "metadata": {},
   "source": [
    "### Descriptive statistics of the 'Below 1.5C' pathways"
   ]
  },
  {
   "cell_type": "code",
   "execution_count": null,
   "metadata": {
    "scrolled": true
   },
   "outputs": [],
   "source": [
    "stats.summarize().loc[('category', 'Below 1.5C')]"
   ]
  },
  {
   "cell_type": "markdown",
   "metadata": {},
   "source": [
    "## Plot the average carbon price by category\n",
    "\n",
    "This section produces panel b of **Figure 2.26**."
   ]
  },
  {
   "cell_type": "code",
   "execution_count": null,
   "metadata": {},
   "outputs": [],
   "source": [
    "filtered_npv = pyam.filter_by_meta(carbon_price_npv, df, category=None, marker=None, ac_npv=None, join_meta=True)"
   ]
  },
  {
   "cell_type": "code",
   "execution_count": null,
   "metadata": {},
   "outputs": [],
   "source": [
    "price_threshold = 690\n",
    "cols = ['ac_npv']"
   ]
  },
  {
   "cell_type": "code",
   "execution_count": null,
   "metadata": {},
   "outputs": [],
   "source": [
    "boxplot_by_cat(filtered_npv, **plotting_args(), years=cols,\n",
    "               xlabel='Annual compounded net-present-value carbon price from 2030 until 2100',\n",
    "               ylabel='Price of carbon (USD/tCO2)',\n",
    "               ymax=price_threshold, ymin=0, save='output/fig2.26b_carbon_price_npv.png')"
   ]
  },
  {
   "cell_type": "markdown",
   "metadata": {},
   "source": [
    "### Summary of outliers in the figure\n",
    "\n",
    "Display the timeseries data of scenarios exceeding the upper threshold of the figure (the number of data points exceeding the threshold per category is marked above the panel)."
   ]
  },
  {
   "cell_type": "code",
   "execution_count": null,
   "metadata": {},
   "outputs": [],
   "source": [
    "above_threshold = filtered_npv[cols].apply(lambda x: max(x) > price_threshold, axis=1)\n",
    "filtered_npv[above_threshold]"
   ]
  },
  {
   "cell_type": "markdown",
   "metadata": {},
   "source": [
    "## Plot price trajectory by category over time using a log scale\n",
    "\n",
    "This section produces panel a of **Figure 2.26**."
   ]
  },
  {
   "cell_type": "code",
   "execution_count": null,
   "metadata": {},
   "outputs": [],
   "source": [
    "filtered_data = pyam.filter_by_meta(carbon_price, df, category=None, marker=None, join_meta=True)"
   ]
  },
  {
   "cell_type": "code",
   "execution_count": null,
   "metadata": {},
   "outputs": [],
   "source": [
    "price_threshold = 15000"
   ]
  },
  {
   "cell_type": "code",
   "execution_count": null,
   "metadata": {},
   "outputs": [],
   "source": [
    "hlines = (\n",
    "    [i for i in range(10, 91, 10)] \n",
    "    + [i for i in range(100, 901, 100)]\n",
    "    + [i for i in range(1000, 10001, 1000)]\n",
    ")"
   ]
  },
  {
   "cell_type": "code",
   "execution_count": null,
   "metadata": {},
   "outputs": [],
   "source": [
    "boxplot_by_cat(filtered_data, **plotting_args(), ylabel='Price of carbon (USD/tCO2)',\n",
    "               log_scale=True, years=years, ymax=price_threshold,\n",
    "               hlines=hlines, legend=False, save='output/fig2.26a_carbon_price_over_time.png')"
   ]
  },
  {
   "cell_type": "markdown",
   "metadata": {},
   "source": [
    "### Summary of outliers in the figure\n",
    "\n",
    "Display the timeseries data of scenarios exceeding the upper threshold of the figure (the number of data points exceeding the threshold per category is marked above the panel)."
   ]
  },
  {
   "cell_type": "code",
   "execution_count": null,
   "metadata": {},
   "outputs": [],
   "source": [
    "above_threshold = filtered_data[years].apply(lambda x: max(x) > price_threshold, axis=1)\n",
    "filtered_data[above_threshold]"
   ]
  },
  {
   "cell_type": "markdown",
   "metadata": {},
   "source": [
    "### Export timeseries data to `xlsx`"
   ]
  },
  {
   "cell_type": "code",
   "execution_count": null,
   "metadata": {},
   "outputs": [],
   "source": [
    "writer = pd.ExcelWriter('output/sec2.5_carbon_price_timeseries.xlsx')\n",
    "pyam.utils.write_sheet(writer, 'real', pyam.filter_by_meta(carbon_price, **filter_args),\n",
    "                       index=True)\n",
    "pyam.utils.write_sheet(writer, 'npv', pyam.filter_by_meta(carbon_price_npv, **filter_args),\n",
    "                       index=True)\n",
    "writer.save()"
   ]
  },
  {
   "cell_type": "markdown",
   "metadata": {},
   "source": [
    "## Assessment of relative difference between 1.5°C and 2°C scenarios\n",
    "\n",
    "The following assessment is the basis of *Section 2.5.2.1*.\n",
    "\n",
    "We first define a mapping between corresponding pairs of scenarios, then assign this mapping to a number of dictionaries."
   ]
  },
  {
   "cell_type": "code",
   "execution_count": null,
   "metadata": {},
   "outputs": [],
   "source": [
    "mapping = [\n",
    "    ('SSP1-19', 'SSP1-26', 'SSP1'),\n",
    "    ('SSP2-19', 'SSP2-26', 'SSP2'),\n",
    "    ('SSP5-19', 'SSP5-26', 'SSP5'),\n",
    "    ('ADVANCE_2020_1.5C-2100', 'ADVANCE_2020_WB2C', 'ADVANCE_2020'),\n",
    "    ('CD-LINKS_NPi2020_400', 'CD-LINKS_NPi2020_1000', 'CD-LINKS_NPi2020'),\n",
    "    ('DAC15_50', 'DAC2_66', 'DAC'),\n",
    "    ('EMF33_1.5C_full', 'EMF33_WB2C_full', 'EMF33_full'),\n",
    "    ('EMF33_1.5C_limbio', 'EMF33_WB2C_limbio', 'EMF33_limbio'),\n",
    "    ('EMF33_1.5C_nofuel', 'EMF33_WB2C_nofuel', 'EMF33_nofuel'),\n",
    "    ('PEP_1p5C_full_eff', 'PEP_2C_full_eff', 'PEP_full_eff'),\n",
    "    ('PEP_1p5C_full_goodpractice', 'PEP_2C_full_goodpractice', 'PEP_full_goodpractice'),\n",
    "    ('PEP_1p5C_full_NDC', 'PEP_2C_full_NDC', 'PEP_full_NDC'),\n",
    "    ('PEP_1p5C_full_netzero', 'PEP_2C_full_netzero', 'PEP_full_netzero'),\n",
    "    ('PEP_1p5C_red_eff', 'PEP_2C_red_eff', 'PEP_red_eff'),\n",
    "    ('SMP_1p5C_Def', 'SMP_2C_Def', 'SMP_Def'),\n",
    "    ('SMP_1p5C_early', 'SMP_2C_early', 'SMP_early'),\n",
    "    ('SMP_1p5C_lifesty', 'SMP_2C_lifesty', 'SMP_lifesty'),\n",
    "    ('SMP_1p5C_regul', 'SMP_2C_regul', 'SMP_regul'),\n",
    "    ('SMP_1p5C_Sust', 'SMP_2C_Sust', 'SMP_Sust'),\n",
    "    ('SFCM_SSP2_Bio_1p5Degree', 'SFCM_SSP2_Bio_2Degree', 'SFCM_SSP2_Bio'),\n",
    "    ('SFCM_SSP2_combined_1p5Degree', 'SFCM_SSP2_combined_2Degree', 'SFCM_SSP2_combined'),\n",
    "    ('SFCM_SSP2_EEEI_1p5Degree', 'SFCM_SSP2_EEEI_2Degree', 'SFCM_SSP2_EEEI'),\n",
    "    ('SFCM_SSP2_LifeStyle_1p5Degree', 'SFCM_SSP2_LifeStyle_2Degree', 'SFCM_SSP2_LifeStyle'),\n",
    "    ('SFCM_SSP2_Ref_1p5Degree', 'SFCM_SSP2_Ref_2Degree', 'SFCM_SSP2_Ref'),\n",
    "    ('SFCM_SSP2_ST_bio_1p5Degree', 'SFCM_SSP2_ST_bio_2Degree', 'SFCM_SSP2_ST_bio'),\n",
    "    ('SFCM_SSP2_ST_CCS_1p5Degree', 'SFCM_SSP2_ST_CCS_2Degree', 'SFCM_SSP2_ST_CCS'),\n",
    "    ('SFCM_SSP2_ST_nuclear_1p5Degree', 'SFCM_SSP2_ST_nuclear_2Degree', 'SFCM_SSP2_ST_nuclear'),\n",
    "    ('SFCM_SSP2_ST_solar_1p5Degree', 'SFCM_SSP2_ST_solar_2Degree', 'SFCM_SSP2_ST_solar'),\n",
    "    ('SFCM_SSP2_ST_wind_1p5Degree', 'SFCM_SSP2_ST_wind_2Degree', 'SFCM_SSP2_ST_wind'),\n",
    "    ('SFCM_SSP2_SupTech_1p5Degree', 'SFCM_SSP2_SupTech_2Degree', 'SFCM_SSP2_SupTech'),\n",
    "    ('TERL_15D_LowCarbonTransportPolicy', 'TERL_2D_LowCarbonTransportPolicy', 'TERL_LowCarbonTransportPolicy'),\n",
    "    ('TERL_15D_NoTransportPolicy', 'TERL_2D_NoTransportPolicy', 'TERL_NoTransportPolicy')\n",
    "]"
   ]
  },
  {
   "cell_type": "code",
   "execution_count": null,
   "metadata": {},
   "outputs": [],
   "source": [
    "rename_1p5 = {}\n",
    "rename_1p5_reverse = {}\n",
    "rename_2 = {}\n",
    "rename_2_reverse = {}\n",
    "\n",
    "for (scen_1p5, scen_2, scen) in mapping:\n",
    "    rename_1p5[scen_1p5] = scen\n",
    "    rename_1p5_reverse[scen] = scen_1p5\n",
    "    rename_2[scen_2] = scen\n",
    "    rename_2_reverse[scen] = scen_2"
   ]
  },
  {
   "cell_type": "code",
   "execution_count": null,
   "metadata": {},
   "outputs": [],
   "source": [
    "def apply_rename_mapping(data, rename):\n",
    "    return data.loc[(slice(None), rename), :].copy().rename(rename, level=1)"
   ]
  },
  {
   "cell_type": "code",
   "execution_count": null,
   "metadata": {},
   "outputs": [],
   "source": [
    "carbon_price_all = df.filter(variable='Price|Carbon', exclude=False,\n",
    "                             year=range(2030, 2101, 10)).timeseries()\n",
    "carbon_price_all = pyam.filter_by_meta(carbon_price_all, sr1p5, ac_npv=None, join_meta=True)"
   ]
  },
  {
   "cell_type": "code",
   "execution_count": null,
   "metadata": {},
   "outputs": [],
   "source": [
    "carbon_price_1p5 = apply_rename_mapping(carbon_price_all, rename_1p5)\n",
    "carbon_price_2 = apply_rename_mapping(carbon_price_all, rename_2)"
   ]
  },
  {
   "cell_type": "markdown",
   "metadata": {},
   "source": [
    "### Show pairs where only one of the corresponding scenario is available\n",
    "\n",
    "The reason for the corresponding scenario not being available could be one of the following:\n",
    " - not reported by modeling team\n",
    " - excluded due misreported carbon prices (see section above)\n",
    " - warming outcome not in line with comparison of 1.5°C and 2°C scenarios"
   ]
  },
  {
   "cell_type": "code",
   "execution_count": null,
   "metadata": {},
   "outputs": [],
   "source": [
    "pd.DataFrame(index=carbon_price_1p5.index.difference(carbon_price_2.index))"
   ]
  },
  {
   "cell_type": "code",
   "execution_count": null,
   "metadata": {},
   "outputs": [],
   "source": [
    "pd.DataFrame(index=carbon_price_2.index.difference(carbon_price_1p5.index))"
   ]
  },
  {
   "cell_type": "markdown",
   "metadata": {},
   "source": [
    "### Compute the relative difference per scenario pair over time"
   ]
  },
  {
   "cell_type": "code",
   "execution_count": null,
   "metadata": {},
   "outputs": [],
   "source": [
    "carbon_price_rel = carbon_price_1p5 / carbon_price_2"
   ]
  },
  {
   "cell_type": "markdown",
   "metadata": {},
   "source": [
    "Remove scenarios where the relative difference is not defined"
   ]
  },
  {
   "cell_type": "code",
   "execution_count": null,
   "metadata": {},
   "outputs": [],
   "source": [
    "carbon_price_rel = carbon_price_rel[~np.isnan(carbon_price_rel[2030])]"
   ]
  },
  {
   "cell_type": "markdown",
   "metadata": {},
   "source": [
    "Define an auxiliary function to generate descriptive statistics"
   ]
  },
  {
   "cell_type": "code",
   "execution_count": null,
   "metadata": {},
   "outputs": [],
   "source": [
    "def describe_by_cat(data, category=None):\n",
    "    return (\n",
    "        apply_rename_mapping(\n",
    "            pyam.filter_by_meta(apply_rename_mapping(data, rename_1p5_reverse),\n",
    "                                sr1p5, category=category),\n",
    "            rename_1p5)\n",
    "        .describe()\n",
    "        .reindex(index=['count', 'mean', '25%', '75%'])\n",
    "    )"
   ]
  },
  {
   "cell_type": "markdown",
   "metadata": {},
   "source": [
    "### Show the descriptive statistics across corresponding scenario paris\n",
    "\n",
    "#### Across all scenario pairs where the lower scenario of the pair is in a 1.5°C category"
   ]
  },
  {
   "cell_type": "code",
   "execution_count": null,
   "metadata": {},
   "outputs": [],
   "source": [
    "describe_by_cat(carbon_price_rel, ['Below 1.5C', '1.5C low overshoot', '1.5C high overshoot'])"
   ]
  },
  {
   "cell_type": "markdown",
   "metadata": {},
   "source": [
    "#### Show the descriptive statistics across scenario pairs excluding high overshoot scebaruis"
   ]
  },
  {
   "cell_type": "code",
   "execution_count": null,
   "metadata": {},
   "outputs": [],
   "source": [
    "describe_by_cat(carbon_price_rel, ['Below 1.5C', '1.5C low overshoot'])"
   ]
  },
  {
   "cell_type": "markdown",
   "metadata": {},
   "source": [
    "### Descriptive statistics only for scenarios submitted from model intercomparison projects"
   ]
  },
  {
   "cell_type": "code",
   "execution_count": null,
   "metadata": {},
   "outputs": [],
   "source": [
    "projects = ['ADVANCE*', 'SSP*', 'CD-LINKS*', 'EMF33*']"
   ]
  },
  {
   "cell_type": "code",
   "execution_count": null,
   "metadata": {},
   "outputs": [],
   "source": [
    "carbon_price_rel_mip = (\n",
    "    carbon_price_rel[pyam.pattern_match(carbon_price_rel.reset_index().scenario, projects).values]\n",
    ")"
   ]
  },
  {
   "cell_type": "markdown",
   "metadata": {},
   "source": [
    "#### Descriptive statistics across all scenario pairs"
   ]
  },
  {
   "cell_type": "code",
   "execution_count": null,
   "metadata": {},
   "outputs": [],
   "source": [
    "describe_by_cat(carbon_price_rel_mip, ['Below 1.5C', '1.5C low overshoot', '1.5C high overshoot'])"
   ]
  },
  {
   "cell_type": "markdown",
   "metadata": {},
   "source": [
    "#### Only scenarios that remain below 1.5°C or exhibit low overshoot"
   ]
  },
  {
   "cell_type": "code",
   "execution_count": null,
   "metadata": {},
   "outputs": [],
   "source": [
    "describe_by_cat(carbon_price_rel_mip, ['Below 1.5C', '1.5C low overshoot'])"
   ]
  },
  {
   "cell_type": "markdown",
   "metadata": {},
   "source": [
    "### Export data for relative carbon price assessment to `xlsx`"
   ]
  },
  {
   "cell_type": "code",
   "execution_count": null,
   "metadata": {},
   "outputs": [],
   "source": [
    "def add_cats(data, df, col_suffix, mapping, mapping_reverse):\n",
    "    ret = apply_rename_mapping(data, mapping_reverse)\n",
    "    ret['scenario_{}'.format(col_suffix)] = ret.reset_index().scenario.values\n",
    "    ret = pyam.filter_by_meta(ret, df, category=None, join_meta=True)\n",
    "    ret.rename(columns={'category': 'subcategory_{}'.format(col_suffix)}, inplace=True)\n",
    "    return apply_rename_mapping(ret, mapping)"
   ]
  },
  {
   "cell_type": "code",
   "execution_count": null,
   "metadata": {},
   "outputs": [],
   "source": [
    "carbon_price_rel = add_cats(carbon_price_rel, df, '1.5', rename_1p5, rename_1p5_reverse)"
   ]
  },
  {
   "cell_type": "code",
   "execution_count": null,
   "metadata": {},
   "outputs": [],
   "source": [
    "carbon_price_rel = add_cats(carbon_price_rel, df, '2', rename_2, rename_2_reverse)"
   ]
  },
  {
   "cell_type": "code",
   "execution_count": null,
   "metadata": {},
   "outputs": [],
   "source": [
    "carbon_price_rel.to_excel('output/sec2.5_relative_carbon_prices.xlsx')"
   ]
  },
  {
   "cell_type": "code",
   "execution_count": null,
   "metadata": {},
   "outputs": [],
   "source": []
  }
 ],
 "metadata": {
  "kernelspec": {
   "display_name": "Python [default]",
   "language": "python",
   "name": "python3"
  },
  "language_info": {
   "codemirror_mode": {
    "name": "ipython",
    "version": 3
   },
   "file_extension": ".py",
   "mimetype": "text/x-python",
   "name": "python",
   "nbconvert_exporter": "python",
   "pygments_lexer": "ipython3",
   "version": "3.6.6"
  }
 },
 "nbformat": 4,
 "nbformat_minor": 2
}
