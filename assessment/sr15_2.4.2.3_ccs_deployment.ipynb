{
 "cells": [
  {
   "cell_type": "markdown",
   "metadata": {},
   "source": [
    "### *IPCC SR15 scenario assessment*\n",
    "\n",
    "<img style=\"float: right; height: 80px; padding-left: 20px;\" src=\"../_static/IIASA_logo.png\">\n",
    "<img style=\"float: right; height: 80px;\" src=\"../_static/IAMC_logo.jpg\">\n",
    "\n",
    "# Analysis of carbon capture and sequestration (CCS)\n",
    "\n",
    "This notebook computes indicators and diagnostics of the deployment of CCS by fuel\n",
    "and the total amount of CO2 stored as shown in **Figure 2.17**\n",
    "in the IPCC's _\"Special Report on Global Warming of 1.5°C\"_.\n",
    "\n",
    "The scenario data used in this analysis can be accessed and downloaded at [https://data.ene.iiasa.ac.at/iamc-1.5c-explorer](https://data.ene.iiasa.ac.at/iamc-1.5c-explorer)."
   ]
  },
  {
   "cell_type": "markdown",
   "metadata": {},
   "source": [
    "## Load `pyam` package and other dependencies"
   ]
  },
  {
   "cell_type": "code",
   "execution_count": null,
   "metadata": {},
   "outputs": [],
   "source": [
    "import pandas as pd\n",
    "import numpy as np\n",
    "import warnings\n",
    "import io\n",
    "import itertools\n",
    "import yaml\n",
    "import math\n",
    "import matplotlib.pyplot as plt\n",
    "%matplotlib inline\n",
    "import pyam\n",
    "\n",
    "from utils import boxplot_by_cat"
   ]
  },
  {
   "cell_type": "markdown",
   "metadata": {},
   "source": [
    "## Import scenario data, categorization and specifications files\n",
    "\n",
    "The metadata file must be generated from the notebook `sr15_2.0_categories_indicators` included in this repository.  \n",
    "If the snapshot file has been updated, make sure that you rerun the categorization notebook.\n",
    "\n",
    "The last cell of this section loads and assigns a number of auxiliary lists as defined in the categorization notebook."
   ]
  },
  {
   "cell_type": "code",
   "execution_count": null,
   "metadata": {},
   "outputs": [],
   "source": [
    "sr1p5 = pyam.IamDataFrame(data='../data/iamc15_scenario_data_world_r1.1.xlsx')"
   ]
  },
  {
   "cell_type": "code",
   "execution_count": null,
   "metadata": {},
   "outputs": [],
   "source": [
    "sr1p5.load_metadata('sr15_metadata_indicators.xlsx')"
   ]
  },
  {
   "cell_type": "code",
   "execution_count": null,
   "metadata": {},
   "outputs": [],
   "source": [
    "with open(\"sr15_specs.yaml\", 'r') as stream:\n",
    "    specs = yaml.load(stream, Loader=yaml.FullLoader)\n",
    "\n",
    "rc = pyam.run_control()\n",
    "for item in specs.pop('run_control').items():\n",
    "    rc.update({item[0]: item[1]})\n",
    "cats = specs.pop('cats')\n",
    "all_cats = specs.pop('all_cats')\n",
    "subcats = specs.pop('subcats')\n",
    "all_subcats = specs.pop('all_subcats')\n",
    "plotting_args = specs.pop('plotting_args')\n",
    "marker= specs.pop('marker')"
   ]
  },
  {
   "cell_type": "markdown",
   "metadata": {},
   "source": [
    "## Downselect scenario ensemble to categories of interest for this assessment\n",
    "\n",
    "Use all years (as of 2020) to correctly compute the total amount of CO2 stored in each scenario."
   ]
  },
  {
   "cell_type": "code",
   "execution_count": null,
   "metadata": {},
   "outputs": [],
   "source": [
    "years = range(2020, 2101, 5)"
   ]
  },
  {
   "cell_type": "code",
   "execution_count": null,
   "metadata": {},
   "outputs": [],
   "source": [
    "cats.remove('Above 2C')"
   ]
  },
  {
   "cell_type": "code",
   "execution_count": null,
   "metadata": {},
   "outputs": [],
   "source": [
    "df = sr1p5.filter(category=cats, year=years)"
   ]
  },
  {
   "cell_type": "markdown",
   "metadata": {},
   "source": [
    "## Set specifications for filter and plotting and initialize a data list"
   ]
  },
  {
   "cell_type": "code",
   "execution_count": null,
   "metadata": {},
   "outputs": [],
   "source": [
    "plot_ylabel = '{} with CCS (EJ)'\n",
    "save_name = 'output/fig2.17{}.{}'\n",
    "figure_format = 'png'"
   ]
  },
  {
   "cell_type": "code",
   "execution_count": null,
   "metadata": {},
   "outputs": [],
   "source": [
    "filter_args = dict(df=sr1p5, category=cats, marker=None, join_meta=True)"
   ]
  },
  {
   "cell_type": "code",
   "execution_count": null,
   "metadata": {},
   "outputs": [],
   "source": [
    "def plotting_args(name, panel_label=None, filetype=figure_format):\n",
    "    return {'categories': cats, 'column': 'category', 'years': range(2020, 2101, 10), 'add_marker': marker,\n",
    "            'ylabel': plot_ylabel.format(name),\n",
    "            'save': save_name.format(name if panel_label is None else '{}_{}'.format(panel_label, name), filetype)}"
   ]
  },
  {
   "cell_type": "code",
   "execution_count": null,
   "metadata": {},
   "outputs": [],
   "source": [
    "data = []"
   ]
  },
  {
   "cell_type": "markdown",
   "metadata": {},
   "source": [
    "## Add IEA's 'Faster Transition Scenario' to the set of marker scenarios for comparison"
   ]
  },
  {
   "cell_type": "code",
   "execution_count": null,
   "metadata": {},
   "outputs": [],
   "source": [
    "m = 'IEA WEM'\n",
    "col = 'marker'\n",
    "sr1p5.set_meta(m, col,\n",
    "               sr1p5.filter(model='IEA World Energy Model 2017',\n",
    "                            scenario='Faster Transition Scenario'))\n",
    "rc.update({'marker': {col: {m: 'o'}},\n",
    "           'c': {col: {m: 'red'}},\n",
    "           'edgecolors': {col: {m: 'black'}}}\n",
    "         )\n",
    "marker += [m]"
   ]
  },
  {
   "cell_type": "markdown",
   "metadata": {},
   "source": [
    "## Extract CCS timeseries data by fuel"
   ]
  },
  {
   "cell_type": "code",
   "execution_count": null,
   "metadata": {},
   "outputs": [],
   "source": [
    "ccs_bio = (\n",
    "    pyam.filter_by_meta(\n",
    "        df.filter(variable='Primary Energy|Biomass|Modern|w/ CCS')\n",
    "        .timeseries(), **filter_args)\n",
    ")"
   ]
  },
  {
   "cell_type": "code",
   "execution_count": null,
   "metadata": {},
   "outputs": [],
   "source": [
    "name = 'bioenergy'\n",
    "fig = boxplot_by_cat(ccs_bio, **plotting_args(name, 'a'))"
   ]
  },
  {
   "cell_type": "code",
   "execution_count": null,
   "metadata": {},
   "outputs": [],
   "source": [
    "data.append(('Bioenergy with CCS', ccs_bio))"
   ]
  },
  {
   "cell_type": "code",
   "execution_count": null,
   "metadata": {},
   "outputs": [],
   "source": [
    "ccs_coal = (\n",
    "    pyam.filter_by_meta(\n",
    "        df.filter(variable='Primary Energy|Coal|w/ CCS')\n",
    "        .timeseries(), **filter_args)\n",
    ")"
   ]
  },
  {
   "cell_type": "code",
   "execution_count": null,
   "metadata": {},
   "outputs": [],
   "source": [
    "name = 'coal'\n",
    "boxplot_by_cat(ccs_coal, **plotting_args(name, 'b'), legend=False)"
   ]
  },
  {
   "cell_type": "code",
   "execution_count": null,
   "metadata": {},
   "outputs": [],
   "source": [
    "data.append(('Coal with CCS', ccs_coal))"
   ]
  },
  {
   "cell_type": "code",
   "execution_count": null,
   "metadata": {},
   "outputs": [],
   "source": [
    "ccs_gas = (\n",
    "    pyam.filter_by_meta(\n",
    "        df.filter(variable='Primary Energy|Gas|w/ CCS')\n",
    "        .timeseries(), **filter_args)\n",
    ")"
   ]
  },
  {
   "cell_type": "code",
   "execution_count": null,
   "metadata": {},
   "outputs": [],
   "source": [
    "name = 'gas'\n",
    "boxplot_by_cat(ccs_gas, **plotting_args(name, 'c'), legend=False)"
   ]
  },
  {
   "cell_type": "code",
   "execution_count": null,
   "metadata": {},
   "outputs": [],
   "source": [
    "data.append(('Gas with CCS', ccs_gas))"
   ]
  },
  {
   "cell_type": "markdown",
   "metadata": {},
   "source": [
    "## Compute cumulative CO2 stored"
   ]
  },
  {
   "cell_type": "code",
   "execution_count": null,
   "metadata": {},
   "outputs": [],
   "source": [
    "ccs = (\n",
    "    df.filter(variable='Carbon Sequestration|CCS')\n",
    "    .convert_unit({'Mt CO2/yr': ('Gt CO2/yr', 0.001)})\n",
    "    .timeseries()\n",
    ")\n",
    "ccs.index = ccs.index.droplevel([2, 3, 4])"
   ]
  },
  {
   "cell_type": "code",
   "execution_count": null,
   "metadata": {},
   "outputs": [],
   "source": [
    "cum_ccs = pd.DataFrame()\n",
    "for i in range(2030, 2100, 10):\n",
    "    cum_ccs[i] = ccs.apply(pyam.cumulative, raw=False, axis=1, first_year=2020, last_year=i)\n",
    "\n",
    "cum_ccs = pyam.filter_by_meta(cum_ccs, **filter_args)"
   ]
  },
  {
   "cell_type": "code",
   "execution_count": null,
   "metadata": {},
   "outputs": [],
   "source": [
    "boxplot_by_cat(\n",
    "    cum_ccs,\n",
    "    categories=cats, column='category', years=range(2030, 2100, 10),\n",
    "    ylabel='cumulative CO2 stored (Gt)',\n",
    "    save=save_name.format('d_cumulative_ccs', figure_format),\n",
    "    ymax=2050, add_marker=marker, legend=False)"
   ]
  },
  {
   "cell_type": "code",
   "execution_count": null,
   "metadata": {},
   "outputs": [],
   "source": [
    "data.append(('Cumulative CCS', cum_ccs))"
   ]
  },
  {
   "cell_type": "markdown",
   "metadata": {},
   "source": [
    "## Export timeseries data to `xlsx`"
   ]
  },
  {
   "cell_type": "code",
   "execution_count": null,
   "metadata": {},
   "outputs": [],
   "source": [
    "writer = pd.ExcelWriter('output/fig2.17_data_table.xlsx')\n",
    "for (name, _df) in data:\n",
    "    pyam.utils.write_sheet(writer, name, _df, index=True)\n",
    "writer.save()"
   ]
  },
  {
   "cell_type": "code",
   "execution_count": null,
   "metadata": {},
   "outputs": [],
   "source": []
  }
 ],
 "metadata": {
  "kernelspec": {
   "display_name": "Python [conda env:anaconda]",
   "language": "python",
   "name": "conda-env-anaconda-py"
  },
  "language_info": {
   "codemirror_mode": {
    "name": "ipython",
    "version": 3
   },
   "file_extension": ".py",
   "mimetype": "text/x-python",
   "name": "python",
   "nbconvert_exporter": "python",
   "pygments_lexer": "ipython3",
   "version": "3.6.6"
  }
 },
 "nbformat": 4,
 "nbformat_minor": 2
}
