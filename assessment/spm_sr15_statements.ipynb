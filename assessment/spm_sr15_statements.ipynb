{
 "cells": [
  {
   "cell_type": "markdown",
   "metadata": {},
   "source": [
    "### *IPCC SR15 scenario assessment*\n",
    "\n",
    "<img style=\"float: right; height: 80px; padding-left: 20px;\" src=\"../_static/IIASA_logo.png\">\n",
    "<img style=\"float: right; height: 80px;\" src=\"../_static/IAMC_logo.jpg\">\n",
    "\n",
    "# Statements of the *Summary for Policymakers* <br /> derived from the scenario assessment\n",
    "\n",
    "This notebook computes the summary statistics highlighted in the Summary for Policymakers\n",
    "of the IPCC's _\"Special Report on Global Warming of 1.5°C\"_.\n",
    "\n",
    "The scenario data used in this analysis can be accessed and downloaded at [https://data.ene.iiasa.ac.at/iamc-1.5c-explorer](https://data.ene.iiasa.ac.at/iamc-1.5c-explorer)."
   ]
  },
  {
   "cell_type": "markdown",
   "metadata": {},
   "source": [
    "## Load `pyam` package and other dependencies"
   ]
  },
  {
   "cell_type": "code",
   "execution_count": null,
   "metadata": {},
   "outputs": [],
   "source": [
    "import pandas as pd\n",
    "import numpy as np\n",
    "import warnings\n",
    "import io\n",
    "import itertools\n",
    "import yaml\n",
    "import math\n",
    "import matplotlib.pyplot as plt\n",
    "plt.style.use('style_sr15.mplstyle')\n",
    "%matplotlib inline\n",
    "import pyam"
   ]
  },
  {
   "cell_type": "markdown",
   "metadata": {},
   "source": [
    "## Import scenario data, categorization and specifications files\n",
    "\n",
    "The metadata file must be generated from the notebook `sr15_2.0_categories_indicators` included in this repository.  \n",
    "If the snapshot file has been updated, make sure that you rerun the categorization notebook.\n",
    "\n",
    "The last cell of this section loads and assigns a number of auxiliary lists as defined in the categorization notebook."
   ]
  },
  {
   "cell_type": "code",
   "execution_count": null,
   "metadata": {},
   "outputs": [],
   "source": [
    "sr1p5 = pyam.IamDataFrame(data='../data/iamc15_scenario_data_world_r1.1.xlsx')"
   ]
  },
  {
   "cell_type": "code",
   "execution_count": null,
   "metadata": {},
   "outputs": [],
   "source": [
    "sr1p5.load_metadata('sr15_metadata_indicators.xlsx')"
   ]
  },
  {
   "cell_type": "code",
   "execution_count": null,
   "metadata": {},
   "outputs": [],
   "source": [
    "with open(\"sr15_specs.yaml\", 'r') as stream:\n",
    "    specs = yaml.load(stream, Loader=yaml.FullLoader)\n",
    "\n",
    "cats = specs.pop('cats')\n",
    "cats_15 = specs.pop('cats_15')\n",
    "cats_15_no_lo = specs.pop('cats_15_no_lo')\n",
    "cats_2 = specs.pop('cats_2')"
   ]
  },
  {
   "cell_type": "markdown",
   "metadata": {},
   "source": [
    "## Downselect scenario ensemble to categories of interest for this assessment"
   ]
  },
  {
   "cell_type": "code",
   "execution_count": null,
   "metadata": {},
   "outputs": [],
   "source": [
    "cats.remove('Above 2C')"
   ]
  },
  {
   "cell_type": "code",
   "execution_count": null,
   "metadata": {},
   "outputs": [],
   "source": [
    "compare_year = 2010"
   ]
  },
  {
   "cell_type": "code",
   "execution_count": null,
   "metadata": {},
   "outputs": [],
   "source": [
    "sr1p5.meta.rename(columns={'Kyoto-GHG|2010 (SAR)': 'kyoto_ghg_2010'}, inplace=True)"
   ]
  },
  {
   "cell_type": "code",
   "execution_count": null,
   "metadata": {},
   "outputs": [],
   "source": [
    "df = sr1p5.filter(category=cats)"
   ]
  },
  {
   "cell_type": "markdown",
   "metadata": {},
   "source": [
    "## Define filters for `pyam.Statistics` instance"
   ]
  },
  {
   "cell_type": "code",
   "execution_count": null,
   "metadata": {},
   "outputs": [],
   "source": [
    "filters_15_no_lo = [('no & lo os 1.5', {'category': cats_15_no_lo})]\n",
    "filters_compare = filters_15_no_lo + [('2.0 lo', {'category': 'Lower 2C'})]"
   ]
  },
  {
   "cell_type": "markdown",
   "metadata": {},
   "source": [
    "## Statement C1: Net CO2 emissions by warming categories and year of crossing the net-zero threshold\n",
    "\n",
    "To reduce potential bias by many scenarios from the same modelling framework, 13 scenarios submitted by the 'AIM' model are excluded from the assessment underpinning this statement (cf. Table 2.4)."
   ]
  },
  {
   "cell_type": "code",
   "execution_count": null,
   "metadata": {},
   "outputs": [],
   "source": [
    "filter_args_aim = dict(model='AIM*',\n",
    "                       scenario=['SFCM*_1p5Degree', 'EMF33_Med2C_nofuel', 'EMF33_Med2C_none'],\n",
    "                       keep=False)"
   ]
  },
  {
   "cell_type": "code",
   "execution_count": null,
   "metadata": {},
   "outputs": [],
   "source": [
    "stats_c1 = pyam.Statistics(df=df, filters=filters_compare, rows=True)"
   ]
  },
  {
   "cell_type": "code",
   "execution_count": null,
   "metadata": {},
   "outputs": [],
   "source": [
    "co2 = (\n",
    "    df.filter(kyoto_ghg_2010='in range', variable='Emissions|CO2')\n",
    "    .filter(**filter_args_aim)\n",
    "    .convert_unit({'Mt CO2/yr': ('Gt CO2/yr', 0.001)})\n",
    "    .timeseries()\n",
    ")"
   ]
  },
  {
   "cell_type": "code",
   "execution_count": null,
   "metadata": {},
   "outputs": [],
   "source": [
    "for y in [2030]:\n",
    "    stats_c1.add((1 - co2[y] / co2[compare_year]) * 100,\n",
    "                 header='Reduction in emissions by {}'.format(y),\n",
    "                 subheader='relative to {} (%)'.format(compare_year),\n",
    "                 row='Net CO2 emissions')"
   ]
  },
  {
   "cell_type": "markdown",
   "metadata": {},
   "source": [
    "Only include scenarios in this statistic that reach net-zero CO2 emissions before the end of the century"
   ]
  },
  {
   "cell_type": "code",
   "execution_count": null,
   "metadata": {},
   "outputs": [],
   "source": [
    "net_zero = (\n",
    "    df.filter(kyoto_ghg_2010='in range')\n",
    "    .filter(**filter_args_aim)\n",
    ").meta['year of netzero CO2 emissions']\n",
    "netzero = net_zero[net_zero < 2100]"
   ]
  },
  {
   "cell_type": "code",
   "execution_count": null,
   "metadata": {},
   "outputs": [],
   "source": [
    "stats_c1.add(net_zero,\n",
    "             header='Year of net-zero'.format(y),\n",
    "             subheader=''.format(compare_year),\n",
    "             row='Net CO2 emissions')"
   ]
  },
  {
   "cell_type": "code",
   "execution_count": null,
   "metadata": {},
   "outputs": [],
   "source": [
    "stats_c1.summarize(center='median', interquartile=True, custom_format='{:.0f}')"
   ]
  },
  {
   "cell_type": "markdown",
   "metadata": {},
   "source": [
    "## Statement C1.2: Reductions of methane and black carbon"
   ]
  },
  {
   "cell_type": "code",
   "execution_count": null,
   "metadata": {},
   "outputs": [],
   "source": [
    "stats_c12 = pyam.Statistics(df=df, filters=filters_15_no_lo, rows=True)"
   ]
  },
  {
   "cell_type": "code",
   "execution_count": null,
   "metadata": {},
   "outputs": [],
   "source": [
    "ch4 = df.filter(kyoto_ghg_2010='in range', variable='Emissions|CH4').timeseries()"
   ]
  },
  {
   "cell_type": "code",
   "execution_count": null,
   "metadata": {},
   "outputs": [],
   "source": [
    "for y in [2050]:\n",
    "    stats_c12.add((1 - ch4[y] / ch4[compare_year]) * 100,\n",
    "                  header='Reduction in emissions by {}'.format(y),\n",
    "                  subheader='relative to {} (%)'.format(compare_year),\n",
    "                  row='Methane (CH4)')"
   ]
  },
  {
   "cell_type": "code",
   "execution_count": null,
   "metadata": {},
   "outputs": [],
   "source": [
    "bc = df.filter(variable='Emissions|BC').timeseries()"
   ]
  },
  {
   "cell_type": "code",
   "execution_count": null,
   "metadata": {},
   "outputs": [],
   "source": [
    "for y in [2050]:\n",
    "    stats_c12.add((1 - bc[y] / bc[compare_year]) * 100,\n",
    "                  header='Reduction in emissions by {}'.format(y),\n",
    "                  subheader='relative to {} (%)'.format(compare_year),\n",
    "                  row='Black carbon')"
   ]
  },
  {
   "cell_type": "code",
   "execution_count": null,
   "metadata": {},
   "outputs": [],
   "source": [
    "stats_c12.summarize(center='mean', fullrange=True, custom_format='{:.0f}')"
   ]
  },
  {
   "cell_type": "markdown",
   "metadata": {},
   "source": [
    "## Statement C2.2: Energy system transformation"
   ]
  },
  {
   "cell_type": "code",
   "execution_count": null,
   "metadata": {},
   "outputs": [],
   "source": [
    "def add_stats_share(stats, var_list, name, total, total_name, years, df=df):\n",
    "\n",
    "    _df = df.filter(variable=var_list)\n",
    "    for v in var_list:\n",
    "        _df.require_variable(v, exclude_on_fail=True)\n",
    "    _df.filter(exclude=False, inplace=True)\n",
    "\n",
    "    component = (\n",
    "        _df.timeseries()\n",
    "        .groupby(['model', 'scenario']).sum()\n",
    "    )\n",
    "    share = component / total * 100\n",
    "    \n",
    "    for y in years:\n",
    "        stats.add(share[y], header='Share of {} in {}'.format(total_name, y),\n",
    "                  subheader='(%)', row=name)"
   ]
  },
  {
   "cell_type": "code",
   "execution_count": null,
   "metadata": {},
   "outputs": [],
   "source": [
    "stats_c22 = pyam.Statistics(df=df, filters=filters_15_no_lo, rows=True)"
   ]
  },
  {
   "cell_type": "code",
   "execution_count": null,
   "metadata": {},
   "outputs": [],
   "source": [
    "ele = df.filter(variable='Secondary Energy|Electricity').timeseries()\n",
    "ele.index = ele.index.droplevel([2, 3, 4])"
   ]
  },
  {
   "cell_type": "code",
   "execution_count": null,
   "metadata": {},
   "outputs": [],
   "source": [
    "ele_re_vars = [\n",
    "   'Secondary Energy|Electricity|Biomass',\n",
    "   'Secondary Energy|Electricity|Non-Biomass Renewables'\n",
    "]\n",
    "\n",
    "add_stats_share(stats_c22, ele_re_vars, 'renewables', ele, 'electricity generation', [2050])"
   ]
  },
  {
   "cell_type": "code",
   "execution_count": null,
   "metadata": {},
   "outputs": [],
   "source": [
    "ele_gas = ['Secondary Energy|Electricity|Gas']\n",
    "add_stats_share(stats_c22, ele_gas, 'natural gas', ele, 'electricity generation', [2050])"
   ]
  },
  {
   "cell_type": "code",
   "execution_count": null,
   "metadata": {},
   "outputs": [],
   "source": [
    "ele_coal = ['Secondary Energy|Electricity|Coal']\n",
    "add_stats_share(stats_c22, ele_coal, 'coal', ele, 'electricity generation', [2050])"
   ]
  },
  {
   "cell_type": "code",
   "execution_count": null,
   "metadata": {},
   "outputs": [],
   "source": [
    "stats_c22.summarize(center='mean', interquartile=True, custom_format='{:.0f}')"
   ]
  },
  {
   "cell_type": "markdown",
   "metadata": {},
   "source": [
    "## Statement C2.3: CO2 emissions from industry"
   ]
  },
  {
   "cell_type": "code",
   "execution_count": null,
   "metadata": {},
   "outputs": [],
   "source": [
    "stats_c23 = pyam.Statistics(df=df, filters=filters_compare)"
   ]
  },
  {
   "cell_type": "code",
   "execution_count": null,
   "metadata": {},
   "outputs": [],
   "source": [
    "co2_ind = df.filter(variable='Emissions|CO2|Energy|Demand|Industry').timeseries()"
   ]
  },
  {
   "cell_type": "code",
   "execution_count": null,
   "metadata": {},
   "outputs": [],
   "source": [
    "for y in [2050]:\n",
    "    stats_c23.add((1 - co2_ind[y] / co2_ind[compare_year]) * 100,\n",
    "                   header='Industrial emissions reductions relative to {} (%)'.format(compare_year),\n",
    "                   subheader=y)"
   ]
  },
  {
   "cell_type": "code",
   "execution_count": null,
   "metadata": {},
   "outputs": [],
   "source": [
    "stats_c23.summarize(center='median', interquartile=True, custom_format='{:.0f}')"
   ]
  },
  {
   "cell_type": "markdown",
   "metadata": {},
   "source": [
    "## Statement C2.4: Urban infrastructure and transport"
   ]
  },
  {
   "cell_type": "code",
   "execution_count": null,
   "metadata": {},
   "outputs": [],
   "source": [
    "stats_c24 = pyam.Statistics(df=df, filters=filters_compare, rows=True)"
   ]
  },
  {
   "cell_type": "code",
   "execution_count": null,
   "metadata": {},
   "outputs": [],
   "source": [
    "bld = df.filter(variable='Final Energy|Residential and Commercial').timeseries()\n",
    "bld.index = bld.index.droplevel([2, 3, 4])"
   ]
  },
  {
   "cell_type": "code",
   "execution_count": null,
   "metadata": {},
   "outputs": [],
   "source": [
    "bld_ele_vars = ['Final Energy|Residential and Commercial|Electricity']\n",
    "add_stats_share(stats_c24, bld_ele_vars, 'electricity', bld, 'energy demand in buildings', [2050])"
   ]
  },
  {
   "cell_type": "code",
   "execution_count": null,
   "metadata": {},
   "outputs": [],
   "source": [
    "trp = df.filter(variable='Final Energy|Transportation').timeseries()\n",
    "trp.index = trp.index.droplevel([2, 3, 4])"
   ]
  },
  {
   "cell_type": "code",
   "execution_count": null,
   "metadata": {},
   "outputs": [],
   "source": [
    "var_trp_low = [\n",
    "    'Final Energy|Transportation|Electricity',\n",
    "    'Final Energy|Transportation|Hydrogen',\n",
    "    'Final Energy|Transportation|Liquids|Biomass'\n",
    "]\n",
    "\n",
    "add_stats_share(stats_c24, var_trp_low, 'low-emission energy', trp, 'energy demand in transport', [2050])"
   ]
  },
  {
   "cell_type": "code",
   "execution_count": null,
   "metadata": {},
   "outputs": [],
   "source": [
    "stats_c24.summarize(center='median', interquartile=True, custom_format='{:.0f}')"
   ]
  },
  {
   "cell_type": "markdown",
   "metadata": {},
   "source": [
    "## Statement C2.5: Transitions of land use\n",
    "\n",
    "Please refer to Figure 2.24 in Chapter 2 of the SR15 for details."
   ]
  },
  {
   "cell_type": "markdown",
   "metadata": {},
   "source": [
    "## Statement C2.6: Energy-related investment costs\n",
    "\n",
    "Please refer to Figure 2.27 in Chapter 2 of the SR15 for details."
   ]
  },
  {
   "cell_type": "markdown",
   "metadata": {},
   "source": [
    "## Statement C2.7: Marginal abatement costs\n",
    "\n",
    "Please refer to the notebook [sr15_2.5_carbon_price_analysis](sr15_2.5_carbon_price_analysis.ipynb) in this folder\n",
    "for the detailed assessment."
   ]
  },
  {
   "cell_type": "markdown",
   "metadata": {},
   "source": [
    "## Statement C3: Cumulative carbon dioxide removal\n",
    "\n",
    "Please refer to the notebook [sr15_2.3.4_carbon_dioxide_removal](sr1p5_2.3.4_carbon_dioxide_removal.ipynb) in this folder\n",
    "for the detailed assessment."
   ]
  },
  {
   "cell_type": "markdown",
   "metadata": {},
   "source": [
    "## Statement C3.2: Carbon capture and sequestration\n",
    "\n",
    "Please refer to the notebook [sr15_2.3.4_carbon_dioxide_removal](sr1p5_2.3.4_carbon_dioxide_removal.ipynb) in this folder\n",
    "for the detailed assessment."
   ]
  },
  {
   "cell_type": "markdown",
   "metadata": {},
   "source": [
    "## Statement D1.1: CO2 emissions reductions"
   ]
  },
  {
   "cell_type": "code",
   "execution_count": null,
   "metadata": {},
   "outputs": [],
   "source": [
    "stats_d11 = pyam.Statistics(df=df, filters=filters_15_no_lo)"
   ]
  },
  {
   "cell_type": "code",
   "execution_count": null,
   "metadata": {},
   "outputs": [],
   "source": [
    "ghg_ar4_sar = (\n",
    "    df.filter(kyoto_ghg_2010='in range', variable='Emissions|Kyoto Gases (AR4-GWP100)')\n",
    "    .convert_unit({'Mt CO2-equiv/yr': ('Gt CO2-equiv/yr', 0.001)})\n",
    "    .timeseries()\n",
    ")"
   ]
  },
  {
   "cell_type": "code",
   "execution_count": null,
   "metadata": {},
   "outputs": [],
   "source": [
    "stats_d11.add(ghg_ar4_sar[[compare_year, 2030]], header='Kyoto GHG emissions (Gt CO2-eq/yr)')"
   ]
  },
  {
   "cell_type": "code",
   "execution_count": null,
   "metadata": {},
   "outputs": [],
   "source": [
    "stats_d11.add((ghg_ar4_sar[2030] / ghg_ar4_sar[compare_year] - 1) * 100,\n",
    "              header='Reduction of Kyoto GHG emissions',\n",
    "              subheader='2030 relative to {} (%)'.format(compare_year))"
   ]
  },
  {
   "cell_type": "code",
   "execution_count": null,
   "metadata": {},
   "outputs": [],
   "source": [
    "stats_d11.summarize(interquartile=True, custom_format='{:.1f}')"
   ]
  },
  {
   "cell_type": "markdown",
   "metadata": {},
   "source": [
    "### Checking 1.5°C pathways with limited overshoot that do not reduce CO2 emissions to below 35Gt in 2030"
   ]
  },
  {
   "cell_type": "code",
   "execution_count": null,
   "metadata": {},
   "outputs": [],
   "source": [
    "ghg_ar4 = (\n",
    "    df.filter(variable='Emissions|Kyoto Gases (AR4-GWP100)')\n",
    "    .convert_unit({'Mt CO2-equiv/yr': ('Gt CO2-equiv/yr', 0.001)})\n",
    "    .timeseries()\n",
    ")"
   ]
  },
  {
   "cell_type": "code",
   "execution_count": null,
   "metadata": {},
   "outputs": [],
   "source": [
    "ghg_ar4_15 = pyam.filter_by_meta(ghg_ar4, df, category=cats_15_no_lo)\n",
    "ghg_ar4_15[ghg_ar4_15[2030] > 35].dropna(axis=1)"
   ]
  }
 ],
 "metadata": {
  "kernelspec": {
   "display_name": "Python 3",
   "language": "python",
   "name": "python3"
  },
  "language_info": {
   "codemirror_mode": {
    "name": "ipython",
    "version": 3
   },
   "file_extension": ".py",
   "mimetype": "text/x-python",
   "name": "python",
   "nbconvert_exporter": "python",
   "pygments_lexer": "ipython3",
   "version": "3.7.3"
  }
 },
 "nbformat": 4,
 "nbformat_minor": 2
}
