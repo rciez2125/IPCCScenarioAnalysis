{
 "cells": [
  {
   "cell_type": "markdown",
   "metadata": {},
   "source": [
    "### *IPCC SR15 scenario assessment*\n",
    "\n",
    "<img style=\"float: right; height: 120px; margin-top: 10px;\" src=\"../_static/IIASA_logo.png\">\n",
    "<img style=\"float: right; height: 100px;\" src=\"../_static/IAMC_logo.jpg\">\n",
    "\n",
    "# Scenario categorization and indicators\n",
    "\n",
    "This notebook assigns the categorization by warming outcome and computes a range of descriptive indicators\n",
    "for the scenario assessment of the IPCC's _\"Special Report on Global Warming of 1.5°C\"_.\n",
    "It generates a `sr15_metadata_indicators.xlsx` spreadsheet, which is used in other notebooks for this assessment\n",
    "for categorization and extracting descriptive indicators.\n",
    "\n",
    "## Scenario ensemble data\n",
    "\n",
    "The scenario data used in this analysis can be accessed and downloaded at [https://data.ene.iiasa.ac.at/iamc-1.5c-explorer](https://data.ene.iiasa.ac.at/iamc-1.5c-explorer).\n",
    "\n",
    "Bibliographic details of the scenario ensemble and all studies that contributed scenarios to the ensemble\n",
    "are included in this repository\n",
    "as [Endnote (enl)](../bibliography/iamc_1.5c_scenario_data.enl),\n",
    "[Reference Manager (ris)](../bibliography/iamc_1.5c_scenario_data.ris),\n",
    "and [BibTex (bib)](../bibliography/iamc_1.5c_scenario_data.bib) format.\n",
    "\n",
    "## License and recommended citation\n",
    "\n",
    "This notebook is licensed under the Apache License, Version 2.0.\n",
    "\n",
    "Please refer to the [README](../README.md) for the recommended citation of the scenario ensemble and the notebooks in this repository.\n",
    "\n",
    "***"
   ]
  },
  {
   "cell_type": "markdown",
   "metadata": {},
   "source": [
    "## Import dependencies and define general notebook settings"
   ]
  },
  {
   "cell_type": "code",
   "execution_count": 1,
   "metadata": {},
   "outputs": [],
   "source": [
    "import math\n",
    "import io\n",
    "import yaml\n",
    "import re\n",
    "import pandas as pd\n",
    "import numpy as np\n",
    "from IPython.display import display"
   ]
  },
  {
   "cell_type": "markdown",
   "metadata": {},
   "source": [
    "### Introduction and tutorial for the `pyam` package\n",
    "\n",
    "This notebook (and all other analysis notebooks in this repository) uses the `pyam` package,\n",
    "an open-source Python package for IAM scenario analysis and visualization\n",
    "([pyam-iamc.readthedocs.io](https://pyam-iamc.readthedocs.io)).\n",
    "\n",
    "For an introduction of the notation and features of the `pyam` package,\n",
    "please refer to [this tutorial](https://github.com/IAMconsortium/pyam/blob/master/doc/source/tutorials/pyam_first_steps.ipynb).  \n",
    "It will take you through the basic functions and options used here,\n",
    "and provide further introduction and guidelines."
   ]
  },
  {
   "cell_type": "code",
   "execution_count": 2,
   "metadata": {},
   "outputs": [
    {
     "data": {
      "application/javascript": [
       "IPython.OutputArea.prototype._should_scroll = function(lines) { return false; }"
      ],
      "text/plain": [
       "<IPython.core.display.Javascript object>"
      ]
     },
     "metadata": {},
     "output_type": "display_data"
    }
   ],
   "source": [
    "import pyam\n",
    "logger = pyam.logger()"
   ]
  },
  {
   "cell_type": "markdown",
   "metadata": {},
   "source": [
    "### Import Matplotlib and set figure layout defaults in line with SR1.5 guidelines"
   ]
  },
  {
   "cell_type": "code",
   "execution_count": 3,
   "metadata": {},
   "outputs": [],
   "source": [
    "import matplotlib\n",
    "matplotlib.use('TkAgg')\n",
    "import matplotlib.pyplot as plt\n",
    "plt.style.use('style_sr15.mplstyle')"
   ]
  },
  {
   "cell_type": "markdown",
   "metadata": {},
   "source": [
    "## Import scenario snapshot and define auxiliary dictionaries\n",
    "\n",
    "This notebook only assigns indicator based on global timeseries data.\n",
    "\n",
    "The dictionary `meta_tables` is used to collect definitions\n",
    "of categories and secondary scenario classification throughout this script.\n",
    "These definitions are exported to the metadata/categorization Excel workbook\n",
    "at the end of the script for completeness.\n",
    "The dictionary `meta_docs` collects definitions used for the documentation tags\n",
    "in the online scenario explorer.\n",
    "\n",
    "The dictionary `specs` collects lists and the run control specifications to be exported to JSON\n",
    "and used by other notebooks for the SR1.5 scenario analysis.\n",
    "\n",
    "The `plotting_args` dictionary assigns the default plotting arguemnts in this notebook."
   ]
  },
  {
   "cell_type": "code",
   "execution_count": 4,
   "metadata": {},
   "outputs": [
    {
     "name": "stderr",
     "output_type": "stream",
     "text": [
      "INFO:root:Reading `../data/iamc15_scenario_data_world_r1.1.xlsx`\n"
     ]
    }
   ],
   "source": [
    "sr1p5 = pyam.IamDataFrame(data='../data/iamc15_scenario_data_world_r1.1.xlsx')"
   ]
  },
  {
   "cell_type": "code",
   "execution_count": 5,
   "metadata": {},
   "outputs": [],
   "source": [
    "meta_tables = {}\n",
    "meta_docs = {}"
   ]
  },
  {
   "cell_type": "code",
   "execution_count": 6,
   "metadata": {},
   "outputs": [],
   "source": [
    "specs = {}"
   ]
  },
  {
   "cell_type": "code",
   "execution_count": 7,
   "metadata": {},
   "outputs": [],
   "source": [
    "plotting_args = {'color': 'category', 'linewidth': 0.2}\n",
    "specs['plotting_args'] = plotting_args"
   ]
  },
  {
   "cell_type": "markdown",
   "metadata": {},
   "source": [
    "## Verify completeness of scenario submissions for key variables\n",
    "\n",
    "Verify that every scenario except for *Shell Sky* and the historical reference scenarios reports CO2 Emissions in 2030."
   ]
  },
  {
   "cell_type": "code",
   "execution_count": 8,
   "metadata": {},
   "outputs": [
    {
     "name": "stderr",
     "output_type": "stream",
     "text": [
      "INFO:root:3 scenarios do not include required variable `Emissions|CO2`\n"
     ]
    },
    {
     "data": {
      "text/html": [
       "<div>\n",
       "<style scoped>\n",
       "    .dataframe tbody tr th:only-of-type {\n",
       "        vertical-align: middle;\n",
       "    }\n",
       "\n",
       "    .dataframe tbody tr th {\n",
       "        vertical-align: top;\n",
       "    }\n",
       "\n",
       "    .dataframe thead th {\n",
       "        text-align: right;\n",
       "    }\n",
       "</style>\n",
       "<table border=\"1\" class=\"dataframe\">\n",
       "  <thead>\n",
       "    <tr style=\"text-align: right;\">\n",
       "      <th></th>\n",
       "      <th>model</th>\n",
       "      <th>scenario</th>\n",
       "    </tr>\n",
       "  </thead>\n",
       "  <tbody>\n",
       "    <tr>\n",
       "      <td>0</td>\n",
       "      <td>Reference</td>\n",
       "      <td>CEDS</td>\n",
       "    </tr>\n",
       "    <tr>\n",
       "      <td>1</td>\n",
       "      <td>Reference</td>\n",
       "      <td>IEA Energy Statistics (r2017)</td>\n",
       "    </tr>\n",
       "    <tr>\n",
       "      <td>2</td>\n",
       "      <td>Shell World Energy Model 2018</td>\n",
       "      <td>Sky</td>\n",
       "    </tr>\n",
       "  </tbody>\n",
       "</table>\n",
       "</div>"
      ],
      "text/plain": [
       "                           model                       scenario\n",
       "0                      Reference                           CEDS\n",
       "1                      Reference  IEA Energy Statistics (r2017)\n",
       "2  Shell World Energy Model 2018                            Sky"
      ]
     },
     "execution_count": 8,
     "metadata": {},
     "output_type": "execute_result"
    }
   ],
   "source": [
    "sr1p5.require_variable(variable='Emissions|CO2', year=2030, exclude_on_fail=False)"
   ]
  },
  {
   "cell_type": "markdown",
   "metadata": {},
   "source": [
    "## Check MAGICC postprocessing prior to categorization\n",
    "\n",
    "Assign scenarios that could not be postprocessed by probabilistic MAGICC to respective categories:  \n",
    " - data not available for full century\n",
    " - insufficient reporting of emission species\n",
    " - reference scenario"
   ]
  },
  {
   "cell_type": "code",
   "execution_count": 9,
   "metadata": {},
   "outputs": [],
   "source": [
    "sr1p5.set_meta(name='category', meta= 'uncategorized')"
   ]
  },
  {
   "cell_type": "code",
   "execution_count": 10,
   "metadata": {},
   "outputs": [
    {
     "data": {
      "text/html": [
       "<div>\n",
       "<style scoped>\n",
       "    .dataframe tbody tr th:only-of-type {\n",
       "        vertical-align: middle;\n",
       "    }\n",
       "\n",
       "    .dataframe tbody tr th {\n",
       "        vertical-align: top;\n",
       "    }\n",
       "\n",
       "    .dataframe thead th {\n",
       "        text-align: right;\n",
       "    }\n",
       "</style>\n",
       "<table border=\"1\" class=\"dataframe\">\n",
       "  <thead>\n",
       "    <tr style=\"text-align: right;\">\n",
       "      <th></th>\n",
       "      <th></th>\n",
       "    </tr>\n",
       "    <tr>\n",
       "      <th>model</th>\n",
       "      <th>scenario</th>\n",
       "    </tr>\n",
       "  </thead>\n",
       "  <tbody>\n",
       "    <tr>\n",
       "      <td rowspan=\"2\" valign=\"top\">Reference</td>\n",
       "      <td>CEDS</td>\n",
       "    </tr>\n",
       "    <tr>\n",
       "      <td>IEA Energy Statistics (r2017)</td>\n",
       "    </tr>\n",
       "  </tbody>\n",
       "</table>\n",
       "</div>"
      ],
      "text/plain": [
       "Empty DataFrame\n",
       "Columns: []\n",
       "Index: [(Reference, CEDS), (Reference, IEA Energy Statistics (r2017))]"
      ]
     },
     "execution_count": 10,
     "metadata": {},
     "output_type": "execute_result"
    }
   ],
   "source": [
    "reference = sr1p5.filter(model='Reference')\n",
    "pd.DataFrame(index=reference.meta.index)"
   ]
  },
  {
   "cell_type": "code",
   "execution_count": 11,
   "metadata": {},
   "outputs": [
    {
     "name": "stderr",
     "output_type": "stream",
     "text": [
      "INFO:numexpr.utils:NumExpr defaulting to 4 threads.\n"
     ]
    }
   ],
   "source": [
    "sr1p5.set_meta(meta='reference', name='category', index=reference)"
   ]
  },
  {
   "cell_type": "code",
   "execution_count": 12,
   "metadata": {},
   "outputs": [
    {
     "data": {
      "text/html": [
       "<div>\n",
       "<style scoped>\n",
       "    .dataframe tbody tr th:only-of-type {\n",
       "        vertical-align: middle;\n",
       "    }\n",
       "\n",
       "    .dataframe tbody tr th {\n",
       "        vertical-align: top;\n",
       "    }\n",
       "\n",
       "    .dataframe thead th {\n",
       "        text-align: right;\n",
       "    }\n",
       "</style>\n",
       "<table border=\"1\" class=\"dataframe\">\n",
       "  <thead>\n",
       "    <tr style=\"text-align: right;\">\n",
       "      <th></th>\n",
       "      <th></th>\n",
       "    </tr>\n",
       "    <tr>\n",
       "      <th>model</th>\n",
       "      <th>scenario</th>\n",
       "    </tr>\n",
       "  </thead>\n",
       "  <tbody>\n",
       "    <tr>\n",
       "      <td>GENeSYS-MOD 1.0</td>\n",
       "      <td>1.0</td>\n",
       "    </tr>\n",
       "    <tr>\n",
       "      <td>IEA Energy Technology Perspective Model 2017</td>\n",
       "      <td>B2DS</td>\n",
       "    </tr>\n",
       "    <tr>\n",
       "      <td>Shell World Energy Model 2018</td>\n",
       "      <td>Sky</td>\n",
       "    </tr>\n",
       "  </tbody>\n",
       "</table>\n",
       "</div>"
      ],
      "text/plain": [
       "Empty DataFrame\n",
       "Columns: []\n",
       "Index: [(GENeSYS-MOD 1.0, 1.0), (IEA Energy Technology Perspective Model 2017, B2DS), (Shell World Energy Model 2018, Sky)]"
      ]
     },
     "execution_count": 12,
     "metadata": {},
     "output_type": "execute_result"
    }
   ],
   "source": [
    "no_climate_assessment = (\n",
    "    sr1p5.filter(category='uncategorized').meta.index\n",
    "    .difference(sr1p5.filter(year=2100, variable='Emissions|CO2').meta.index)\n",
    ")\n",
    "pd.DataFrame(index=no_climate_assessment)"
   ]
  },
  {
   "cell_type": "code",
   "execution_count": 13,
   "metadata": {},
   "outputs": [],
   "source": [
    "sr1p5.set_meta(meta='no-climate-assessment', name='category', index=no_climate_assessment)"
   ]
  },
  {
   "cell_type": "markdown",
   "metadata": {},
   "source": [
    "## Categorization of scenarios\n",
    "\n",
    "This section applies the categorization of scenario as defined in Chapter 2 of the Special Report\n",
    "for unique assignment of scenarios.\n",
    "\n",
    "The category specification as agreed upon at LAM 3 in Malmö is repeated here for easier reference.\n",
    "\n",
    "The term $P_{x°C}$ refers to the probability of exceeding warming of $x°C$ throughout the century in at least one year\n",
    "and $P_{x°C}(y)$ refers to the probability of exceedance in a specific year $y$.\n",
    "\n",
    "|**Categories** |**Subcategories**|**Probability to exceed warming threshold**|**Acronym**      |**Color**       |\n",
    "|---------------|-----------------|-------------------------------------------|-----------------|----------------|\n",
    "| Below 1.5°C   | Below 1.5°C (I) | $P_{1.5°C} \\leq 0.34$                      | Below 1.5C (I)  | xkcd:baby blue |\n",
    "|               | Below 1.5°C (II)| $0.34 < P_{1.5°C} \\leq 0.50$               | Below 1.5C (II) |                |\n",
    "| 1.5°C return with low OS | Lower 1.5°C return with low OS | $0.50 < P_{1.5°C} \\leq 0.67$ and $P_{1.5°C}(2100) \\leq 0.34$ |(Lower) 1.5C low OS | xkcd:bluish |\n",
    "|               | Higher 1.5°C return with low OS | $0.50 < P_{1.5°C} \\leq 0.67$ and $0.34 < P_{1.5°C}(2100) \\leq 0.50$ |(Higher) 1.5C low OS |             |\n",
    "| 1.5°C return with high OS | Lower 1.5°C return with high OS  | $0.67 < P_{1.5°C}$ and $P_{1.5°C}(2100) \\leq 0.34$ | (Lower) 1.5C high OS | xkcd:darkish blue |\n",
    "|               | Higher 1.5°C return with high OS | $0.67 < P_{1.5°C}$ and $0.34 < P_{1.5°C}(2100) \\leq 0.50$ | (Higher) 1.5C high OS |             |\n",
    "| Lower 2.0°C   |                 | $P_{2.0°C} \\leq 0.34$ (excluding above)        | Lower 2C      | xkcd:orange |\n",
    "| Higher 2.0°C  |                 | $0.34 < P_{2.0°C} \\leq 0.50$ (excluding above) | Higher 2C     | xkcd:red    | \n",
    "| Above 2.0°C   |                 | $P_{2.0°C} > 0.50$ for at least 1 year         | Above 2C      | darkgrey    | "
   ]
  },
  {
   "cell_type": "markdown",
   "metadata": {},
   "source": [
    "### Category definitions to Excel\n",
    "\n",
    "The following dictionary repeats the category definitions from the table above\n",
    "and saves them as a `pandas.DataFrame` to a dictionary `meta_tables`.\n",
    "Throughout the notebook, this dictionary is used to collect definitions\n",
    "of categories and secondary scenario classification.\n",
    "These definitions are exported to the metadata/categorization Excel workbook\n",
    "at the end of the script for easy reference."
   ]
  },
  {
   "cell_type": "code",
   "execution_count": 14,
   "metadata": {},
   "outputs": [],
   "source": [
    "dct = {'Categories of scenarios': \n",
    "           ['Below 1.5°C', \n",
    "            '', \n",
    "            '1.5°C return with low overshoot',\n",
    "            '',\n",
    "            '1.5°C return with high overshoot',\n",
    "            '',\n",
    "            'Lower 2.0°C',\n",
    "            'Higher 2.0°C',\n",
    "            'Above 2.0°C'],\n",
    "        'Subcategories': \n",
    "           ['Below 1.5°C (I)', \n",
    "            'Below 1.5°C (II)', \n",
    "            'Lower 1.5°C return with low overshoot',\n",
    "            'Higher 1.5°C return with low overshoot',\n",
    "            'Lower 1.5°C return with high overshoot',\n",
    "            'Higher 1.5°C return with high overshoot',\n",
    "            '',\n",
    "            '',\n",
    "            ''],\n",
    "       'Criteria for assignment to category':\n",
    "           ['P1.5°C ≤ 0.34',\n",
    "            '0.34 < P1.5°C ≤ 0.50',\n",
    "            '0.50 < P1.5°C ≤ 0.67 and P1.5°C(2100) ≤ 0.34',\n",
    "            '0.50 < P1.5°C ≤ 0.67 and 0.34 < P1.5°C(2100) ≤ 0.50',\n",
    "            '0.67 < P1.5°C and P1.5°C(2100) ≤ 0.34',\n",
    "            '0.67 < P1.5°C and 0.34 < P1.5°C(2100) ≤ 0.50',\n",
    "            'P2.0°C ≤ 0.34 (excluding above)',\n",
    "            '0.34 < P2.0°C ≤ 0.50 (excluding above)',\n",
    "            'P2.0°C > 0.50 during at least 1 year'\n",
    "           ],\n",
    "       'Acronym':\n",
    "           ['Below 1.5C (I)',\n",
    "            'Below 1.5C (II)',\n",
    "            'Lower 1.5C low overshoot',\n",
    "            'Higher 1.5C low overshoot',\n",
    "            'Lower 1.5C high overshoot',\n",
    "            'Higher 1.5C high overshoot',\n",
    "            'Lower 2C',\n",
    "            'Higher 2C',\n",
    "            'Above 2C'],\n",
    "        'Color':\n",
    "           ['xkcd:baby blue',\n",
    "            '',\n",
    "            'xkcd:bluish',\n",
    "            '',\n",
    "            'xkcd:darkish blue',\n",
    "            '',\n",
    "            'xkcd:orange',\n",
    "            'xkcd:red',\n",
    "            'darkgrey']\n",
    "      }\n",
    "cols = ['Categories of scenarios', 'Subcategories', 'Criteria for assignment to category', 'Acronym', 'Color']\n",
    "categories_doc = pd.DataFrame(dct)[cols]\n",
    "meta_tables['categories'] = categories_doc\n",
    "meta_docs['category'] = 'Categorization of scenarios by global warming impact'\n",
    "meta_docs['subcategory'] = 'Sub-categorization of scenarios by global warming impact'"
   ]
  },
  {
   "cell_type": "code",
   "execution_count": 15,
   "metadata": {},
   "outputs": [],
   "source": [
    "other_cats = ['no-climate-assessment', 'reference']\n",
    "\n",
    "cats = ['Below 1.5C', '1.5C low overshoot', '1.5C high overshoot', 'Lower 2C', 'Higher 2C', 'Above 2C']\n",
    "all_cats = cats + other_cats\n",
    "\n",
    "subcats = dct['Acronym']\n",
    "all_subcats = subcats + other_cats"
   ]
  },
  {
   "cell_type": "code",
   "execution_count": 16,
   "metadata": {},
   "outputs": [],
   "source": [
    "specs['cats'] = cats\n",
    "specs['all_cats'] = all_cats\n",
    "\n",
    "specs['subcats'] = subcats\n",
    "specs['all_subcats'] = all_subcats"
   ]
  },
  {
   "cell_type": "markdown",
   "metadata": {},
   "source": [
    "### Subcategory assignment\n",
    "\n",
    "We first assign the subcategories, then aggregate those assignment to the main categories.\n",
    "The categories assigned above to indicate reasons for non-processing by MAGICC are copied over to the subcategories.\n",
    "\n",
    "Keep in mind that setting a category will re-assign scenarios (in case they have already been assigned).\n",
    "So in case of going back and forth in this notebook (i.e., not executing the cells in the correct order), \n",
    "make sure to reset the categorization."
   ]
  },
  {
   "cell_type": "code",
   "execution_count": 17,
   "metadata": {},
   "outputs": [],
   "source": [
    "def warming_exccedance_prob(x):\n",
    "    return 'AR5 climate diagnostics|Temperature|Exceedance Probability|{} °C|MAGICC6'.format(x)\n",
    "\n",
    "expected_warming = 'AR5 climate diagnostics|Temperature|Global Mean|MAGICC6|Expected value'\n",
    "median_warming = 'AR5 climate diagnostics|Temperature|Global Mean|MAGICC6|MED'"
   ]
  },
  {
   "cell_type": "code",
   "execution_count": 18,
   "metadata": {},
   "outputs": [],
   "source": [
    "sr1p5.set_meta(meta=sr1p5['category'], name='subcategory')"
   ]
  },
  {
   "cell_type": "code",
   "execution_count": 19,
   "metadata": {},
   "outputs": [
    {
     "name": "stderr",
     "output_type": "stream",
     "text": [
      "INFO:root:No scenarios satisfy the criteria\n"
     ]
    }
   ],
   "source": [
    "pyam.categorize(sr1p5, exclude=False, subcategory='uncategorized',\n",
    "                value='Below 1.5C (I)', name='subcategory',\n",
    "                criteria={warming_exccedance_prob(1.5): {'up': 0.34}},\n",
    "                color='xkcd:baby blue')"
   ]
  },
  {
   "cell_type": "code",
   "execution_count": 20,
   "metadata": {},
   "outputs": [
    {
     "name": "stderr",
     "output_type": "stream",
     "text": [
      "INFO:root:9 scenarios categorized as `subcategory: Below 1.5C (II)`\n"
     ]
    }
   ],
   "source": [
    "pyam.categorize(sr1p5, exclude=False, subcategory='uncategorized',\n",
    "                value='Below 1.5C (II)', name='subcategory',\n",
    "                criteria={warming_exccedance_prob(1.5): {'up': 0.50}},\n",
    "                color='xkcd:baby blue')"
   ]
  },
  {
   "cell_type": "markdown",
   "metadata": {},
   "source": [
    "To categorize by a variable using multiple filters (here: less than 66% probability of exceeding 1.5°C at any point during the century and less than 34% probability of exceeding that threshold in 2100) requires to perform the assignment in three steps - first, categorize to an intermediate `low OS` category and, in a second step, assign to the category in question. The third step resets all scenarios still categorized as intermediate after the second step back to `uncategorized`."
   ]
  },
  {
   "cell_type": "code",
   "execution_count": 21,
   "metadata": {},
   "outputs": [
    {
     "name": "stderr",
     "output_type": "stream",
     "text": [
      "INFO:root:55 scenarios categorized as `subcategory: low overshoot`\n"
     ]
    }
   ],
   "source": [
    "pyam.categorize(sr1p5, exclude=False, subcategory='uncategorized',\n",
    "                value='low overshoot', name='subcategory',\n",
    "                criteria={warming_exccedance_prob(1.5): {'up': 0.67}})"
   ]
  },
  {
   "cell_type": "code",
   "execution_count": 22,
   "metadata": {},
   "outputs": [
    {
     "name": "stderr",
     "output_type": "stream",
     "text": [
      "INFO:root:34 scenarios categorized as `subcategory: Lower 1.5C low overshoot`\n"
     ]
    }
   ],
   "source": [
    "pyam.categorize(sr1p5, exclude=False, subcategory='low overshoot',\n",
    "                value='Lower 1.5C low overshoot', name='subcategory',\n",
    "                criteria={warming_exccedance_prob(1.5): {'up': 0.34, 'year': 2100}},\n",
    "                color='xkcd:bluish')"
   ]
  },
  {
   "cell_type": "code",
   "execution_count": 23,
   "metadata": {},
   "outputs": [
    {
     "name": "stderr",
     "output_type": "stream",
     "text": [
      "INFO:root:10 scenarios categorized as `subcategory: Higher 1.5C low overshoot`\n"
     ]
    }
   ],
   "source": [
    "pyam.categorize(sr1p5, exclude=False, subcategory='low overshoot',\n",
    "                value='Higher 1.5C low overshoot', name='subcategory',\n",
    "                criteria={warming_exccedance_prob(1.5): {'up': 0.50, 'year': 2100}},\n",
    "                color='xkcd:bluish')"
   ]
  },
  {
   "cell_type": "markdown",
   "metadata": {},
   "source": [
    "Display scenarios that satisfy the `low overshoot` criterion\n",
    "but are not assigned to `Lower 1.5C lower overshoot` or `Higher 1.5C lower overshoot`.\n",
    "Then, reset them to uncategorized."
   ]
  },
  {
   "cell_type": "code",
   "execution_count": 24,
   "metadata": {},
   "outputs": [
    {
     "data": {
      "text/html": [
       "<div>\n",
       "<style scoped>\n",
       "    .dataframe tbody tr th:only-of-type {\n",
       "        vertical-align: middle;\n",
       "    }\n",
       "\n",
       "    .dataframe tbody tr th {\n",
       "        vertical-align: top;\n",
       "    }\n",
       "\n",
       "    .dataframe thead th {\n",
       "        text-align: right;\n",
       "    }\n",
       "</style>\n",
       "<table border=\"1\" class=\"dataframe\">\n",
       "  <thead>\n",
       "    <tr style=\"text-align: right;\">\n",
       "      <th></th>\n",
       "      <th></th>\n",
       "      <th>exclude</th>\n",
       "      <th>category</th>\n",
       "      <th>subcategory</th>\n",
       "    </tr>\n",
       "    <tr>\n",
       "      <th>model</th>\n",
       "      <th>scenario</th>\n",
       "      <th></th>\n",
       "      <th></th>\n",
       "      <th></th>\n",
       "    </tr>\n",
       "  </thead>\n",
       "  <tbody>\n",
       "    <tr>\n",
       "      <td rowspan=\"11\" valign=\"top\">AIM/CGE 2.0</td>\n",
       "      <td>ADVANCE_2020_WB2C</td>\n",
       "      <td>False</td>\n",
       "      <td>uncategorized</td>\n",
       "      <td>low overshoot</td>\n",
       "    </tr>\n",
       "    <tr>\n",
       "      <td>SFCM_SSP2_EEEI_1p5Degree</td>\n",
       "      <td>False</td>\n",
       "      <td>uncategorized</td>\n",
       "      <td>low overshoot</td>\n",
       "    </tr>\n",
       "    <tr>\n",
       "      <td>SFCM_SSP2_LifeStyle_1p5Degree</td>\n",
       "      <td>False</td>\n",
       "      <td>uncategorized</td>\n",
       "      <td>low overshoot</td>\n",
       "    </tr>\n",
       "    <tr>\n",
       "      <td>SFCM_SSP2_Ref_1p5Degree</td>\n",
       "      <td>False</td>\n",
       "      <td>uncategorized</td>\n",
       "      <td>low overshoot</td>\n",
       "    </tr>\n",
       "    <tr>\n",
       "      <td>SFCM_SSP2_ST_CCS_1p5Degree</td>\n",
       "      <td>False</td>\n",
       "      <td>uncategorized</td>\n",
       "      <td>low overshoot</td>\n",
       "    </tr>\n",
       "    <tr>\n",
       "      <td>SFCM_SSP2_ST_bio_1p5Degree</td>\n",
       "      <td>False</td>\n",
       "      <td>uncategorized</td>\n",
       "      <td>low overshoot</td>\n",
       "    </tr>\n",
       "    <tr>\n",
       "      <td>SFCM_SSP2_ST_nuclear_1p5Degree</td>\n",
       "      <td>False</td>\n",
       "      <td>uncategorized</td>\n",
       "      <td>low overshoot</td>\n",
       "    </tr>\n",
       "    <tr>\n",
       "      <td>SFCM_SSP2_ST_solar_1p5Degree</td>\n",
       "      <td>False</td>\n",
       "      <td>uncategorized</td>\n",
       "      <td>low overshoot</td>\n",
       "    </tr>\n",
       "    <tr>\n",
       "      <td>SFCM_SSP2_ST_wind_1p5Degree</td>\n",
       "      <td>False</td>\n",
       "      <td>uncategorized</td>\n",
       "      <td>low overshoot</td>\n",
       "    </tr>\n",
       "    <tr>\n",
       "      <td>SFCM_SSP2_SupTech_1p5Degree</td>\n",
       "      <td>False</td>\n",
       "      <td>uncategorized</td>\n",
       "      <td>low overshoot</td>\n",
       "    </tr>\n",
       "    <tr>\n",
       "      <td>SFCM_SSP2_combined_1p5Degree</td>\n",
       "      <td>False</td>\n",
       "      <td>uncategorized</td>\n",
       "      <td>low overshoot</td>\n",
       "    </tr>\n",
       "  </tbody>\n",
       "</table>\n",
       "</div>"
      ],
      "text/plain": [
       "                                            exclude       category  \\\n",
       "model       scenario                                                 \n",
       "AIM/CGE 2.0 ADVANCE_2020_WB2C                 False  uncategorized   \n",
       "            SFCM_SSP2_EEEI_1p5Degree          False  uncategorized   \n",
       "            SFCM_SSP2_LifeStyle_1p5Degree     False  uncategorized   \n",
       "            SFCM_SSP2_Ref_1p5Degree           False  uncategorized   \n",
       "            SFCM_SSP2_ST_CCS_1p5Degree        False  uncategorized   \n",
       "            SFCM_SSP2_ST_bio_1p5Degree        False  uncategorized   \n",
       "            SFCM_SSP2_ST_nuclear_1p5Degree    False  uncategorized   \n",
       "            SFCM_SSP2_ST_solar_1p5Degree      False  uncategorized   \n",
       "            SFCM_SSP2_ST_wind_1p5Degree       False  uncategorized   \n",
       "            SFCM_SSP2_SupTech_1p5Degree       False  uncategorized   \n",
       "            SFCM_SSP2_combined_1p5Degree      False  uncategorized   \n",
       "\n",
       "                                              subcategory  \n",
       "model       scenario                                       \n",
       "AIM/CGE 2.0 ADVANCE_2020_WB2C               low overshoot  \n",
       "            SFCM_SSP2_EEEI_1p5Degree        low overshoot  \n",
       "            SFCM_SSP2_LifeStyle_1p5Degree   low overshoot  \n",
       "            SFCM_SSP2_Ref_1p5Degree         low overshoot  \n",
       "            SFCM_SSP2_ST_CCS_1p5Degree      low overshoot  \n",
       "            SFCM_SSP2_ST_bio_1p5Degree      low overshoot  \n",
       "            SFCM_SSP2_ST_nuclear_1p5Degree  low overshoot  \n",
       "            SFCM_SSP2_ST_solar_1p5Degree    low overshoot  \n",
       "            SFCM_SSP2_ST_wind_1p5Degree     low overshoot  \n",
       "            SFCM_SSP2_SupTech_1p5Degree     low overshoot  \n",
       "            SFCM_SSP2_combined_1p5Degree    low overshoot  "
      ]
     },
     "execution_count": 24,
     "metadata": {},
     "output_type": "execute_result"
    }
   ],
   "source": [
    "sr1p5.filter(subcategory='low overshoot').meta"
   ]
  },
  {
   "cell_type": "code",
   "execution_count": 25,
   "metadata": {},
   "outputs": [],
   "source": [
    "sr1p5.set_meta(meta='uncategorized', name='subcategory', index=sr1p5.filter(subcategory='low overshoot'))"
   ]
  },
  {
   "cell_type": "markdown",
   "metadata": {},
   "source": [
    "Determine all scenarios with a probability to exceed 1.5°C greater than 66% in any year throughout the century.\n",
    "The function `categorize()` cannot be used for this selection, because it would either check for the criteria being true for all years or for a particular year."
   ]
  },
  {
   "cell_type": "code",
   "execution_count": 26,
   "metadata": {},
   "outputs": [],
   "source": [
    "df = sr1p5.filter(exclude=False, subcategory='uncategorized', variable=warming_exccedance_prob(1.5)).timeseries()\n",
    "sr1p5.set_meta(meta='high overshoot', name='subcategory', \n",
    "               index=df[df.apply(lambda x: max(x), axis=1) > 0.66].index)"
   ]
  },
  {
   "cell_type": "code",
   "execution_count": 27,
   "metadata": {},
   "outputs": [
    {
     "name": "stderr",
     "output_type": "stream",
     "text": [
      "INFO:root:19 scenarios categorized as `subcategory: Lower 1.5C high overshoot`\n"
     ]
    }
   ],
   "source": [
    "pyam.categorize(sr1p5, exclude=False, subcategory='high overshoot',\n",
    "                value='Lower 1.5C high overshoot', name='subcategory',\n",
    "                criteria={warming_exccedance_prob(1.5): {'up': 0.34, 'year': 2100}},\n",
    "                color='xkcd:darkish blue')"
   ]
  },
  {
   "cell_type": "code",
   "execution_count": 28,
   "metadata": {},
   "outputs": [
    {
     "name": "stderr",
     "output_type": "stream",
     "text": [
      "INFO:root:18 scenarios categorized as `subcategory: Higher 1.5C high overshoot`\n"
     ]
    }
   ],
   "source": [
    "pyam.categorize(sr1p5, exclude=False, subcategory='high overshoot',\n",
    "                value='Higher 1.5C high overshoot', name='subcategory',\n",
    "                criteria={warming_exccedance_prob(1.5): {'up': 0.50, 'year': 2100}},\n",
    "                color='xkcd:darkish blue')"
   ]
  },
  {
   "cell_type": "markdown",
   "metadata": {},
   "source": [
    "Reset scenarios that satisfy the `high overshoot` criterion\n",
    "but are not assigned to `Lower 1.5C high overshoot` or `Higher 1.5C high overshoot`."
   ]
  },
  {
   "cell_type": "code",
   "execution_count": 29,
   "metadata": {},
   "outputs": [],
   "source": [
    "sr1p5.set_meta(meta='uncategorized', name='subcategory', index=sr1p5.filter(subcategory='high overshoot'))"
   ]
  },
  {
   "cell_type": "code",
   "execution_count": 30,
   "metadata": {},
   "outputs": [
    {
     "name": "stderr",
     "output_type": "stream",
     "text": [
      "INFO:root:74 scenarios categorized as `subcategory: Lower 2C`\n"
     ]
    }
   ],
   "source": [
    "pyam.categorize(sr1p5, exclude=False, subcategory='uncategorized',\n",
    "                value='Lower 2C', name='subcategory',\n",
    "                criteria={warming_exccedance_prob(2.0): {'up': 0.34}},\n",
    "                color='xkcd:orange')"
   ]
  },
  {
   "cell_type": "code",
   "execution_count": 31,
   "metadata": {},
   "outputs": [
    {
     "name": "stderr",
     "output_type": "stream",
     "text": [
      "INFO:root:58 scenarios categorized as `subcategory: Higher 2C`\n"
     ]
    }
   ],
   "source": [
    "pyam.categorize(sr1p5, exclude=False, subcategory='uncategorized',\n",
    "                value='Higher 2C', name='subcategory',\n",
    "                criteria={warming_exccedance_prob(2.0): {'up': 0.50}},\n",
    "                color='xkcd:red')"
   ]
  },
  {
   "cell_type": "code",
   "execution_count": 32,
   "metadata": {},
   "outputs": [
    {
     "name": "stderr",
     "output_type": "stream",
     "text": [
      "INFO:root:189 scenarios categorized as `subcategory: Above 2C`\n"
     ]
    }
   ],
   "source": [
    "pyam.categorize(sr1p5, exclude=False, subcategory='uncategorized',\n",
    "                value='Above 2C', name='subcategory',\n",
    "                criteria={warming_exccedance_prob(2.0): {'up': 1.0}},\n",
    "                color='darkgrey')"
   ]
  },
  {
   "cell_type": "markdown",
   "metadata": {},
   "source": [
    "### Aggregation of subcategories to categories"
   ]
  },
  {
   "cell_type": "code",
   "execution_count": 33,
   "metadata": {},
   "outputs": [],
   "source": [
    "rc = pyam.run_control()\n",
    "def assign_rc_color_from_sub(cat, sub):\n",
    "    rc.update({'color': {'category': {cat: rc['color']['subcategory'][sub]}}})"
   ]
  },
  {
   "cell_type": "code",
   "execution_count": 34,
   "metadata": {},
   "outputs": [],
   "source": [
    "sr1p5.set_meta(meta='Below 1.5C', name='category',\n",
    "               index=sr1p5.filter(subcategory=['Below 1.5C (I)', 'Below 1.5C (II)']).meta.index)\n",
    "assign_rc_color_from_sub('Below 1.5C', 'Below 1.5C (II)')"
   ]
  },
  {
   "cell_type": "code",
   "execution_count": 35,
   "metadata": {},
   "outputs": [],
   "source": [
    "sr1p5.set_meta(meta='1.5C low overshoot', name='category',\n",
    "               index=sr1p5.filter(subcategory=['Lower 1.5C low overshoot', 'Higher 1.5C low overshoot']))\n",
    "assign_rc_color_from_sub('1.5C low overshoot', 'Lower 1.5C low overshoot')"
   ]
  },
  {
   "cell_type": "code",
   "execution_count": 36,
   "metadata": {},
   "outputs": [],
   "source": [
    "sr1p5.set_meta(meta='1.5C high overshoot', name='category',\n",
    "               index=sr1p5.filter(subcategory=['Lower 1.5C high overshoot', 'Higher 1.5C high overshoot']))\n",
    "assign_rc_color_from_sub('1.5C high overshoot', 'Lower 1.5C high overshoot')"
   ]
  },
  {
   "cell_type": "code",
   "execution_count": 37,
   "metadata": {},
   "outputs": [],
   "source": [
    "cats_non15 = ['Lower 2C', 'Higher 2C', 'Above 2C']\n",
    "df_2c = sr1p5.filter(subcategory=cats_non15)\n",
    "sr1p5.set_meta(meta=df_2c['subcategory'], name='category')\n",
    "\n",
    "for c in cats_non15:\n",
    "    assign_rc_color_from_sub(c, c)"
   ]
  },
  {
   "cell_type": "markdown",
   "metadata": {},
   "source": [
    "### Additional assessment of categorization\n",
    "\n",
    "Check whether there are any scenarios that return to 1.5°C by the end of the century and exceed the 2°C threshold with a likelyhood higher than 34% or 50% (i.e., the `Lower 2C` or the `Higher 2C` categories respectively). Having scenario categorized as `1.5C` but with a higher-than-50% probability of exceeding 2°C at some point in the century may need to be considered separately in subsequent assessment."
   ]
  },
  {
   "cell_type": "code",
   "execution_count": 38,
   "metadata": {},
   "outputs": [],
   "source": [
    "cats_15 = ['Below 1.5C', '1.5C low overshoot', '1.5C high overshoot']\n",
    "specs['cats_15'] = cats_15"
   ]
  },
  {
   "cell_type": "code",
   "execution_count": 39,
   "metadata": {},
   "outputs": [],
   "source": [
    "cats_15_no_lo = ['Below 1.5C', '1.5C low overshoot']\n",
    "specs['cats_15_no_lo'] = cats_15_no_lo"
   ]
  },
  {
   "cell_type": "code",
   "execution_count": 40,
   "metadata": {},
   "outputs": [],
   "source": [
    "cats_2 = ['Lower 2C', 'Higher 2C']\n",
    "specs['cats_2'] = cats_2"
   ]
  },
  {
   "cell_type": "code",
   "execution_count": 41,
   "metadata": {},
   "outputs": [],
   "source": [
    "df = sr1p5.filter(exclude=False, category=cats_15, variable=warming_exccedance_prob(2.0)).timeseries()\n",
    "ex_prob_2 = df.apply(lambda x: max(x))"
   ]
  },
  {
   "cell_type": "code",
   "execution_count": 42,
   "metadata": {},
   "outputs": [
    {
     "name": "stderr",
     "output_type": "stream",
     "text": [
      "WARNING:root:The following 1.5C-scenarios are not `Lower 2C` scenarios:\n"
     ]
    },
    {
     "data": {
      "text/html": [
       "<div>\n",
       "<style scoped>\n",
       "    .dataframe tbody tr th:only-of-type {\n",
       "        vertical-align: middle;\n",
       "    }\n",
       "\n",
       "    .dataframe tbody tr th {\n",
       "        vertical-align: top;\n",
       "    }\n",
       "\n",
       "    .dataframe thead th {\n",
       "        text-align: right;\n",
       "    }\n",
       "</style>\n",
       "<table border=\"1\" class=\"dataframe\">\n",
       "  <thead>\n",
       "    <tr style=\"text-align: right;\">\n",
       "      <th></th>\n",
       "      <th></th>\n",
       "      <th></th>\n",
       "      <th></th>\n",
       "      <th></th>\n",
       "      <th>2000</th>\n",
       "      <th>2001</th>\n",
       "      <th>2002</th>\n",
       "      <th>2003</th>\n",
       "      <th>2004</th>\n",
       "      <th>2005</th>\n",
       "      <th>2006</th>\n",
       "      <th>2007</th>\n",
       "      <th>2008</th>\n",
       "      <th>2009</th>\n",
       "      <th>...</th>\n",
       "      <th>2091</th>\n",
       "      <th>2092</th>\n",
       "      <th>2093</th>\n",
       "      <th>2094</th>\n",
       "      <th>2095</th>\n",
       "      <th>2096</th>\n",
       "      <th>2097</th>\n",
       "      <th>2098</th>\n",
       "      <th>2099</th>\n",
       "      <th>2100</th>\n",
       "    </tr>\n",
       "    <tr>\n",
       "      <th>model</th>\n",
       "      <th>scenario</th>\n",
       "      <th>region</th>\n",
       "      <th>variable</th>\n",
       "      <th>unit</th>\n",
       "      <th></th>\n",
       "      <th></th>\n",
       "      <th></th>\n",
       "      <th></th>\n",
       "      <th></th>\n",
       "      <th></th>\n",
       "      <th></th>\n",
       "      <th></th>\n",
       "      <th></th>\n",
       "      <th></th>\n",
       "      <th></th>\n",
       "      <th></th>\n",
       "      <th></th>\n",
       "      <th></th>\n",
       "      <th></th>\n",
       "      <th></th>\n",
       "      <th></th>\n",
       "      <th></th>\n",
       "      <th></th>\n",
       "      <th></th>\n",
       "      <th></th>\n",
       "    </tr>\n",
       "  </thead>\n",
       "  <tbody>\n",
       "    <tr>\n",
       "      <td>REMIND 1.7</td>\n",
       "      <td>ADVANCE_2030_Price1.5C</td>\n",
       "      <td>World</td>\n",
       "      <td>AR5 climate diagnostics|Temperature|Exceedance Probability|2.0 °C|MAGICC6</td>\n",
       "      <td>-</td>\n",
       "      <td>0.0</td>\n",
       "      <td>0.0</td>\n",
       "      <td>0.0</td>\n",
       "      <td>0.0</td>\n",
       "      <td>0.0</td>\n",
       "      <td>0.0</td>\n",
       "      <td>0.0</td>\n",
       "      <td>0.0</td>\n",
       "      <td>0.0</td>\n",
       "      <td>0.0</td>\n",
       "      <td>...</td>\n",
       "      <td>0.168333</td>\n",
       "      <td>0.166667</td>\n",
       "      <td>0.16</td>\n",
       "      <td>0.158333</td>\n",
       "      <td>0.156667</td>\n",
       "      <td>0.15</td>\n",
       "      <td>0.145</td>\n",
       "      <td>0.143333</td>\n",
       "      <td>0.138333</td>\n",
       "      <td>0.136667</td>\n",
       "    </tr>\n",
       "  </tbody>\n",
       "</table>\n",
       "<p>1 rows × 101 columns</p>\n",
       "</div>"
      ],
      "text/plain": [
       "                                                                                                  2000  \\\n",
       "model      scenario               region variable                                           unit         \n",
       "REMIND 1.7 ADVANCE_2030_Price1.5C World  AR5 climate diagnostics|Temperature|Exceedance ... -      0.0   \n",
       "\n",
       "                                                                                                  2001  \\\n",
       "model      scenario               region variable                                           unit         \n",
       "REMIND 1.7 ADVANCE_2030_Price1.5C World  AR5 climate diagnostics|Temperature|Exceedance ... -      0.0   \n",
       "\n",
       "                                                                                                  2002  \\\n",
       "model      scenario               region variable                                           unit         \n",
       "REMIND 1.7 ADVANCE_2030_Price1.5C World  AR5 climate diagnostics|Temperature|Exceedance ... -      0.0   \n",
       "\n",
       "                                                                                                  2003  \\\n",
       "model      scenario               region variable                                           unit         \n",
       "REMIND 1.7 ADVANCE_2030_Price1.5C World  AR5 climate diagnostics|Temperature|Exceedance ... -      0.0   \n",
       "\n",
       "                                                                                                  2004  \\\n",
       "model      scenario               region variable                                           unit         \n",
       "REMIND 1.7 ADVANCE_2030_Price1.5C World  AR5 climate diagnostics|Temperature|Exceedance ... -      0.0   \n",
       "\n",
       "                                                                                                  2005  \\\n",
       "model      scenario               region variable                                           unit         \n",
       "REMIND 1.7 ADVANCE_2030_Price1.5C World  AR5 climate diagnostics|Temperature|Exceedance ... -      0.0   \n",
       "\n",
       "                                                                                                  2006  \\\n",
       "model      scenario               region variable                                           unit         \n",
       "REMIND 1.7 ADVANCE_2030_Price1.5C World  AR5 climate diagnostics|Temperature|Exceedance ... -      0.0   \n",
       "\n",
       "                                                                                                  2007  \\\n",
       "model      scenario               region variable                                           unit         \n",
       "REMIND 1.7 ADVANCE_2030_Price1.5C World  AR5 climate diagnostics|Temperature|Exceedance ... -      0.0   \n",
       "\n",
       "                                                                                                  2008  \\\n",
       "model      scenario               region variable                                           unit         \n",
       "REMIND 1.7 ADVANCE_2030_Price1.5C World  AR5 climate diagnostics|Temperature|Exceedance ... -      0.0   \n",
       "\n",
       "                                                                                                  2009  \\\n",
       "model      scenario               region variable                                           unit         \n",
       "REMIND 1.7 ADVANCE_2030_Price1.5C World  AR5 climate diagnostics|Temperature|Exceedance ... -      0.0   \n",
       "\n",
       "                                                                                                  ...  \\\n",
       "model      scenario               region variable                                           unit  ...   \n",
       "REMIND 1.7 ADVANCE_2030_Price1.5C World  AR5 climate diagnostics|Temperature|Exceedance ... -     ...   \n",
       "\n",
       "                                                                                                      2091  \\\n",
       "model      scenario               region variable                                           unit             \n",
       "REMIND 1.7 ADVANCE_2030_Price1.5C World  AR5 climate diagnostics|Temperature|Exceedance ... -     0.168333   \n",
       "\n",
       "                                                                                                      2092  \\\n",
       "model      scenario               region variable                                           unit             \n",
       "REMIND 1.7 ADVANCE_2030_Price1.5C World  AR5 climate diagnostics|Temperature|Exceedance ... -     0.166667   \n",
       "\n",
       "                                                                                                  2093  \\\n",
       "model      scenario               region variable                                           unit         \n",
       "REMIND 1.7 ADVANCE_2030_Price1.5C World  AR5 climate diagnostics|Temperature|Exceedance ... -     0.16   \n",
       "\n",
       "                                                                                                      2094  \\\n",
       "model      scenario               region variable                                           unit             \n",
       "REMIND 1.7 ADVANCE_2030_Price1.5C World  AR5 climate diagnostics|Temperature|Exceedance ... -     0.158333   \n",
       "\n",
       "                                                                                                      2095  \\\n",
       "model      scenario               region variable                                           unit             \n",
       "REMIND 1.7 ADVANCE_2030_Price1.5C World  AR5 climate diagnostics|Temperature|Exceedance ... -     0.156667   \n",
       "\n",
       "                                                                                                  2096  \\\n",
       "model      scenario               region variable                                           unit         \n",
       "REMIND 1.7 ADVANCE_2030_Price1.5C World  AR5 climate diagnostics|Temperature|Exceedance ... -     0.15   \n",
       "\n",
       "                                                                                                   2097  \\\n",
       "model      scenario               region variable                                           unit          \n",
       "REMIND 1.7 ADVANCE_2030_Price1.5C World  AR5 climate diagnostics|Temperature|Exceedance ... -     0.145   \n",
       "\n",
       "                                                                                                      2098  \\\n",
       "model      scenario               region variable                                           unit             \n",
       "REMIND 1.7 ADVANCE_2030_Price1.5C World  AR5 climate diagnostics|Temperature|Exceedance ... -     0.143333   \n",
       "\n",
       "                                                                                                      2099  \\\n",
       "model      scenario               region variable                                           unit             \n",
       "REMIND 1.7 ADVANCE_2030_Price1.5C World  AR5 climate diagnostics|Temperature|Exceedance ... -     0.138333   \n",
       "\n",
       "                                                                                                      2100  \n",
       "model      scenario               region variable                                           unit            \n",
       "REMIND 1.7 ADVANCE_2030_Price1.5C World  AR5 climate diagnostics|Temperature|Exceedance ... -     0.136667  \n",
       "\n",
       "[1 rows x 101 columns]"
      ]
     },
     "metadata": {},
     "output_type": "display_data"
    }
   ],
   "source": [
    "if max(ex_prob_2) > 0.34:\n",
    "    logger.warning('The following 1.5C-scenarios are not `Lower 2C` scenarios:')\n",
    "    display(df[df.apply(lambda x: max(x), axis=1) > 0.34])"
   ]
  },
  {
   "cell_type": "code",
   "execution_count": 43,
   "metadata": {},
   "outputs": [],
   "source": [
    "if max(ex_prob_2) > 0.50:\n",
    "    logger.warning('The following 1.5C-scenarios are not `2C` scenarios:')\n",
    "    display(df[df.apply(lambda x: max(x), axis=1) > 0.50])"
   ]
  },
  {
   "cell_type": "markdown",
   "metadata": {},
   "source": [
    "### Counting and evaluation of scenario assignment categories\n",
    "\n",
    "Count the number of scenarios assigned to each category.\n",
    "\n",
    "This table is the basis for **Tables 2.1 and 2.A.11** in the SR1.5."
   ]
  },
  {
   "cell_type": "code",
   "execution_count": 44,
   "metadata": {},
   "outputs": [
    {
     "data": {
      "text/html": [
       "<div>\n",
       "<style scoped>\n",
       "    .dataframe tbody tr th:only-of-type {\n",
       "        vertical-align: middle;\n",
       "    }\n",
       "\n",
       "    .dataframe tbody tr th {\n",
       "        vertical-align: top;\n",
       "    }\n",
       "\n",
       "    .dataframe thead th {\n",
       "        text-align: right;\n",
       "    }\n",
       "</style>\n",
       "<table border=\"1\" class=\"dataframe\">\n",
       "  <thead>\n",
       "    <tr style=\"text-align: right;\">\n",
       "      <th></th>\n",
       "      <th></th>\n",
       "      <th>count</th>\n",
       "    </tr>\n",
       "    <tr>\n",
       "      <th>category</th>\n",
       "      <th>subcategory</th>\n",
       "      <th></th>\n",
       "    </tr>\n",
       "  </thead>\n",
       "  <tbody>\n",
       "    <tr>\n",
       "      <td>Below 1.5C</td>\n",
       "      <td>Below 1.5C (II)</td>\n",
       "      <td>9</td>\n",
       "    </tr>\n",
       "    <tr>\n",
       "      <td rowspan=\"2\" valign=\"top\">1.5C low overshoot</td>\n",
       "      <td>Lower 1.5C low overshoot</td>\n",
       "      <td>34</td>\n",
       "    </tr>\n",
       "    <tr>\n",
       "      <td>Higher 1.5C low overshoot</td>\n",
       "      <td>10</td>\n",
       "    </tr>\n",
       "    <tr>\n",
       "      <td rowspan=\"2\" valign=\"top\">1.5C high overshoot</td>\n",
       "      <td>Lower 1.5C high overshoot</td>\n",
       "      <td>19</td>\n",
       "    </tr>\n",
       "    <tr>\n",
       "      <td>Higher 1.5C high overshoot</td>\n",
       "      <td>18</td>\n",
       "    </tr>\n",
       "    <tr>\n",
       "      <td>Lower 2C</td>\n",
       "      <td>Lower 2C</td>\n",
       "      <td>74</td>\n",
       "    </tr>\n",
       "    <tr>\n",
       "      <td>Higher 2C</td>\n",
       "      <td>Higher 2C</td>\n",
       "      <td>58</td>\n",
       "    </tr>\n",
       "    <tr>\n",
       "      <td>Above 2C</td>\n",
       "      <td>Above 2C</td>\n",
       "      <td>189</td>\n",
       "    </tr>\n",
       "    <tr>\n",
       "      <td>no-climate-assessment</td>\n",
       "      <td>no-climate-assessment</td>\n",
       "      <td>3</td>\n",
       "    </tr>\n",
       "    <tr>\n",
       "      <td>reference</td>\n",
       "      <td>reference</td>\n",
       "      <td>2</td>\n",
       "    </tr>\n",
       "  </tbody>\n",
       "</table>\n",
       "</div>"
      ],
      "text/plain": [
       "                                                  count\n",
       "category              subcategory                      \n",
       "Below 1.5C            Below 1.5C (II)                 9\n",
       "1.5C low overshoot    Lower 1.5C low overshoot       34\n",
       "                      Higher 1.5C low overshoot      10\n",
       "1.5C high overshoot   Lower 1.5C high overshoot      19\n",
       "                      Higher 1.5C high overshoot     18\n",
       "Lower 2C              Lower 2C                       74\n",
       "Higher 2C             Higher 2C                      58\n",
       "Above 2C              Above 2C                      189\n",
       "no-climate-assessment no-climate-assessment           3\n",
       "reference             reference                       2"
      ]
     },
     "execution_count": 44,
     "metadata": {},
     "output_type": "execute_result"
    }
   ],
   "source": [
    "lst = sr1p5.meta.groupby(['category', 'subcategory']).count()\n",
    "(\n",
    "    lst\n",
    "    .reindex(all_cats, axis='index', level=0)\n",
    "    .reindex(all_subcats, axis='index', level=1)\n",
    "    .rename(columns={'exclude': 'count'})\n",
    ")"
   ]
  },
  {
   "cell_type": "markdown",
   "metadata": {},
   "source": [
    "Check whether any scenarios are still marked as `uncategorized`. This may be due to missing MAGICC postprocessing."
   ]
  },
  {
   "cell_type": "code",
   "execution_count": 45,
   "metadata": {},
   "outputs": [],
   "source": [
    "if any(sr1p5['category'] == 'uncategorized'):\n",
    "    logger.warning('There are scenarios that are no yet categorized!')\n",
    "    display(sr1p5.filter(category='uncategorized').meta)"
   ]
  },
  {
   "cell_type": "markdown",
   "metadata": {},
   "source": [
    "## Validation of Kyoto GHG emissions range (SAR-GWP100)\n",
    "\n",
    "Validate all scenarios whther aggregate Kyoto gases are outside the range as assessed by the Second Assessment Report (SAR) using the Global Warming Potential over 100 years (GWP100). These scenarios are excluded from some figures and tables in the assessment."
   ]
  },
  {
   "cell_type": "code",
   "execution_count": 46,
   "metadata": {},
   "outputs": [
    {
     "name": "stderr",
     "output_type": "stream",
     "text": [
      "INFO:root:30 of 3208986 data points do not satisfy the criteria\n"
     ]
    }
   ],
   "source": [
    "invalid_sar_gwp = sr1p5.validate(criteria={'Emissions|Kyoto Gases (SAR-GWP100)':\n",
    "                                 {'lo': 44500, 'up': 53500, 'year':2010}}, exclude_on_fail=False)"
   ]
  },
  {
   "cell_type": "code",
   "execution_count": 47,
   "metadata": {},
   "outputs": [],
   "source": [
    "name='Kyoto-GHG|2010 (SAR)'\n",
    "sr1p5.set_meta(meta='in range', name=name)\n",
    "sr1p5.set_meta(meta='exclude', name=name, index=invalid_sar_gwp)\n",
    "\n",
    "meta_docs[name] = 'Indicator whether 2010 Kyoto-GHG reported by the scenario (as assessed by IPCC SAR) are in the valid range'"
   ]
  },
  {
   "cell_type": "markdown",
   "metadata": {},
   "source": [
    "## Assignment of baseline scenarios\n",
    "\n",
    "This section assigns a `baseline` reference for scenarios from selected model intercomparison projects and indivitual submissions."
   ]
  },
  {
   "cell_type": "code",
   "execution_count": 48,
   "metadata": {},
   "outputs": [],
   "source": [
    "def set_baseline_reference(x):\n",
    "    m, s = (x.name[0], x.name[1])\n",
    "    \n",
    "    b = None\n",
    "    if s.startswith('SSP') and not 'Baseline' in s:\n",
    "        b = '{}Baseline'.format(s[0:5])\n",
    "    if s.startswith('CD-LINKS') and not 'NoPolicy' in s:\n",
    "        b = '{}NoPolicy'.format(s[0:9])\n",
    "    if s.startswith('EMF33') and not 'Baseline' in s:\n",
    "        b = '{}Baseline'.format(s[0:6])\n",
    "    if s.startswith('ADVANCE') and not 'NoPolicy' in s:\n",
    "        b = '{}NoPolicy'.format(s[0:8])\n",
    "    if s.startswith('GEA') and not 'base' in s:\n",
    "        b = '{}base'.format(s[0:8])\n",
    "    if s.startswith('TERL') and not 'Baseline' in s:\n",
    "        b = s.replace('15D', 'Baseline').replace('2D', 'Baseline')\n",
    "    if s.startswith('SFCM') and not 'Baseline' in s:\n",
    "        b = s.replace('1p5Degree', 'Baseline').replace('2Degree', 'Baseline')\n",
    "    if s.startswith('CEMICS') and not s == 'CEMICS-Ref':\n",
    "        b = 'CEMICS-Ref'\n",
    "    if s.startswith('SMP') and not 'REF' in s:\n",
    "        if s.endswith('Def') or s.endswith('regul'):\n",
    "            b = 'SMP_REF_Def'\n",
    "        else:\n",
    "            b = 'SMP_REF_Sust'\n",
    "    if s.startswith('DAC'):\n",
    "        b = 'BAU'\n",
    "    \n",
    "    # check that baseline scenario exists for specific model `m`\n",
    "    if (m, b) in sr1p5.meta.index:\n",
    "        return b\n",
    "    # else (or if scenario name not in list above), return None\n",
    "    return None"
   ]
  },
  {
   "cell_type": "code",
   "execution_count": 49,
   "metadata": {},
   "outputs": [],
   "source": [
    "name = 'baseline'\n",
    "sr1p5.set_meta(sr1p5.meta.apply(set_baseline_reference, raw=True, axis=1), name)\n",
    "meta_docs[name] = 'Name of the respective baseline (or reference/no-policy) scenario'"
   ]
  },
  {
   "cell_type": "markdown",
   "metadata": {},
   "source": [
    "## Assignent of marker scenarios\n",
    "\n",
    "The following scenarios are used as marker throughout the analysis and visualization, cf. Figure 2.7 (SOD):\n",
    "\n",
    "|**Marker**  |**Model & scenario name**       |**Reference**                  | **Symbol**      |\n",
    "|------------|--------------------------------|-------------------------------|-----------------|\n",
    "| *S1*       | AIM/CGE 2.0 / SSP1-19              | Fujimori et al., 2017         | `white square`  |\n",
    "| *S2*       | MESSAGE-GLOBIOM 1.0 / SSP2-19  | Fricko et al., 2017           | `yellow square` |\n",
    "| *S5*       | REMIND-MAgPIE 1.5 / SSP5-19    | Kriegler et al., 2017         | `black square`  |\n",
    "| *LED*      | MESSAGEix-GLOBIOM 1.0 / LowEnergyDemand | Grubler et al., 2018 | `white circle`  |"
   ]
  },
  {
   "cell_type": "code",
   "execution_count": 50,
   "metadata": {},
   "outputs": [],
   "source": [
    "dct = {'Marker': \n",
    "           ['S1', \n",
    "            'S2', \n",
    "            'S5',\n",
    "            'LED'],\n",
    "        'Model and scenario name': \n",
    "           ['AIM/CGE 2.0 / SSP1-19', \n",
    "            'MESSAGE-GLOBIOM 1.0 / SSP2-19', \n",
    "            'REMIND-MAgPIE 1.5 / SSP5-19',\n",
    "            'MESSAGEix-GLOBIOM 1.0 / LowEnergyDemand'],\n",
    "       'Reference':\n",
    "           ['Fujimori et al., 2017',\n",
    "            'Fricko et al., 2017',\n",
    "            'Kriegler et al., 2017',\n",
    "            'Grubler et al., 2018'],\n",
    "       'Symbol':\n",
    "           ['white square',\n",
    "            'yellow square',\n",
    "            'black square',\n",
    "            'white circle']\n",
    "}\n",
    "cols = ['Marker', 'Model and scenario name', 'Reference', 'Symbol']\n",
    "markers_doc = pd.DataFrame(dct)[cols]\n",
    "meta_tables['marker scenarios'] = markers_doc\n",
    "meta_docs['marker'] = 'Illustrative pathways (marker scenarios)'"
   ]
  },
  {
   "cell_type": "code",
   "execution_count": 51,
   "metadata": {},
   "outputs": [],
   "source": [
    "specs['marker'] = ['S1', 'S2', 'S5', 'LED']"
   ]
  },
  {
   "cell_type": "code",
   "execution_count": 52,
   "metadata": {},
   "outputs": [],
   "source": [
    "sr1p5.set_meta('', 'marker')\n",
    "rc.update({'marker': {'marker': {'': None}}})"
   ]
  },
  {
   "cell_type": "code",
   "execution_count": 53,
   "metadata": {},
   "outputs": [],
   "source": [
    "m = 'S1'\n",
    "sr1p5.set_meta(m, 'marker',\n",
    "               sr1p5.filter(model='AIM/CGE 2.0', scenario='SSP1-19'))\n",
    "rc.update({'marker': {'marker': {m: 's'}},\n",
    "           'c': {'marker': {m: 'white'}},\n",
    "           'edgecolors': {'marker': {m: 'black'}}}\n",
    "         )"
   ]
  },
  {
   "cell_type": "code",
   "execution_count": 54,
   "metadata": {},
   "outputs": [],
   "source": [
    "m = 'S2'\n",
    "sr1p5.set_meta(m, 'marker',\n",
    "               sr1p5.filter(model='MESSAGE-GLOBIOM 1.0', scenario='SSP2-19'))\n",
    "rc.update({'marker': {'marker': {m: 's'}},\n",
    "           'c': {'marker': {m: 'yellow'}},\n",
    "           'edgecolors': {'marker': {m: 'black'}}})"
   ]
  },
  {
   "cell_type": "code",
   "execution_count": 55,
   "metadata": {},
   "outputs": [],
   "source": [
    "m = 'S5'\n",
    "sr1p5.set_meta(m, 'marker',\n",
    "               sr1p5.filter(model='REMIND-MAgPIE 1.5', scenario='SSP5-19'))\n",
    "rc.update({'marker': {'marker': {m: 's'}},\n",
    "           'c': {'marker': {m: 'black'}},\n",
    "           'edgecolors': {'marker': {m: 'black'}}})"
   ]
  },
  {
   "cell_type": "code",
   "execution_count": 56,
   "metadata": {},
   "outputs": [],
   "source": [
    "m = 'LED'\n",
    "sr1p5.set_meta(m, 'marker',\n",
    "               sr1p5.filter(model='MESSAGEix-GLOBIOM 1.0', scenario='LowEnergyDemand'))\n",
    "rc.update({'marker': {'marker': {m: 'o'}},\n",
    "           'c': {'marker': {m: 'white'}},\n",
    "           'edgecolors': {'marker': {m: 'black'}}})"
   ]
  },
  {
   "cell_type": "markdown",
   "metadata": {},
   "source": [
    "## Visual analysis of emission and temperature pathways by category\n",
    "\n",
    "First, we plot all carbon dioxide emissions trajectories colored by category and the CO2 emissions from the AFOLU sector. Then, show the warming trajectories by category."
   ]
  },
  {
   "cell_type": "code",
   "execution_count": 57,
   "metadata": {},
   "outputs": [],
   "source": [
    "horizon = list(range(2000, 2020, 5)) + list(range(2020, 2101, 10))\n",
    "df = sr1p5.filter(year=horizon)"
   ]
  },
  {
   "cell_type": "code",
   "execution_count": 58,
   "metadata": {},
   "outputs": [
    {
     "data": {
      "text/plain": [
       "<matplotlib.axes._subplots.AxesSubplot at 0x1a1ce2bfd0>"
      ]
     },
     "execution_count": 58,
     "metadata": {},
     "output_type": "execute_result"
    }
   ],
   "source": [
    "df.filter(exclude=False, variable='Emissions|CO2').line_plot(**plotting_args, marker='marker')"
   ]
  },
  {
   "cell_type": "code",
   "execution_count": 59,
   "metadata": {},
   "outputs": [
    {
     "data": {
      "text/plain": [
       "<matplotlib.axes._subplots.AxesSubplot at 0x1a2806ba50>"
      ]
     },
     "execution_count": 59,
     "metadata": {},
     "output_type": "execute_result"
    }
   ],
   "source": [
    "df.filter(exclude=False, variable='Emissions|CO2|AFOLU').line_plot(**plotting_args, marker='marker')"
   ]
  },
  {
   "cell_type": "code",
   "execution_count": 60,
   "metadata": {},
   "outputs": [
    {
     "data": {
      "text/plain": [
       "<matplotlib.axes._subplots.AxesSubplot at 0x1a25c697d0>"
      ]
     },
     "execution_count": 60,
     "metadata": {},
     "output_type": "execute_result"
    }
   ],
   "source": [
    "df.filter(exclude=False, variable=expected_warming).line_plot(**plotting_args, marker='marker')"
   ]
  },
  {
   "cell_type": "markdown",
   "metadata": {},
   "source": [
    "## Import scientific references and publication status\n",
    "The following block reads in an Excel table with the details of the scientific references for each scenario.\n",
    "\n",
    "The main cell of this section loops over all entries in this Excel table, filters for the relevant scenarios,\n",
    "and assigns a short reference and the publication status. If multiple references are relevant for a scenario, the references are compiled, and the 'highest' publication status is written to the metadata."
   ]
  },
  {
   "cell_type": "code",
   "execution_count": 61,
   "metadata": {},
   "outputs": [],
   "source": [
    "ref_cols = ['project', 'model', 'scenario', 'reference', 'doi', 'bibliography']"
   ]
  },
  {
   "cell_type": "code",
   "execution_count": 62,
   "metadata": {},
   "outputs": [],
   "source": [
    "sr1p5.set_meta('undefined', 'reference')\n",
    "sr1p5.set_meta('unknown', 'project')"
   ]
  },
  {
   "cell_type": "code",
   "execution_count": 63,
   "metadata": {},
   "outputs": [],
   "source": [
    "refs = pd.read_csv('../bibliography/scenario_references.csv', encoding='iso-8859-1')\n",
    "\n",
    "_refs = {'index': []}\n",
    "for i in ref_cols:\n",
    "    _refs.update({i.title(): []})"
   ]
  },
  {
   "cell_type": "code",
   "execution_count": 64,
   "metadata": {},
   "outputs": [],
   "source": [
    "for cols in refs.iterrows():\n",
    "    c = cols[1]\n",
    "    filters = {}\n",
    "    \n",
    "    # check that filters are defined\n",
    "    if c.model is np.NaN and c.scenario is np.NaN:\n",
    "        logger.warn('project `{}` on line {} has no filters assigned'\n",
    "                    .format(c.project, cols[0]))\n",
    "        continue\n",
    "\n",
    "    # filter for scenarios to apply the project and publication tags\n",
    "    filters = {}\n",
    "    for i in ['model', 'scenario']:\n",
    "        if c[i] is not np.NaN:\n",
    "            if \";\" in c[i]:\n",
    "                filters.update({i: re.sub(\";\", \"\", c[i]).split()})\n",
    "            else:\n",
    "                filters.update({i: c[i]})\n",
    "    \n",
    "    df = sr1p5.filter(**filters)\n",
    "    if df.scenarios().empty:\n",
    "        logger.warn('no scenarios satisfy filters for project `{}` on line {} ({})'\n",
    "                    .format(c.project, cols[0], filters))\n",
    "        continue\n",
    "\n",
    "    # write to meta-tables dictionary\n",
    "    _refs['index'].append(cols[0])\n",
    "    for i in ref_cols:\n",
    "        _refs[i.title()].append(c[i])\n",
    "\n",
    "    sr1p5.meta.loc[df.meta.index, 'project'] = c['project']\n",
    "\n",
    "    for i in df.meta.index:\n",
    "        r = c['reference']\n",
    "        sr1p5.meta.loc[i, 'reference'] = r if sr1p5.meta.loc[i, 'reference'] == 'undefined' \\\n",
    "            else '{}; {}'.format(sr1p5.meta.loc[i, 'reference'], r)"
   ]
  },
  {
   "cell_type": "code",
   "execution_count": 65,
   "metadata": {},
   "outputs": [],
   "source": [
    "cols = [i.title() for i in ref_cols]\n",
    "meta_tables['references'] = pd.DataFrame(_refs)[cols]\n",
    "meta_docs['reference'] = 'Scientific references'\n",
    "meta_docs['project'] = 'Project identifier contributing the scenario'"
   ]
  },
  {
   "cell_type": "markdown",
   "metadata": {},
   "source": [
    "## Peak warming and indicator of median global warming peak-and-decline\n",
    "\n",
    "Determine peak warming (relative to pre-industrial temperature) and end-of century warming \n",
    "and add this to the scenario metadata.\n",
    "Then, compute the \"peak-and-decline\" indicator as the difference between peak warming and warming in 2100."
   ]
  },
  {
   "cell_type": "code",
   "execution_count": 66,
   "metadata": {},
   "outputs": [],
   "source": [
    "def peak_warming(x, return_year=False):\n",
    "    peak = x[x == x.max()]\n",
    "    if return_year:\n",
    "        return peak.index[0]\n",
    "    else:\n",
    "        return float(max(peak))"
   ]
  },
  {
   "cell_type": "code",
   "execution_count": 67,
   "metadata": {},
   "outputs": [],
   "source": [
    "median_temperature = sr1p5.filter(variable=median_warming).timeseries()"
   ]
  },
  {
   "cell_type": "code",
   "execution_count": 68,
   "metadata": {},
   "outputs": [],
   "source": [
    "name = 'median warming at peak (MAGICC6)'\n",
    "sr1p5.set_meta(median_temperature.apply(peak_warming, raw=False, axis=1), name)\n",
    "meta_docs[name] = 'median warming above pre-industrial temperature at peak (°C) as computed by MAGICC6'"
   ]
  },
  {
   "cell_type": "code",
   "execution_count": 69,
   "metadata": {},
   "outputs": [],
   "source": [
    "name = 'year of peak warming (MAGICC6)'\n",
    "sr1p5.set_meta(median_temperature.apply(peak_warming, return_year=True, raw=False, axis=1), name)\n",
    "meta_docs[name] = 'year of peak median warming as computed by MAGICC6'"
   ]
  },
  {
   "cell_type": "code",
   "execution_count": 70,
   "metadata": {},
   "outputs": [],
   "source": [
    "name = 'median warming in 2100 (MAGICC6)'\n",
    "sr1p5.set_meta(median_temperature[2100], name)\n",
    "meta_docs[name] = 'median warming above at peak above pre-industrial temperature as computed by MAGICC6'"
   ]
  },
  {
   "cell_type": "code",
   "execution_count": 71,
   "metadata": {},
   "outputs": [],
   "source": [
    "name = 'median warming peak-and-decline (MAGICC6)'\n",
    "peak_decline = sr1p5['median warming at peak (MAGICC6)'] - sr1p5['median warming in 2100 (MAGICC6)']\n",
    "sr1p5.set_meta(peak_decline, name)\n",
    "meta_docs[name] = 'median warming peak-and-decline from peak to temperature in 2100 (°C) as computed by MAGICC6'"
   ]
  },
  {
   "cell_type": "markdown",
   "metadata": {},
   "source": [
    "### Add mean temperature at peak from 'FAIR' model diagnostics"
   ]
  },
  {
   "cell_type": "code",
   "execution_count": 72,
   "metadata": {},
   "outputs": [],
   "source": [
    "median_temperature_fair = sr1p5.filter(variable='AR5 climate diagnostics|Temperature|Global Mean|FAIR|MED')\\\n",
    "    .timeseries()"
   ]
  },
  {
   "cell_type": "code",
   "execution_count": 73,
   "metadata": {},
   "outputs": [],
   "source": [
    "name = 'median warming at peak (FAIR)'\n",
    "sr1p5.set_meta(median_temperature_fair.apply(peak_warming, raw=False, axis=1), name)\n",
    "meta_docs[name] = 'median warming above pre-industrial temperature at peak (°C) as computed by FAIR'"
   ]
  },
  {
   "cell_type": "code",
   "execution_count": 74,
   "metadata": {},
   "outputs": [],
   "source": [
    "name = 'year of peak warming (FAIR)'\n",
    "sr1p5.set_meta(median_temperature_fair.apply(peak_warming, return_year=True, raw=False, axis=1), name)\n",
    "meta_docs[name] = 'year of peak median warming as computed by FAIR'"
   ]
  },
  {
   "cell_type": "code",
   "execution_count": 75,
   "metadata": {},
   "outputs": [
    {
     "data": {
      "text/plain": [
       "[<matplotlib.lines.Line2D at 0x1a25ddc7d0>]"
      ]
     },
     "execution_count": 75,
     "metadata": {},
     "output_type": "execute_result"
    }
   ],
   "source": [
    "fig, ax = plt.subplots()\n",
    "sr1p5.filter(category=cats).scatter(ax=ax,\n",
    "                                    x='median warming at peak (MAGICC6)',\n",
    "                                    y='median warming at peak (FAIR)', color='category')\n",
    "ax.plot(ax.get_xlim(), ax.get_xlim())"
   ]
  },
  {
   "cell_type": "code",
   "execution_count": 76,
   "metadata": {},
   "outputs": [
    {
     "data": {
      "text/plain": [
       "'3.0.2'"
      ]
     },
     "execution_count": 76,
     "metadata": {},
     "output_type": "execute_result"
    }
   ],
   "source": [
    "import matplotlib\n",
    "matplotlib.__version__"
   ]
  },
  {
   "cell_type": "code",
   "execution_count": 77,
   "metadata": {},
   "outputs": [
    {
     "data": {
      "text/plain": [
       "[<matplotlib.lines.Line2D at 0x1a2b28e410>]"
      ]
     },
     "execution_count": 77,
     "metadata": {},
     "output_type": "execute_result"
    }
   ],
   "source": [
    "fig, ax = plt.subplots()\n",
    "sr1p5.scatter(ax=ax, x='year of peak warming (MAGICC6)', y='year of peak warming (FAIR)', color='category')\n",
    "ax.plot(ax.get_xlim(), ax.get_xlim())"
   ]
  },
  {
   "cell_type": "markdown",
   "metadata": {},
   "source": [
    "## Computation of threshold exceedance year and 'overshoot' year count\n",
    "\n",
    "Determine the year when a scenario exceeds a specific temperature threshold, \n",
    "and for how many years the threshold is exceeded.  \n",
    "\n",
    "This section uses the function ``exceedance()`` to determine the exceedance and return years.\n",
    "The function ``overshoot_severity()`` computes the cumulative exceedance of the 1.5°C threshold\n",
    "(i.e., the sum of temperature-years above the threshold)."
   ]
  },
  {
   "cell_type": "code",
   "execution_count": 78,
   "metadata": {},
   "outputs": [],
   "source": [
    "def exceedance(temperature, years, threshold):\n",
    "    exceedance_yr = None\n",
    "    return_yr = None\n",
    "    overshoot_yr_count = None\n",
    "    prev_temp = 0\n",
    "    prev_yr = None\n",
    "\n",
    "    for yr, curr_temp in zip(years, temperature):\n",
    "        if np.isnan(curr_temp):\n",
    "            continue\n",
    "        \n",
    "        if exceedance_yr is None and curr_temp > threshold:\n",
    "            x = (curr_temp - prev_temp) / (yr - prev_yr) # temperature change per year\n",
    "            exceedance_yr = prev_yr + int((threshold - prev_temp) / x) + 1 # add one because int() rounds down\n",
    "        if exceedance_yr is not None and return_yr is None and curr_temp < threshold:\n",
    "            x = (prev_temp - curr_temp) / (yr - prev_yr) # temperature change per year\n",
    "            return_yr = prev_yr + int((prev_temp - threshold) / x) + 1\n",
    "        prev_temp = curr_temp\n",
    "        prev_yr = yr\n",
    "\n",
    "    if return_yr is not None and exceedance_yr is not None:\n",
    "        overshoot_yr_count = int(return_yr - exceedance_yr)\n",
    "    if exceedance_yr is not None:\n",
    "        exceedance_yr = int(exceedance_yr)\n",
    "    if return_yr is not None:\n",
    "        return_yr = int(return_yr)\n",
    "\n",
    "    return [exceedance_yr, return_yr, overshoot_yr_count]"
   ]
  },
  {
   "cell_type": "code",
   "execution_count": 79,
   "metadata": {},
   "outputs": [],
   "source": [
    "exceedance_meta = median_temperature.apply(exceedance, axis=1, raw=True,\n",
    "                                           years=median_temperature.columns, threshold=1.5)"
   ]
  },
  {
   "cell_type": "code",
   "execution_count": 80,
   "metadata": {},
   "outputs": [],
   "source": [
    "name = 'exceedance year|1.5°C'\n",
    "sr1p5.set_meta(exceedance_meta.apply(lambda x: x[0]), name)\n",
    "meta_docs[name] = 'year in which the 1.5°C median warming threshold is exceeded'\n",
    "\n",
    "name = 'return year|1.5°C'\n",
    "sr1p5.set_meta(exceedance_meta.apply(lambda x: x[1]), name)\n",
    "meta_docs[name] = 'year in which median warming returns below the 1.5°C threshold'\n",
    "\n",
    "name = 'overshoot years|1.5°C'\n",
    "sr1p5.set_meta(exceedance_meta.apply(lambda x: x[2]), name)\n",
    "meta_docs[name] = 'number of years where 1.5°C median warming threshold is exceeded'"
   ]
  },
  {
   "cell_type": "code",
   "execution_count": 81,
   "metadata": {},
   "outputs": [],
   "source": [
    "def overshoot_severity(x, meta):\n",
    "    exceedance_yr = meta.loc[x.name[0:2]]['exceedance year|1.5°C']\n",
    "    return_yr = meta.loc[x.name[0:2]]['return year|1.5°C'] - 1 \n",
    "    # do not include year in which mean temperature returns to below 1.5\n",
    "    if exceedance_yr > 0 and return_yr > 0:\n",
    "        return pyam.cumulative(x, exceedance_yr, return_yr) - (return_yr - exceedance_yr + 1) * 1.5"
   ]
  },
  {
   "cell_type": "code",
   "execution_count": 82,
   "metadata": {},
   "outputs": [],
   "source": [
    "name = 'exceedance severity|1.5°C'\n",
    "sr1p5.set_meta(median_temperature.apply(overshoot_severity, axis=1, raw=False, meta=sr1p5.meta), name)\n",
    "meta_docs[name] = 'sum of median temperature exceeding the 1.5°C threshold'"
   ]
  },
  {
   "cell_type": "code",
   "execution_count": 83,
   "metadata": {},
   "outputs": [],
   "source": [
    "exceedance_meta = median_temperature.apply(exceedance, axis=1, raw=True,\n",
    "                                           years=median_temperature.columns, threshold=2)"
   ]
  },
  {
   "cell_type": "code",
   "execution_count": 84,
   "metadata": {},
   "outputs": [],
   "source": [
    "name = 'exceedance year|2.0°C'\n",
    "sr1p5.set_meta(exceedance_meta.apply(lambda x: x[0]), name)\n",
    "meta_docs[name] = 'year in which the 2.0°C median warming threshold is exceeded'\n",
    "\n",
    "name = 'return year|2.0°C'\n",
    "sr1p5.set_meta(exceedance_meta.apply(lambda x: x[1]), name)\n",
    "meta_docs[name] = 'year in which median warming returns below the 2.0°C threshold'\n",
    "\n",
    "name = 'overshoot years|2.0°C'\n",
    "sr1p5.set_meta(exceedance_meta.apply(lambda x: x[2]), name)\n",
    "meta_docs[name] = 'number of years where 2.0°C median warming threshold is exceeded'"
   ]
  },
  {
   "cell_type": "markdown",
   "metadata": {},
   "source": [
    "## Secondary categorization and meta-data assignment according to CO2 emissions"
   ]
  },
  {
   "cell_type": "markdown",
   "metadata": {},
   "source": [
    "### Defining the range for cumulative indicators and units\n",
    "\n",
    "All cumulative indicators are computed over the time horizon 2016-2100 (including the year 2100 in every summation)."
   ]
  },
  {
   "cell_type": "code",
   "execution_count": 85,
   "metadata": {},
   "outputs": [],
   "source": [
    "baseyear = 2016\n",
    "lastyear = 2100"
   ]
  },
  {
   "cell_type": "code",
   "execution_count": 86,
   "metadata": {},
   "outputs": [],
   "source": [
    "def filter_and_convert(variable):\n",
    "    return (sr1p5\n",
    "            .filter(variable=variable)\n",
    "            .convert_unit({'Mt CO2/yr': ('Gt CO2/yr', 0.001)})\n",
    "            .timeseries()\n",
    "           )\n",
    "\n",
    "unit = 'Gt CO2/yr'\n",
    "cumulative_unit = 'Gt CO2'"
   ]
  },
  {
   "cell_type": "code",
   "execution_count": 87,
   "metadata": {},
   "outputs": [],
   "source": [
    "co2 = filter_and_convert('Emissions|CO2')"
   ]
  },
  {
   "cell_type": "code",
   "execution_count": 88,
   "metadata": {},
   "outputs": [],
   "source": [
    "name = 'minimum net CO2 emissions ({})'.format(unit)\n",
    "sr1p5.set_meta(co2.apply(np.nanmin, axis=1), name)\n",
    "meta_docs[name] = 'Minimum of net CO2 emissions over the century ({})'.format(unit)"
   ]
  },
  {
   "cell_type": "markdown",
   "metadata": {},
   "source": [
    "### Indicators from cumulative CO2 emissions over the entire century (2016-2100)\n",
    "\n",
    "Compute the total cumulative CO2 emissions for secondary categorization of scenarios.\n",
    "Cumulative CO2 emissions are a first-order proxy for global mean temperature change.\n",
    "Emissions are interpolated linearly between years. The `last_year` value is included in the summation.\n",
    "\n",
    "The function `pyam.cumulative()` defined below aggregates timeseries values from `first_year` until `last_year`,\n",
    "including both first and last year in the total. The function assumes linear interpolation for years where no values are provided."
   ]
  },
  {
   "cell_type": "code",
   "execution_count": 89,
   "metadata": {},
   "outputs": [],
   "source": [
    "name = 'cumulative CO2 emissions ({}-{}, {})'.format(baseyear, lastyear, cumulative_unit)\n",
    "sr1p5.set_meta(co2.apply(pyam.cumulative, raw=False, axis=1, first_year=baseyear, last_year=lastyear), name)\n",
    "meta_docs[name] = 'Cumulative net CO2 emissions from {} until {} (including the last year, {})'.format(\n",
    "    baseyear, lastyear, cumulative_unit)"
   ]
  },
  {
   "cell_type": "code",
   "execution_count": 90,
   "metadata": {},
   "outputs": [],
   "source": [
    "ccs = filter_and_convert('Carbon Sequestration|CCS')"
   ]
  },
  {
   "cell_type": "code",
   "execution_count": 91,
   "metadata": {},
   "outputs": [],
   "source": [
    "cum_ccs_label = 'cumulative CCS ({}-{}, {})'.format(baseyear, lastyear, cumulative_unit)\n",
    "sr1p5.set_meta(ccs.apply(pyam.cumulative, raw=False, axis=1, first_year=baseyear, last_year=lastyear), cum_ccs_label)\n",
    "meta_docs[cum_ccs_label] = 'Cumulative carbon capture and sequestration from {} until {} (including the last year, {})'\\\n",
    "    .format(baseyear, lastyear, cumulative_unit)"
   ]
  },
  {
   "cell_type": "code",
   "execution_count": 92,
   "metadata": {},
   "outputs": [],
   "source": [
    "beccs = filter_and_convert('Carbon Sequestration|CCS|Biomass')"
   ]
  },
  {
   "cell_type": "code",
   "execution_count": 93,
   "metadata": {},
   "outputs": [],
   "source": [
    "cum_beccs_label = 'cumulative BECCS ({}-{}, {})'.format(baseyear, lastyear, cumulative_unit)\n",
    "sr1p5.set_meta(beccs.apply(pyam.cumulative, raw=False, axis=1, first_year=baseyear, last_year=lastyear), cum_beccs_label)\n",
    "meta_docs[cum_beccs_label] = 'Cumulative carbon capture and sequestration from bioenergy from {} until {} (including the last year, {})'.format(\n",
    "    baseyear, lastyear, cumulative_unit)"
   ]
  },
  {
   "cell_type": "markdown",
   "metadata": {},
   "source": [
    "Issue [#9](https://github.com/iiasa/ipcc_sr15_scenario_analysis/issues/9) requested to add the data for scenario where timeseries data for bioenergy with CCS was not provided explicitly (and hence not captured by the computation above) but could implicitly by assessed from the CCS timeseries data."
   ]
  },
  {
   "cell_type": "code",
   "execution_count": 94,
   "metadata": {},
   "outputs": [],
   "source": [
    "filled_ccs = sr1p5.meta[sr1p5.meta[cum_ccs_label] == 0][cum_beccs_label]"
   ]
  },
  {
   "cell_type": "code",
   "execution_count": 95,
   "metadata": {},
   "outputs": [],
   "source": [
    "sr1p5.set_meta(name=cum_beccs_label, meta=0, index=filled_ccs[filled_ccs.isna()].index)"
   ]
  },
  {
   "cell_type": "code",
   "execution_count": 96,
   "metadata": {},
   "outputs": [],
   "source": [
    "seq_lu = filter_and_convert('Carbon Sequestration|Land Use')"
   ]
  },
  {
   "cell_type": "code",
   "execution_count": 97,
   "metadata": {},
   "outputs": [],
   "source": [
    "name = 'cumulative sequestration land-use ({}-{}, {})'.format(baseyear, lastyear, cumulative_unit)\n",
    "sr1p5.set_meta(seq_lu.apply(pyam.cumulative, raw=False, axis=1, first_year=baseyear, last_year=lastyear), name)\n",
    "meta_docs[name] = 'Cumulative carbon sequestration from land use from {} until {} (including the last year, {})'.format(\n",
    "    baseyear, lastyear, cumulative_unit)"
   ]
  },
  {
   "cell_type": "markdown",
   "metadata": {},
   "source": [
    "### Cumulative CO2 emissions until peak warming"
   ]
  },
  {
   "cell_type": "code",
   "execution_count": 98,
   "metadata": {},
   "outputs": [],
   "source": [
    "def get_from_meta_column(df, x, col):\n",
    "    val = df.meta.loc[x.name[0:2], col]\n",
    "    return val if val < np.inf else max(x.index)"
   ]
  },
  {
   "cell_type": "code",
   "execution_count": 99,
   "metadata": {},
   "outputs": [],
   "source": [
    "name = 'cumulative CO2 emissions ({} to peak warming, {})'.format(baseyear, cumulative_unit)\n",
    "sr1p5.set_meta(co2.apply(lambda x: pyam.cumulative(x, first_year=baseyear,\n",
    "                                                   last_year=get_from_meta_column(sr1p5, x,\n",
    "                                                                                  'year of peak warming (MAGICC6)')),\n",
    "                         raw=False, axis=1), name)\n",
    "meta_docs[name] = 'cumulative net CO2 emissions from {} until the year of peak warming as computed by MAGICC6 (including the year of peak warming, {})'.format(\n",
    "    baseyear, cumulative_unit)"
   ]
  },
  {
   "cell_type": "code",
   "execution_count": 100,
   "metadata": {},
   "outputs": [
    {
     "data": {
      "text/plain": [
       "<matplotlib.axes._subplots.AxesSubplot at 0x1a240338d0>"
      ]
     },
     "execution_count": 100,
     "metadata": {},
     "output_type": "execute_result"
    }
   ],
   "source": [
    "(\n",
    "    sr1p5\n",
    "    .filter(category=cats)\n",
    "    .scatter(x='cumulative CO2 emissions (2016 to peak warming, {})'.format(cumulative_unit),\n",
    "             y='median warming at peak (MAGICC6)', color='category')\n",
    ")"
   ]
  },
  {
   "cell_type": "markdown",
   "metadata": {},
   "source": [
    "### Cumulative CO2 emissions until net-zero of total emissions"
   ]
  },
  {
   "cell_type": "code",
   "execution_count": 101,
   "metadata": {},
   "outputs": [],
   "source": [
    "def year_of_net_zero(data, years, threshold):\n",
    "    prev_val = 0\n",
    "    prev_yr = np.nan\n",
    "\n",
    "    for yr, val in zip(years, data):\n",
    "        if np.isnan(val):\n",
    "            continue\n",
    "        \n",
    "        if val < threshold:\n",
    "            x = (val - prev_val) / (yr - prev_yr) # absolute change per year\n",
    "            return prev_yr + int((threshold - prev_val) / x) + 1 # add one because int() rounds down\n",
    "        \n",
    "        prev_val = val\n",
    "        prev_yr = yr\n",
    "    return np.inf"
   ]
  },
  {
   "cell_type": "code",
   "execution_count": 102,
   "metadata": {},
   "outputs": [],
   "source": [
    "name = 'year of netzero CO2 emissions'\n",
    "sr1p5.set_meta(co2.apply(year_of_net_zero, years=co2.columns, threshold=0, axis=1), name)\n",
    "meta_docs[name] = 'year in which net CO2 emissions reach zero'"
   ]
  },
  {
   "cell_type": "code",
   "execution_count": 103,
   "metadata": {},
   "outputs": [],
   "source": [
    "name = 'cumulative CO2 emissions ({} to netzero, {})'.format(baseyear, cumulative_unit)\n",
    "sr1p5.set_meta(co2.apply(lambda x: pyam.cumulative(x, first_year=baseyear,\n",
    "                                                   last_year=get_from_meta_column(sr1p5, x,\n",
    "                                                                                  'year of netzero CO2 emissions')),\n",
    "                         raw=False, axis=1), name)\n",
    "meta_docs[name] = 'net CO2 emissions from {} until the year of peak warming (including the last year, {})'.format(\n",
    "    baseyear, cumulative_unit)"
   ]
  },
  {
   "cell_type": "code",
   "execution_count": 104,
   "metadata": {},
   "outputs": [],
   "source": [
    "name = 'warming at netzero (MAGICC6)'\n",
    "sr1p5.set_meta(median_temperature.apply(lambda x: x[get_from_meta_column(sr1p5, x,\n",
    "                                                                         'year of netzero CO2 emissions')],\n",
    "                                        raw=False, axis=1), name)\n",
    "meta_docs[name] = 'median warming above pre-industrial temperatures in the year of net-zero CO2 emission (MAGICC, °C)'.format(\n",
    "    baseyear, cumulative_unit)"
   ]
  },
  {
   "cell_type": "code",
   "execution_count": 105,
   "metadata": {},
   "outputs": [
    {
     "data": {
      "text/plain": [
       "<matplotlib.axes._subplots.AxesSubplot at 0x1a2402f610>"
      ]
     },
     "execution_count": 105,
     "metadata": {},
     "output_type": "execute_result"
    }
   ],
   "source": [
    "(\n",
    "    sr1p5\n",
    "    .scatter(x='cumulative CO2 emissions (2016 to netzero, {})'.format(cumulative_unit),\n",
    "             y='warming at netzero (MAGICC6)', color='category')\n",
    ")"
   ]
  },
  {
   "cell_type": "code",
   "execution_count": 106,
   "metadata": {},
   "outputs": [
    {
     "data": {
      "text/plain": [
       "[<matplotlib.lines.Line2D at 0x1a254b6c90>]"
      ]
     },
     "execution_count": 106,
     "metadata": {},
     "output_type": "execute_result"
    }
   ],
   "source": [
    "fig, ax = plt.subplots()\n",
    "(\n",
    "    sr1p5\n",
    "    .scatter(ax=ax, x='cumulative CO2 emissions (2016 to peak warming, {})'.format(cumulative_unit),\n",
    "             y='cumulative CO2 emissions (2016 to netzero, {})'.format(cumulative_unit),\n",
    "             color='category')\n",
    ")\n",
    "ax.plot(ax.get_xlim(), ax.get_xlim())"
   ]
  },
  {
   "cell_type": "code",
   "execution_count": 107,
   "metadata": {},
   "outputs": [
    {
     "data": {
      "text/plain": [
       "[<matplotlib.lines.Line2D at 0x1a354c6190>]"
      ]
     },
     "execution_count": 107,
     "metadata": {},
     "output_type": "execute_result"
    }
   ],
   "source": [
    "fig, ax = plt.subplots()\n",
    "(\n",
    "    sr1p5\n",
    "    .scatter(ax=ax, x='median warming at peak (MAGICC6)',\n",
    "             y='warming at netzero (MAGICC6)', color='category')\n",
    ")\n",
    "x = np.linspace(*ax.get_xlim())\n",
    "ax.plot(ax.get_xlim(), ax.get_xlim())"
   ]
  },
  {
   "cell_type": "code",
   "execution_count": 108,
   "metadata": {},
   "outputs": [
    {
     "data": {
      "text/plain": [
       "[<matplotlib.lines.Line2D at 0x1a214515d0>]"
      ]
     },
     "execution_count": 108,
     "metadata": {},
     "output_type": "execute_result"
    }
   ],
   "source": [
    "fig, ax = plt.subplots()\n",
    "(\n",
    "    sr1p5\n",
    "    .scatter(ax=ax, x='median warming in 2100 (MAGICC6)',\n",
    "             y='warming at netzero (MAGICC6)', color='category')\n",
    ")\n",
    "x = np.linspace(*ax.get_xlim())\n",
    "ax.plot(ax.get_xlim(), ax.get_xlim())"
   ]
  },
  {
   "cell_type": "markdown",
   "metadata": {},
   "source": [
    "## Categorization and meta-data assignment according to final energy demand\n",
    "\n",
    "Add a categorization column to the metadata categorization based on final energy demand at the end of the century."
   ]
  },
  {
   "cell_type": "code",
   "execution_count": 109,
   "metadata": {},
   "outputs": [],
   "source": [
    "horizon = list(range(2000, 2020, 5)) + list(range(2020, 2101, 10))\n",
    "df = sr1p5.filter(year=horizon)"
   ]
  },
  {
   "cell_type": "code",
   "execution_count": 110,
   "metadata": {},
   "outputs": [
    {
     "data": {
      "text/plain": [
       "<matplotlib.axes._subplots.AxesSubplot at 0x1a29c99f90>"
      ]
     },
     "execution_count": 110,
     "metadata": {},
     "output_type": "execute_result"
    }
   ],
   "source": [
    "fe_df = df.filter(variable='Final Energy')\n",
    "fe_df.line_plot(**plotting_args, marker='marker')"
   ]
  },
  {
   "cell_type": "code",
   "execution_count": 111,
   "metadata": {},
   "outputs": [],
   "source": [
    "fe = fe_df.timeseries()"
   ]
  },
  {
   "cell_type": "code",
   "execution_count": 112,
   "metadata": {},
   "outputs": [],
   "source": [
    "name = 'final energy|2100'\n",
    "sr1p5.set_meta(fe[2100], name)\n",
    "meta_docs[name] = 'Final energy demand at the end of the century (EJ/yr)'"
   ]
  },
  {
   "cell_type": "markdown",
   "metadata": {},
   "source": [
    "## Indicators on carbon price development\n",
    "\n",
    "Retrieve the carbon price timeseries and derive the following indicators:\n",
    " - carbon price in 2030, 2050, and 2100 given both in 2010$ as reported by models and as NPV\n",
    " - simple average of NPV (2030-2100)\n",
    " - annual compounded NPV (2030-2100)\n",
    " - continuously compounded NPV (2030-2100)\n",
    "\n",
    "All net present values (NPV) are given relative to the year 2020.\n",
    "They are calculated assuming a 5% discount rate."
   ]
  },
  {
   "cell_type": "code",
   "execution_count": 113,
   "metadata": {},
   "outputs": [],
   "source": [
    "dct = {'Indicator type': \n",
    "           ['Price by year',\n",
    "            'Price by year (as NPV)',\n",
    "            'Average (Avg) NPV',\n",
    "            'Annual compounded (AC) NPV)',\n",
    "            'Continuously compounded (CC) NPV',\n",
    "            '', 'Note on NPV'\n",
    "           ],\n",
    "       'Description':\n",
    "           ['Global carbon price as reported by each scenario',\n",
    "            'Global carbon price as reported by each scenario discounted to 2020 NPV',\n",
    "            'Cumulative NPV carbon price from 2030 until 2100 divided by number of years (71)',\n",
    "            'Annual compounded NPV carbon price from 2030 until 2100 divided by number of years (71)',\n",
    "            'Continuously compounded NPV carbon price from 2030 until 2100 divided by number of years (71)',\n",
    "            '', 'All NPV indicators are discounted to 2020 using a 5% discount rate'\n",
    "           ]\n",
    "      }\n",
    "meta_tables['carbon_price'] = pd.DataFrame(dct)[['Indicator type', 'Description']]"
   ]
  },
  {
   "cell_type": "code",
   "execution_count": 114,
   "metadata": {},
   "outputs": [],
   "source": [
    "carbonprice_df = sr1p5.filter(variable='Price|Carbon', year=range(2020, 2101, 10))"
   ]
  },
  {
   "cell_type": "markdown",
   "metadata": {},
   "source": [
    "### Plot the carbon price trajectories by category\n",
    "\n",
    "There are some outlier scenarios with very high carbon prices, so the following cell manually sets the limits of the y-axis."
   ]
  },
  {
   "cell_type": "code",
   "execution_count": 115,
   "metadata": {},
   "outputs": [
    {
     "name": "stderr",
     "output_type": "stream",
     "text": [
      "/Users/rebeccaciez1/opt/anaconda3/lib/python3.7/site-packages/matplotlib/axes/_base.py:3604: MatplotlibDeprecationWarning: \n",
      "The `ymin` argument was deprecated in Matplotlib 3.0 and will be removed in 3.2. Use `bottom` instead.\n",
      "  alternative='`bottom`', obj_type='argument')\n",
      "/Users/rebeccaciez1/opt/anaconda3/lib/python3.7/site-packages/matplotlib/axes/_base.py:3610: MatplotlibDeprecationWarning: \n",
      "The `ymax` argument was deprecated in Matplotlib 3.0 and will be removed in 3.2. Use `top` instead.\n",
      "  alternative='`top`', obj_type='argument')\n"
     ]
    },
    {
     "data": {
      "text/plain": [
       "(0, 10000)"
      ]
     },
     "execution_count": 115,
     "metadata": {},
     "output_type": "execute_result"
    }
   ],
   "source": [
    "fig, ax = plt.subplots()\n",
    "carbonprice_df.filter(year=range(2020, 2101, 10)).line_plot(ax=ax, **plotting_args)\n",
    "plt.ylim(ymax=10000, ymin=0)"
   ]
  },
  {
   "cell_type": "markdown",
   "metadata": {},
   "source": [
    "### Show outliers for verification and assessment"
   ]
  },
  {
   "cell_type": "code",
   "execution_count": 116,
   "metadata": {},
   "outputs": [],
   "source": [
    "carbon_price = carbonprice_df.timeseries()"
   ]
  },
  {
   "cell_type": "code",
   "execution_count": 117,
   "metadata": {},
   "outputs": [
    {
     "data": {
      "text/html": [
       "<div>\n",
       "<style scoped>\n",
       "    .dataframe tbody tr th:only-of-type {\n",
       "        vertical-align: middle;\n",
       "    }\n",
       "\n",
       "    .dataframe tbody tr th {\n",
       "        vertical-align: top;\n",
       "    }\n",
       "\n",
       "    .dataframe thead th {\n",
       "        text-align: right;\n",
       "    }\n",
       "</style>\n",
       "<table border=\"1\" class=\"dataframe\">\n",
       "  <thead>\n",
       "    <tr style=\"text-align: right;\">\n",
       "      <th></th>\n",
       "      <th></th>\n",
       "      <th></th>\n",
       "      <th></th>\n",
       "      <th></th>\n",
       "      <th>2020</th>\n",
       "      <th>2030</th>\n",
       "      <th>2040</th>\n",
       "      <th>2050</th>\n",
       "      <th>2060</th>\n",
       "      <th>2070</th>\n",
       "      <th>2080</th>\n",
       "      <th>2090</th>\n",
       "      <th>2100</th>\n",
       "    </tr>\n",
       "    <tr>\n",
       "      <th>model</th>\n",
       "      <th>scenario</th>\n",
       "      <th>region</th>\n",
       "      <th>variable</th>\n",
       "      <th>unit</th>\n",
       "      <th></th>\n",
       "      <th></th>\n",
       "      <th></th>\n",
       "      <th></th>\n",
       "      <th></th>\n",
       "      <th></th>\n",
       "      <th></th>\n",
       "      <th></th>\n",
       "      <th></th>\n",
       "    </tr>\n",
       "  </thead>\n",
       "  <tbody>\n",
       "    <tr>\n",
       "      <td>MESSAGE V.3</td>\n",
       "      <td>GEA_Mix_1p5C_AdvNCO2_PartialDelay2020</td>\n",
       "      <td>World</td>\n",
       "      <td>Price|Carbon</td>\n",
       "      <td>US$2010/t CO2</td>\n",
       "      <td>46.660823</td>\n",
       "      <td>1423.867874</td>\n",
       "      <td>2319.330739</td>\n",
       "      <td>3777.945369</td>\n",
       "      <td>6153.874914</td>\n",
       "      <td>10024.013790</td>\n",
       "      <td>16328.062200</td>\n",
       "      <td>26596.692780</td>\n",
       "      <td>43323.20996</td>\n",
       "    </tr>\n",
       "    <tr>\n",
       "      <td>POLES ADVANCE</td>\n",
       "      <td>ADVANCE_2030_1.5C-2100</td>\n",
       "      <td>World</td>\n",
       "      <td>Price|Carbon</td>\n",
       "      <td>US$2010/t CO2</td>\n",
       "      <td>2.712291</td>\n",
       "      <td>37.651289</td>\n",
       "      <td>1699.580566</td>\n",
       "      <td>3725.295117</td>\n",
       "      <td>5680.236328</td>\n",
       "      <td>7635.176953</td>\n",
       "      <td>9590.118164</td>\n",
       "      <td>11545.059380</td>\n",
       "      <td>13500.00000</td>\n",
       "    </tr>\n",
       "    <tr>\n",
       "      <td rowspan=\"3\" valign=\"top\">POLES EMF33</td>\n",
       "      <td>EMF33_1.5C_limbio</td>\n",
       "      <td>World</td>\n",
       "      <td>Price|Carbon</td>\n",
       "      <td>US$2010/t CO2</td>\n",
       "      <td>0.704306</td>\n",
       "      <td>6050.000000</td>\n",
       "      <td>12100.000000</td>\n",
       "      <td>14300.000000</td>\n",
       "      <td>16595.734380</td>\n",
       "      <td>19260.026760</td>\n",
       "      <td>22352.045120</td>\n",
       "      <td>25940.464260</td>\n",
       "      <td>30104.96758</td>\n",
       "    </tr>\n",
       "    <tr>\n",
       "      <td>EMF33_1.5C_nofuel</td>\n",
       "      <td>World</td>\n",
       "      <td>Price|Carbon</td>\n",
       "      <td>US$2010/t CO2</td>\n",
       "      <td>0.720055</td>\n",
       "      <td>1353.000000</td>\n",
       "      <td>3157.000269</td>\n",
       "      <td>4961.000000</td>\n",
       "      <td>5929.894824</td>\n",
       "      <td>7088.017578</td>\n",
       "      <td>8472.324072</td>\n",
       "      <td>10126.989940</td>\n",
       "      <td>12104.81465</td>\n",
       "    </tr>\n",
       "    <tr>\n",
       "      <td>EMF33_WB2C_none</td>\n",
       "      <td>World</td>\n",
       "      <td>Price|Carbon</td>\n",
       "      <td>US$2010/t CO2</td>\n",
       "      <td>0.719918</td>\n",
       "      <td>550.000000</td>\n",
       "      <td>2090.000000</td>\n",
       "      <td>3740.000000</td>\n",
       "      <td>4559.039160</td>\n",
       "      <td>5557.443311</td>\n",
       "      <td>6774.492334</td>\n",
       "      <td>8258.068457</td>\n",
       "      <td>10066.53828</td>\n",
       "    </tr>\n",
       "    <tr>\n",
       "      <td>REMIND 1.7</td>\n",
       "      <td>CEMICS-1.5-CDR8</td>\n",
       "      <td>World</td>\n",
       "      <td>Price|Carbon</td>\n",
       "      <td>US$2010/t CO2</td>\n",
       "      <td>1.803400</td>\n",
       "      <td>454.275100</td>\n",
       "      <td>739.966300</td>\n",
       "      <td>1205.327500</td>\n",
       "      <td>1963.350600</td>\n",
       "      <td>3198.090800</td>\n",
       "      <td>5209.353400</td>\n",
       "      <td>8485.485600</td>\n",
       "      <td>13821.95880</td>\n",
       "    </tr>\n",
       "    <tr>\n",
       "      <td>REMIND-MAgPIE 1.5</td>\n",
       "      <td>SSP2-19</td>\n",
       "      <td>World</td>\n",
       "      <td>Price|Carbon</td>\n",
       "      <td>US$2010/t CO2</td>\n",
       "      <td>8.066300</td>\n",
       "      <td>196.130000</td>\n",
       "      <td>636.240000</td>\n",
       "      <td>1033.450000</td>\n",
       "      <td>1843.600000</td>\n",
       "      <td>2538.800000</td>\n",
       "      <td>4119.500000</td>\n",
       "      <td>6545.000000</td>\n",
       "      <td>10149.70000</td>\n",
       "    </tr>\n",
       "    <tr>\n",
       "      <td>REMIND-MAgPIE 1.7-3.0</td>\n",
       "      <td>EMF33_WB2C_none</td>\n",
       "      <td>World</td>\n",
       "      <td>Price|Carbon</td>\n",
       "      <td>US$2010/t CO2</td>\n",
       "      <td>9.032320</td>\n",
       "      <td>415.934200</td>\n",
       "      <td>676.534210</td>\n",
       "      <td>1105.363380</td>\n",
       "      <td>1766.836830</td>\n",
       "      <td>2747.569000</td>\n",
       "      <td>4530.163220</td>\n",
       "      <td>7083.040030</td>\n",
       "      <td>11011.74371</td>\n",
       "    </tr>\n",
       "    <tr>\n",
       "      <td rowspan=\"2\" valign=\"top\">WITCH-GLOBIOM 3.1</td>\n",
       "      <td>SSP1-19</td>\n",
       "      <td>World</td>\n",
       "      <td>Price|Carbon</td>\n",
       "      <td>US$2010/t CO2</td>\n",
       "      <td>7.059897</td>\n",
       "      <td>1275.235264</td>\n",
       "      <td>2454.961901</td>\n",
       "      <td>4303.974925</td>\n",
       "      <td>7085.709092</td>\n",
       "      <td>11124.412990</td>\n",
       "      <td>16810.873870</td>\n",
       "      <td>24605.343840</td>\n",
       "      <td>35037.73011</td>\n",
       "    </tr>\n",
       "    <tr>\n",
       "      <td>SSP4-19</td>\n",
       "      <td>World</td>\n",
       "      <td>Price|Carbon</td>\n",
       "      <td>US$2010/t CO2</td>\n",
       "      <td>7.261031</td>\n",
       "      <td>874.829674</td>\n",
       "      <td>1684.139060</td>\n",
       "      <td>2952.588503</td>\n",
       "      <td>4860.898022</td>\n",
       "      <td>7631.506795</td>\n",
       "      <td>11532.500480</td>\n",
       "      <td>16879.618630</td>\n",
       "      <td>24036.38517</td>\n",
       "    </tr>\n",
       "  </tbody>\n",
       "</table>\n",
       "</div>"
      ],
      "text/plain": [
       "                                                                                                    2020  \\\n",
       "model                 scenario                              region variable     unit                       \n",
       "MESSAGE V.3           GEA_Mix_1p5C_AdvNCO2_PartialDelay2020 World  Price|Carbon US$2010/t CO2  46.660823   \n",
       "POLES ADVANCE         ADVANCE_2030_1.5C-2100                World  Price|Carbon US$2010/t CO2   2.712291   \n",
       "POLES EMF33           EMF33_1.5C_limbio                     World  Price|Carbon US$2010/t CO2   0.704306   \n",
       "                      EMF33_1.5C_nofuel                     World  Price|Carbon US$2010/t CO2   0.720055   \n",
       "                      EMF33_WB2C_none                       World  Price|Carbon US$2010/t CO2   0.719918   \n",
       "REMIND 1.7            CEMICS-1.5-CDR8                       World  Price|Carbon US$2010/t CO2   1.803400   \n",
       "REMIND-MAgPIE 1.5     SSP2-19                               World  Price|Carbon US$2010/t CO2   8.066300   \n",
       "REMIND-MAgPIE 1.7-3.0 EMF33_WB2C_none                       World  Price|Carbon US$2010/t CO2   9.032320   \n",
       "WITCH-GLOBIOM 3.1     SSP1-19                               World  Price|Carbon US$2010/t CO2   7.059897   \n",
       "                      SSP4-19                               World  Price|Carbon US$2010/t CO2   7.261031   \n",
       "\n",
       "                                                                                                      2030  \\\n",
       "model                 scenario                              region variable     unit                         \n",
       "MESSAGE V.3           GEA_Mix_1p5C_AdvNCO2_PartialDelay2020 World  Price|Carbon US$2010/t CO2  1423.867874   \n",
       "POLES ADVANCE         ADVANCE_2030_1.5C-2100                World  Price|Carbon US$2010/t CO2    37.651289   \n",
       "POLES EMF33           EMF33_1.5C_limbio                     World  Price|Carbon US$2010/t CO2  6050.000000   \n",
       "                      EMF33_1.5C_nofuel                     World  Price|Carbon US$2010/t CO2  1353.000000   \n",
       "                      EMF33_WB2C_none                       World  Price|Carbon US$2010/t CO2   550.000000   \n",
       "REMIND 1.7            CEMICS-1.5-CDR8                       World  Price|Carbon US$2010/t CO2   454.275100   \n",
       "REMIND-MAgPIE 1.5     SSP2-19                               World  Price|Carbon US$2010/t CO2   196.130000   \n",
       "REMIND-MAgPIE 1.7-3.0 EMF33_WB2C_none                       World  Price|Carbon US$2010/t CO2   415.934200   \n",
       "WITCH-GLOBIOM 3.1     SSP1-19                               World  Price|Carbon US$2010/t CO2  1275.235264   \n",
       "                      SSP4-19                               World  Price|Carbon US$2010/t CO2   874.829674   \n",
       "\n",
       "                                                                                                       2040  \\\n",
       "model                 scenario                              region variable     unit                          \n",
       "MESSAGE V.3           GEA_Mix_1p5C_AdvNCO2_PartialDelay2020 World  Price|Carbon US$2010/t CO2   2319.330739   \n",
       "POLES ADVANCE         ADVANCE_2030_1.5C-2100                World  Price|Carbon US$2010/t CO2   1699.580566   \n",
       "POLES EMF33           EMF33_1.5C_limbio                     World  Price|Carbon US$2010/t CO2  12100.000000   \n",
       "                      EMF33_1.5C_nofuel                     World  Price|Carbon US$2010/t CO2   3157.000269   \n",
       "                      EMF33_WB2C_none                       World  Price|Carbon US$2010/t CO2   2090.000000   \n",
       "REMIND 1.7            CEMICS-1.5-CDR8                       World  Price|Carbon US$2010/t CO2    739.966300   \n",
       "REMIND-MAgPIE 1.5     SSP2-19                               World  Price|Carbon US$2010/t CO2    636.240000   \n",
       "REMIND-MAgPIE 1.7-3.0 EMF33_WB2C_none                       World  Price|Carbon US$2010/t CO2    676.534210   \n",
       "WITCH-GLOBIOM 3.1     SSP1-19                               World  Price|Carbon US$2010/t CO2   2454.961901   \n",
       "                      SSP4-19                               World  Price|Carbon US$2010/t CO2   1684.139060   \n",
       "\n",
       "                                                                                                       2050  \\\n",
       "model                 scenario                              region variable     unit                          \n",
       "MESSAGE V.3           GEA_Mix_1p5C_AdvNCO2_PartialDelay2020 World  Price|Carbon US$2010/t CO2   3777.945369   \n",
       "POLES ADVANCE         ADVANCE_2030_1.5C-2100                World  Price|Carbon US$2010/t CO2   3725.295117   \n",
       "POLES EMF33           EMF33_1.5C_limbio                     World  Price|Carbon US$2010/t CO2  14300.000000   \n",
       "                      EMF33_1.5C_nofuel                     World  Price|Carbon US$2010/t CO2   4961.000000   \n",
       "                      EMF33_WB2C_none                       World  Price|Carbon US$2010/t CO2   3740.000000   \n",
       "REMIND 1.7            CEMICS-1.5-CDR8                       World  Price|Carbon US$2010/t CO2   1205.327500   \n",
       "REMIND-MAgPIE 1.5     SSP2-19                               World  Price|Carbon US$2010/t CO2   1033.450000   \n",
       "REMIND-MAgPIE 1.7-3.0 EMF33_WB2C_none                       World  Price|Carbon US$2010/t CO2   1105.363380   \n",
       "WITCH-GLOBIOM 3.1     SSP1-19                               World  Price|Carbon US$2010/t CO2   4303.974925   \n",
       "                      SSP4-19                               World  Price|Carbon US$2010/t CO2   2952.588503   \n",
       "\n",
       "                                                                                                       2060  \\\n",
       "model                 scenario                              region variable     unit                          \n",
       "MESSAGE V.3           GEA_Mix_1p5C_AdvNCO2_PartialDelay2020 World  Price|Carbon US$2010/t CO2   6153.874914   \n",
       "POLES ADVANCE         ADVANCE_2030_1.5C-2100                World  Price|Carbon US$2010/t CO2   5680.236328   \n",
       "POLES EMF33           EMF33_1.5C_limbio                     World  Price|Carbon US$2010/t CO2  16595.734380   \n",
       "                      EMF33_1.5C_nofuel                     World  Price|Carbon US$2010/t CO2   5929.894824   \n",
       "                      EMF33_WB2C_none                       World  Price|Carbon US$2010/t CO2   4559.039160   \n",
       "REMIND 1.7            CEMICS-1.5-CDR8                       World  Price|Carbon US$2010/t CO2   1963.350600   \n",
       "REMIND-MAgPIE 1.5     SSP2-19                               World  Price|Carbon US$2010/t CO2   1843.600000   \n",
       "REMIND-MAgPIE 1.7-3.0 EMF33_WB2C_none                       World  Price|Carbon US$2010/t CO2   1766.836830   \n",
       "WITCH-GLOBIOM 3.1     SSP1-19                               World  Price|Carbon US$2010/t CO2   7085.709092   \n",
       "                      SSP4-19                               World  Price|Carbon US$2010/t CO2   4860.898022   \n",
       "\n",
       "                                                                                                       2070  \\\n",
       "model                 scenario                              region variable     unit                          \n",
       "MESSAGE V.3           GEA_Mix_1p5C_AdvNCO2_PartialDelay2020 World  Price|Carbon US$2010/t CO2  10024.013790   \n",
       "POLES ADVANCE         ADVANCE_2030_1.5C-2100                World  Price|Carbon US$2010/t CO2   7635.176953   \n",
       "POLES EMF33           EMF33_1.5C_limbio                     World  Price|Carbon US$2010/t CO2  19260.026760   \n",
       "                      EMF33_1.5C_nofuel                     World  Price|Carbon US$2010/t CO2   7088.017578   \n",
       "                      EMF33_WB2C_none                       World  Price|Carbon US$2010/t CO2   5557.443311   \n",
       "REMIND 1.7            CEMICS-1.5-CDR8                       World  Price|Carbon US$2010/t CO2   3198.090800   \n",
       "REMIND-MAgPIE 1.5     SSP2-19                               World  Price|Carbon US$2010/t CO2   2538.800000   \n",
       "REMIND-MAgPIE 1.7-3.0 EMF33_WB2C_none                       World  Price|Carbon US$2010/t CO2   2747.569000   \n",
       "WITCH-GLOBIOM 3.1     SSP1-19                               World  Price|Carbon US$2010/t CO2  11124.412990   \n",
       "                      SSP4-19                               World  Price|Carbon US$2010/t CO2   7631.506795   \n",
       "\n",
       "                                                                                                       2080  \\\n",
       "model                 scenario                              region variable     unit                          \n",
       "MESSAGE V.3           GEA_Mix_1p5C_AdvNCO2_PartialDelay2020 World  Price|Carbon US$2010/t CO2  16328.062200   \n",
       "POLES ADVANCE         ADVANCE_2030_1.5C-2100                World  Price|Carbon US$2010/t CO2   9590.118164   \n",
       "POLES EMF33           EMF33_1.5C_limbio                     World  Price|Carbon US$2010/t CO2  22352.045120   \n",
       "                      EMF33_1.5C_nofuel                     World  Price|Carbon US$2010/t CO2   8472.324072   \n",
       "                      EMF33_WB2C_none                       World  Price|Carbon US$2010/t CO2   6774.492334   \n",
       "REMIND 1.7            CEMICS-1.5-CDR8                       World  Price|Carbon US$2010/t CO2   5209.353400   \n",
       "REMIND-MAgPIE 1.5     SSP2-19                               World  Price|Carbon US$2010/t CO2   4119.500000   \n",
       "REMIND-MAgPIE 1.7-3.0 EMF33_WB2C_none                       World  Price|Carbon US$2010/t CO2   4530.163220   \n",
       "WITCH-GLOBIOM 3.1     SSP1-19                               World  Price|Carbon US$2010/t CO2  16810.873870   \n",
       "                      SSP4-19                               World  Price|Carbon US$2010/t CO2  11532.500480   \n",
       "\n",
       "                                                                                                       2090  \\\n",
       "model                 scenario                              region variable     unit                          \n",
       "MESSAGE V.3           GEA_Mix_1p5C_AdvNCO2_PartialDelay2020 World  Price|Carbon US$2010/t CO2  26596.692780   \n",
       "POLES ADVANCE         ADVANCE_2030_1.5C-2100                World  Price|Carbon US$2010/t CO2  11545.059380   \n",
       "POLES EMF33           EMF33_1.5C_limbio                     World  Price|Carbon US$2010/t CO2  25940.464260   \n",
       "                      EMF33_1.5C_nofuel                     World  Price|Carbon US$2010/t CO2  10126.989940   \n",
       "                      EMF33_WB2C_none                       World  Price|Carbon US$2010/t CO2   8258.068457   \n",
       "REMIND 1.7            CEMICS-1.5-CDR8                       World  Price|Carbon US$2010/t CO2   8485.485600   \n",
       "REMIND-MAgPIE 1.5     SSP2-19                               World  Price|Carbon US$2010/t CO2   6545.000000   \n",
       "REMIND-MAgPIE 1.7-3.0 EMF33_WB2C_none                       World  Price|Carbon US$2010/t CO2   7083.040030   \n",
       "WITCH-GLOBIOM 3.1     SSP1-19                               World  Price|Carbon US$2010/t CO2  24605.343840   \n",
       "                      SSP4-19                               World  Price|Carbon US$2010/t CO2  16879.618630   \n",
       "\n",
       "                                                                                                      2100  \n",
       "model                 scenario                              region variable     unit                        \n",
       "MESSAGE V.3           GEA_Mix_1p5C_AdvNCO2_PartialDelay2020 World  Price|Carbon US$2010/t CO2  43323.20996  \n",
       "POLES ADVANCE         ADVANCE_2030_1.5C-2100                World  Price|Carbon US$2010/t CO2  13500.00000  \n",
       "POLES EMF33           EMF33_1.5C_limbio                     World  Price|Carbon US$2010/t CO2  30104.96758  \n",
       "                      EMF33_1.5C_nofuel                     World  Price|Carbon US$2010/t CO2  12104.81465  \n",
       "                      EMF33_WB2C_none                       World  Price|Carbon US$2010/t CO2  10066.53828  \n",
       "REMIND 1.7            CEMICS-1.5-CDR8                       World  Price|Carbon US$2010/t CO2  13821.95880  \n",
       "REMIND-MAgPIE 1.5     SSP2-19                               World  Price|Carbon US$2010/t CO2  10149.70000  \n",
       "REMIND-MAgPIE 1.7-3.0 EMF33_WB2C_none                       World  Price|Carbon US$2010/t CO2  11011.74371  \n",
       "WITCH-GLOBIOM 3.1     SSP1-19                               World  Price|Carbon US$2010/t CO2  35037.73011  \n",
       "                      SSP4-19                               World  Price|Carbon US$2010/t CO2  24036.38517  "
      ]
     },
     "execution_count": 117,
     "metadata": {},
     "output_type": "execute_result"
    }
   ],
   "source": [
    "carbon_price[carbon_price.apply(lambda x: max([i for i in x if not np.isnan(i)]) > 10000, axis=1)]"
   ]
  },
  {
   "cell_type": "markdown",
   "metadata": {},
   "source": [
    "### Compute net-present values of the carbon price"
   ]
  },
  {
   "cell_type": "code",
   "execution_count": 118,
   "metadata": {},
   "outputs": [],
   "source": [
    "carbon_price_npv = carbon_price.copy()\n",
    "\n",
    "r = 0.05\n",
    "discount_year = 2020\n",
    "npv_first_year = 2030\n",
    "npv_last_year = 2100\n",
    "\n",
    "for y in carbon_price_npv.columns: \n",
    "    carbon_price_npv[y] = carbon_price_npv[y] / math.pow(1 + r, y - discount_year)"
   ]
  },
  {
   "cell_type": "code",
   "execution_count": 119,
   "metadata": {},
   "outputs": [],
   "source": [
    "discount_docstring = ' from {} until {} including the last year, '.format(npv_first_year, npv_last_year) + \\\n",
    "    'discounted to {} using a {}% discount rate'.format(discount_year, r)"
   ]
  },
  {
   "cell_type": "code",
   "execution_count": 120,
   "metadata": {},
   "outputs": [],
   "source": [
    "for y in [2030, 2050, 2100]:\n",
    "    name = 'carbon price|{}'.format(y)\n",
    "    sr1p5.set_meta(carbon_price[y], 'carbon price|{}'.format(y))\n",
    "    meta_docs[name] = 'carbon price in {} (2010USD/tCO2)'.format(y)\n",
    "    \n",
    "    name = 'carbon price|{} (NPV)'.format(y)\n",
    "    sr1p5.set_meta(carbon_price_npv[y], name)\n",
    "    meta_docs[name] = 'net-present value of carbon price in {} (2010USD/tCO2), discounted to {}'.format(\n",
    "        y, discount_year)"
   ]
  },
  {
   "cell_type": "code",
   "execution_count": 121,
   "metadata": {},
   "outputs": [],
   "source": [
    "name = 'carbon price|Avg NPV (2030-2100)'\n",
    "sr1p5.set_meta(carbon_price_npv.apply(pyam.cumulative, first_year=2030, last_year=2100,\n",
    "                                      raw=False, axis=1)/71, name)\n",
    "meta_docs[name] = 'continuously compounded net-present value of carbon prices (2010USD/tCO2)' + discount_docstring"
   ]
  },
  {
   "cell_type": "code",
   "execution_count": 122,
   "metadata": {},
   "outputs": [],
   "source": [
    "def compute_w1_annual(r, dt):\n",
    "    value = 0\n",
    "    for i in range(1, dt):  # range does not include the last element, but this is 0 in this formula\n",
    "        value += math.pow(1 / (1 + r), i) * (1 - i / dt)\n",
    "    return value\n",
    "\n",
    "def compute_w2_annual(r, dt):\n",
    "    value = 0\n",
    "    for i in range(1, dt + 1): # range does not include the last element\n",
    "        value += math.pow(1 / (1 + r), i - dt) * (i / dt)\n",
    "    return value\n",
    "\n",
    "w1_annual = {}\n",
    "w2_annual = {}"
   ]
  },
  {
   "cell_type": "code",
   "execution_count": 123,
   "metadata": {},
   "outputs": [],
   "source": [
    "def compute_w1_compounded(r, dt):\n",
    "    return 1 / r - (1 - math.exp(-r * dt)) / (r * r * dt)\n",
    "\n",
    "def compute_w2_compounded(r, dt):\n",
    "    return - 1 / r + (math.exp(r * dt) - 1) / (r * r * dt)\n",
    "\n",
    "w1_compounded = {}\n",
    "w2_compounded = {}"
   ]
  },
  {
   "cell_type": "code",
   "execution_count": 124,
   "metadata": {},
   "outputs": [],
   "source": [
    "# this function is an adaptation of 'pyam.timeseries:cumulative()'\n",
    "\n",
    "def npv_weighted(x, first_year, last_year, w1, w2, w1_function, w2_function, r):    \n",
    "    if min(x.index) > first_year or max(x.index) < last_year:\n",
    "        return np.nan\n",
    "\n",
    "    x[first_year] = pyam.fill_series(x, first_year)\n",
    "    x[last_year] = pyam.fill_series(x, last_year)\n",
    "\n",
    "    years = [i for i in x.index if i >= first_year and i <= last_year\n",
    "             and ~np.isnan(x[i])]\n",
    "    years.sort()\n",
    "\n",
    "    # loop over years\n",
    "    if not np.isnan(x[first_year]) and not np.isnan(x[last_year]):\n",
    "        value = 0\n",
    "        for (i, yr) in enumerate(years[:-1]):\n",
    "            next_yr = years[i+1]\n",
    "            dt = next_yr - yr\n",
    "            if dt not in w1.keys():\n",
    "                w1[dt] = w1_function(r, dt)\n",
    "            if dt not in w2.keys():\n",
    "                w2[dt] = w2_function(r, dt)               \n",
    "            # the summation is shifted to include the first year fully in sum,\n",
    "            # otherwise, would return a weighted average of `yr` and `next_yr`\n",
    "            value += w1[dt] * x[yr] + w2[dt] * x[next_yr]\n",
    "\n",
    "        # the loop above does not include the last element in range `last_year`,\n",
    "        # therefore added explicitly\n",
    "        value += x[last_year]\n",
    "\n",
    "        return value / (last_year - first_year + 1)"
   ]
  },
  {
   "cell_type": "code",
   "execution_count": 125,
   "metadata": {},
   "outputs": [],
   "source": [
    "name = 'carbon price|AC NPV (2030-2100)'\n",
    "sr1p5.set_meta(carbon_price_npv.apply(npv_weighted, first_year=npv_first_year, last_year=npv_last_year,\n",
    "                                      w1=w1_annual, w2=w2_annual, \n",
    "                                      w1_function=compute_w1_annual, w2_function=compute_w2_annual, r=r,\n",
    "                                      raw=False, axis=1), name)\n",
    "meta_docs[name] = 'anually compounded net-present value of carbon prices (2010USD/tCO2)' + discount_docstring"
   ]
  },
  {
   "cell_type": "code",
   "execution_count": 126,
   "metadata": {},
   "outputs": [],
   "source": [
    "name = 'carbon price|CC NPV (2030-2100)'\n",
    "sr1p5.set_meta(carbon_price_npv.apply(npv_weighted, first_year=npv_first_year, last_year=npv_last_year, \n",
    "                                      w1=w1_compounded, w2=w2_compounded, \n",
    "                                      w1_function=compute_w1_compounded, w2_function=compute_w2_compounded, r=r,\n",
    "                                      raw=False, axis=1), name)\n",
    "meta_docs[name] = 'continuously compounded net-present value of carbon prices (2010USD/tCO2)' + discount_docstring"
   ]
  },
  {
   "cell_type": "markdown",
   "metadata": {},
   "source": [
    "## View categorization and indicators, export metadata and grouping specifications\n",
    "\n",
    "The metadata (categorization and diagnostic indicators) is exported as an `xlsx` spreadsheet to be used by other scripts for subsequent analysis and visualization. The specifications of groupings and markers are exported as a `yaml` file to be imported by other notebooks."
   ]
  },
  {
   "cell_type": "code",
   "execution_count": 127,
   "metadata": {},
   "outputs": [
    {
     "data": {
      "text/plain": [
       "['exclude']"
      ]
     },
     "execution_count": 127,
     "metadata": {},
     "output_type": "execute_result"
    }
   ],
   "source": [
    "[i for i in sr1p5.meta.columns if i not in meta_docs.keys()]"
   ]
  },
  {
   "cell_type": "code",
   "execution_count": 128,
   "metadata": {},
   "outputs": [
    {
     "data": {
      "text/html": [
       "<div>\n",
       "<style scoped>\n",
       "    .dataframe tbody tr th:only-of-type {\n",
       "        vertical-align: middle;\n",
       "    }\n",
       "\n",
       "    .dataframe tbody tr th {\n",
       "        vertical-align: top;\n",
       "    }\n",
       "\n",
       "    .dataframe thead th {\n",
       "        text-align: right;\n",
       "    }\n",
       "</style>\n",
       "<table border=\"1\" class=\"dataframe\">\n",
       "  <thead>\n",
       "    <tr style=\"text-align: right;\">\n",
       "      <th></th>\n",
       "      <th></th>\n",
       "      <th>exclude</th>\n",
       "      <th>category</th>\n",
       "      <th>subcategory</th>\n",
       "      <th>Kyoto-GHG|2010 (SAR)</th>\n",
       "      <th>baseline</th>\n",
       "      <th>marker</th>\n",
       "      <th>reference</th>\n",
       "      <th>project</th>\n",
       "      <th>median warming at peak (MAGICC6)</th>\n",
       "      <th>year of peak warming (MAGICC6)</th>\n",
       "      <th>...</th>\n",
       "      <th>final energy|2100</th>\n",
       "      <th>carbon price|2030</th>\n",
       "      <th>carbon price|2030 (NPV)</th>\n",
       "      <th>carbon price|2050</th>\n",
       "      <th>carbon price|2050 (NPV)</th>\n",
       "      <th>carbon price|2100</th>\n",
       "      <th>carbon price|2100 (NPV)</th>\n",
       "      <th>carbon price|Avg NPV (2030-2100)</th>\n",
       "      <th>carbon price|AC NPV (2030-2100)</th>\n",
       "      <th>carbon price|CC NPV (2030-2100)</th>\n",
       "    </tr>\n",
       "    <tr>\n",
       "      <th>model</th>\n",
       "      <th>scenario</th>\n",
       "      <th></th>\n",
       "      <th></th>\n",
       "      <th></th>\n",
       "      <th></th>\n",
       "      <th></th>\n",
       "      <th></th>\n",
       "      <th></th>\n",
       "      <th></th>\n",
       "      <th></th>\n",
       "      <th></th>\n",
       "      <th></th>\n",
       "      <th></th>\n",
       "      <th></th>\n",
       "      <th></th>\n",
       "      <th></th>\n",
       "      <th></th>\n",
       "      <th></th>\n",
       "      <th></th>\n",
       "      <th></th>\n",
       "      <th></th>\n",
       "      <th></th>\n",
       "    </tr>\n",
       "  </thead>\n",
       "  <tbody>\n",
       "    <tr>\n",
       "      <td rowspan=\"5\" valign=\"top\">AIM/CGE 2.0</td>\n",
       "      <td>ADVANCE_2020_1.5C-2100</td>\n",
       "      <td>False</td>\n",
       "      <td>1.5C low overshoot</td>\n",
       "      <td>Lower 1.5C low overshoot</td>\n",
       "      <td>in range</td>\n",
       "      <td>ADVANCE_NoPolicy</td>\n",
       "      <td></td>\n",
       "      <td>Luderer et al., 2018; Vrontisi et al., 2018</td>\n",
       "      <td>ADVANCE</td>\n",
       "      <td>1.537766</td>\n",
       "      <td>2047.0</td>\n",
       "      <td>...</td>\n",
       "      <td>524.0021</td>\n",
       "      <td>297.63833</td>\n",
       "      <td>182.724116</td>\n",
       "      <td>1690.35207</td>\n",
       "      <td>391.109349</td>\n",
       "      <td>1476.66849</td>\n",
       "      <td>29.794704</td>\n",
       "      <td>206.719281</td>\n",
       "      <td>206.872724</td>\n",
       "      <td>208.136058</td>\n",
       "    </tr>\n",
       "    <tr>\n",
       "      <td>ADVANCE_2020_Med2C</td>\n",
       "      <td>False</td>\n",
       "      <td>Higher 2C</td>\n",
       "      <td>Higher 2C</td>\n",
       "      <td>in range</td>\n",
       "      <td>ADVANCE_NoPolicy</td>\n",
       "      <td></td>\n",
       "      <td>Luderer et al., 2018; Vrontisi et al., 2018</td>\n",
       "      <td>ADVANCE</td>\n",
       "      <td>1.965214</td>\n",
       "      <td>2100.0</td>\n",
       "      <td>...</td>\n",
       "      <td>589.9357</td>\n",
       "      <td>218.41490</td>\n",
       "      <td>134.087802</td>\n",
       "      <td>139.20379</td>\n",
       "      <td>32.208618</td>\n",
       "      <td>183.52037</td>\n",
       "      <td>3.702886</td>\n",
       "      <td>32.263834</td>\n",
       "      <td>29.550868</td>\n",
       "      <td>30.453452</td>\n",
       "    </tr>\n",
       "    <tr>\n",
       "      <td>ADVANCE_2020_WB2C</td>\n",
       "      <td>False</td>\n",
       "      <td>Lower 2C</td>\n",
       "      <td>Lower 2C</td>\n",
       "      <td>in range</td>\n",
       "      <td>ADVANCE_NoPolicy</td>\n",
       "      <td></td>\n",
       "      <td>Luderer et al., 2018; Vrontisi et al., 2018</td>\n",
       "      <td>ADVANCE</td>\n",
       "      <td>1.607855</td>\n",
       "      <td>2057.0</td>\n",
       "      <td>...</td>\n",
       "      <td>526.0832</td>\n",
       "      <td>219.34682</td>\n",
       "      <td>134.659920</td>\n",
       "      <td>411.94901</td>\n",
       "      <td>95.315711</td>\n",
       "      <td>893.29647</td>\n",
       "      <td>18.024021</td>\n",
       "      <td>81.658363</td>\n",
       "      <td>80.272387</td>\n",
       "      <td>81.143671</td>\n",
       "    </tr>\n",
       "    <tr>\n",
       "      <td>ADVANCE_2030_Med2C</td>\n",
       "      <td>False</td>\n",
       "      <td>Above 2C</td>\n",
       "      <td>Above 2C</td>\n",
       "      <td>in range</td>\n",
       "      <td>ADVANCE_NoPolicy</td>\n",
       "      <td></td>\n",
       "      <td>Luderer et al., 2018; Vrontisi et al., 2018</td>\n",
       "      <td>ADVANCE</td>\n",
       "      <td>2.139910</td>\n",
       "      <td>2100.0</td>\n",
       "      <td>...</td>\n",
       "      <td>576.9094</td>\n",
       "      <td>67.54726</td>\n",
       "      <td>41.468158</td>\n",
       "      <td>255.94822</td>\n",
       "      <td>59.220646</td>\n",
       "      <td>262.33031</td>\n",
       "      <td>5.293032</td>\n",
       "      <td>39.573620</td>\n",
       "      <td>39.425827</td>\n",
       "      <td>39.713369</td>\n",
       "    </tr>\n",
       "    <tr>\n",
       "      <td>ADVANCE_2030_Price1.5C</td>\n",
       "      <td>False</td>\n",
       "      <td>Lower 2C</td>\n",
       "      <td>Lower 2C</td>\n",
       "      <td>in range</td>\n",
       "      <td>ADVANCE_NoPolicy</td>\n",
       "      <td></td>\n",
       "      <td>Luderer et al., 2018; Vrontisi et al., 2018</td>\n",
       "      <td>ADVANCE</td>\n",
       "      <td>1.742394</td>\n",
       "      <td>2049.0</td>\n",
       "      <td>...</td>\n",
       "      <td>510.2482</td>\n",
       "      <td>78.64703</td>\n",
       "      <td>48.282454</td>\n",
       "      <td>1690.35207</td>\n",
       "      <td>391.109349</td>\n",
       "      <td>1476.66849</td>\n",
       "      <td>29.794704</td>\n",
       "      <td>196.304787</td>\n",
       "      <td>199.706876</td>\n",
       "      <td>200.067236</td>\n",
       "    </tr>\n",
       "  </tbody>\n",
       "</table>\n",
       "<p>5 rows × 40 columns</p>\n",
       "</div>"
      ],
      "text/plain": [
       "                                    exclude            category  \\\n",
       "model       scenario                                              \n",
       "AIM/CGE 2.0 ADVANCE_2020_1.5C-2100    False  1.5C low overshoot   \n",
       "            ADVANCE_2020_Med2C        False           Higher 2C   \n",
       "            ADVANCE_2020_WB2C         False            Lower 2C   \n",
       "            ADVANCE_2030_Med2C        False            Above 2C   \n",
       "            ADVANCE_2030_Price1.5C    False            Lower 2C   \n",
       "\n",
       "                                                 subcategory  \\\n",
       "model       scenario                                           \n",
       "AIM/CGE 2.0 ADVANCE_2020_1.5C-2100  Lower 1.5C low overshoot   \n",
       "            ADVANCE_2020_Med2C                     Higher 2C   \n",
       "            ADVANCE_2020_WB2C                       Lower 2C   \n",
       "            ADVANCE_2030_Med2C                      Above 2C   \n",
       "            ADVANCE_2030_Price1.5C                  Lower 2C   \n",
       "\n",
       "                                   Kyoto-GHG|2010 (SAR)          baseline  \\\n",
       "model       scenario                                                        \n",
       "AIM/CGE 2.0 ADVANCE_2020_1.5C-2100             in range  ADVANCE_NoPolicy   \n",
       "            ADVANCE_2020_Med2C                 in range  ADVANCE_NoPolicy   \n",
       "            ADVANCE_2020_WB2C                  in range  ADVANCE_NoPolicy   \n",
       "            ADVANCE_2030_Med2C                 in range  ADVANCE_NoPolicy   \n",
       "            ADVANCE_2030_Price1.5C             in range  ADVANCE_NoPolicy   \n",
       "\n",
       "                                   marker  \\\n",
       "model       scenario                        \n",
       "AIM/CGE 2.0 ADVANCE_2020_1.5C-2100          \n",
       "            ADVANCE_2020_Med2C              \n",
       "            ADVANCE_2020_WB2C               \n",
       "            ADVANCE_2030_Med2C              \n",
       "            ADVANCE_2030_Price1.5C          \n",
       "\n",
       "                                                                      reference  \\\n",
       "model       scenario                                                              \n",
       "AIM/CGE 2.0 ADVANCE_2020_1.5C-2100  Luderer et al., 2018; Vrontisi et al., 2018   \n",
       "            ADVANCE_2020_Med2C      Luderer et al., 2018; Vrontisi et al., 2018   \n",
       "            ADVANCE_2020_WB2C       Luderer et al., 2018; Vrontisi et al., 2018   \n",
       "            ADVANCE_2030_Med2C      Luderer et al., 2018; Vrontisi et al., 2018   \n",
       "            ADVANCE_2030_Price1.5C  Luderer et al., 2018; Vrontisi et al., 2018   \n",
       "\n",
       "                                    project  median warming at peak (MAGICC6)  \\\n",
       "model       scenario                                                            \n",
       "AIM/CGE 2.0 ADVANCE_2020_1.5C-2100  ADVANCE                          1.537766   \n",
       "            ADVANCE_2020_Med2C      ADVANCE                          1.965214   \n",
       "            ADVANCE_2020_WB2C       ADVANCE                          1.607855   \n",
       "            ADVANCE_2030_Med2C      ADVANCE                          2.139910   \n",
       "            ADVANCE_2030_Price1.5C  ADVANCE                          1.742394   \n",
       "\n",
       "                                    year of peak warming (MAGICC6)  ...  \\\n",
       "model       scenario                                                ...   \n",
       "AIM/CGE 2.0 ADVANCE_2020_1.5C-2100                          2047.0  ...   \n",
       "            ADVANCE_2020_Med2C                              2100.0  ...   \n",
       "            ADVANCE_2020_WB2C                               2057.0  ...   \n",
       "            ADVANCE_2030_Med2C                              2100.0  ...   \n",
       "            ADVANCE_2030_Price1.5C                          2049.0  ...   \n",
       "\n",
       "                                    final energy|2100  carbon price|2030  \\\n",
       "model       scenario                                                       \n",
       "AIM/CGE 2.0 ADVANCE_2020_1.5C-2100           524.0021          297.63833   \n",
       "            ADVANCE_2020_Med2C               589.9357          218.41490   \n",
       "            ADVANCE_2020_WB2C                526.0832          219.34682   \n",
       "            ADVANCE_2030_Med2C               576.9094           67.54726   \n",
       "            ADVANCE_2030_Price1.5C           510.2482           78.64703   \n",
       "\n",
       "                                    carbon price|2030 (NPV)  \\\n",
       "model       scenario                                          \n",
       "AIM/CGE 2.0 ADVANCE_2020_1.5C-2100               182.724116   \n",
       "            ADVANCE_2020_Med2C                   134.087802   \n",
       "            ADVANCE_2020_WB2C                    134.659920   \n",
       "            ADVANCE_2030_Med2C                    41.468158   \n",
       "            ADVANCE_2030_Price1.5C                48.282454   \n",
       "\n",
       "                                    carbon price|2050  \\\n",
       "model       scenario                                    \n",
       "AIM/CGE 2.0 ADVANCE_2020_1.5C-2100         1690.35207   \n",
       "            ADVANCE_2020_Med2C              139.20379   \n",
       "            ADVANCE_2020_WB2C               411.94901   \n",
       "            ADVANCE_2030_Med2C              255.94822   \n",
       "            ADVANCE_2030_Price1.5C         1690.35207   \n",
       "\n",
       "                                    carbon price|2050 (NPV)  \\\n",
       "model       scenario                                          \n",
       "AIM/CGE 2.0 ADVANCE_2020_1.5C-2100               391.109349   \n",
       "            ADVANCE_2020_Med2C                    32.208618   \n",
       "            ADVANCE_2020_WB2C                     95.315711   \n",
       "            ADVANCE_2030_Med2C                    59.220646   \n",
       "            ADVANCE_2030_Price1.5C               391.109349   \n",
       "\n",
       "                                    carbon price|2100  \\\n",
       "model       scenario                                    \n",
       "AIM/CGE 2.0 ADVANCE_2020_1.5C-2100         1476.66849   \n",
       "            ADVANCE_2020_Med2C              183.52037   \n",
       "            ADVANCE_2020_WB2C               893.29647   \n",
       "            ADVANCE_2030_Med2C              262.33031   \n",
       "            ADVANCE_2030_Price1.5C         1476.66849   \n",
       "\n",
       "                                    carbon price|2100 (NPV)  \\\n",
       "model       scenario                                          \n",
       "AIM/CGE 2.0 ADVANCE_2020_1.5C-2100                29.794704   \n",
       "            ADVANCE_2020_Med2C                     3.702886   \n",
       "            ADVANCE_2020_WB2C                     18.024021   \n",
       "            ADVANCE_2030_Med2C                     5.293032   \n",
       "            ADVANCE_2030_Price1.5C                29.794704   \n",
       "\n",
       "                                    carbon price|Avg NPV (2030-2100)  \\\n",
       "model       scenario                                                   \n",
       "AIM/CGE 2.0 ADVANCE_2020_1.5C-2100                        206.719281   \n",
       "            ADVANCE_2020_Med2C                             32.263834   \n",
       "            ADVANCE_2020_WB2C                              81.658363   \n",
       "            ADVANCE_2030_Med2C                             39.573620   \n",
       "            ADVANCE_2030_Price1.5C                        196.304787   \n",
       "\n",
       "                                    carbon price|AC NPV (2030-2100)  \\\n",
       "model       scenario                                                  \n",
       "AIM/CGE 2.0 ADVANCE_2020_1.5C-2100                       206.872724   \n",
       "            ADVANCE_2020_Med2C                            29.550868   \n",
       "            ADVANCE_2020_WB2C                             80.272387   \n",
       "            ADVANCE_2030_Med2C                            39.425827   \n",
       "            ADVANCE_2030_Price1.5C                       199.706876   \n",
       "\n",
       "                                    carbon price|CC NPV (2030-2100)  \n",
       "model       scenario                                                 \n",
       "AIM/CGE 2.0 ADVANCE_2020_1.5C-2100                       208.136058  \n",
       "            ADVANCE_2020_Med2C                            30.453452  \n",
       "            ADVANCE_2020_WB2C                             81.143671  \n",
       "            ADVANCE_2030_Med2C                            39.713369  \n",
       "            ADVANCE_2030_Price1.5C                       200.067236  \n",
       "\n",
       "[5 rows x 40 columns]"
      ]
     },
     "execution_count": 128,
     "metadata": {},
     "output_type": "execute_result"
    }
   ],
   "source": [
    "sr1p5.meta.head()"
   ]
  },
  {
   "cell_type": "code",
   "execution_count": 129,
   "metadata": {},
   "outputs": [],
   "source": [
    "_meta_docs = pd.DataFrame(meta_docs, index=[0]).T.reset_index()\n",
    "_meta_docs.rename(columns={'index': 'Category or indicator', 0: 'Description'}, inplace=True)"
   ]
  },
  {
   "cell_type": "code",
   "execution_count": 130,
   "metadata": {},
   "outputs": [],
   "source": [
    "writer = pd.ExcelWriter('sr15_metadata_indicators.xlsx')\n",
    "pyam.utils.write_sheet(writer, 'meta', sr1p5.meta, index=True)\n",
    "pyam.utils.write_sheet(writer, 'categories_indicators_doc', _meta_docs, index=False)\n",
    "for name, df in meta_tables.items():\n",
    "    pyam.utils.write_sheet(writer, 'def_{}'.format(name), df)\n",
    "writer.save()"
   ]
  },
  {
   "cell_type": "code",
   "execution_count": 131,
   "metadata": {},
   "outputs": [],
   "source": [
    "specs['run_control'] = rc"
   ]
  },
  {
   "cell_type": "code",
   "execution_count": 132,
   "metadata": {},
   "outputs": [],
   "source": [
    "with io.open('sr15_specs.yaml', 'w', encoding='utf8') as outfile:\n",
    "    yaml.dump(specs, outfile, default_flow_style=False, allow_unicode=True)"
   ]
  },
  {
   "cell_type": "code",
   "execution_count": null,
   "metadata": {},
   "outputs": [],
   "source": []
  }
 ],
 "metadata": {
  "kernelspec": {
   "display_name": "Python 3",
   "language": "python",
   "name": "python3"
  },
  "language_info": {
   "codemirror_mode": {
    "name": "ipython",
    "version": 3
   },
   "file_extension": ".py",
   "mimetype": "text/x-python",
   "name": "python",
   "nbconvert_exporter": "python",
   "pygments_lexer": "ipython3",
   "version": "3.7.4"
  }
 },
 "nbformat": 4,
 "nbformat_minor": 2
}
