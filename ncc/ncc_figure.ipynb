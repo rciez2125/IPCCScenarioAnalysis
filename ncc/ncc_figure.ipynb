{
 "cells": [
  {
   "cell_type": "markdown",
   "metadata": {},
   "source": [
    "### *Nature Climate Change Commentary on the IPCC SR1.5 scenario resource*\n",
    "\n",
    "<img style=\"float: right; height: 80px; padding-left: 20px;\" src=\"../_static/IIASA_logo.png\">\n",
    "<img style=\"float: right; height: 80px;\" src=\"../_static/IAMC_logo.jpg\">\n",
    "\n",
    "# An overview of the *IAMC 1.5°C scenario ensemble*\n",
    "\n",
    "This notebook generates the figure in the commentary published in *Nature Climate Change*\n",
    "on the scenario resource compiled for the IPCC's _\"Special Report on Global Warming of 1.5°C\"_.\n",
    "\n",
    "The scenario ensemble can be accessed at https://data.ene.iiasa.ac.at/iamc-1.5c-explorer.\n",
    "\n",
    "#### License and recommended citation\n",
    "\n",
    "This notebook is licensed under the APACHE 2.0 License. Please read the [NOTICE](NOTICE) for more information.\n",
    "\n",
    "When using this notebook, please cite as:\n",
    "\n",
    ">    Daniel Huppmann et al.,\n",
    ">    Scenario analysis notebooks for the IPCC Special Report on of Global Warming of 1.5°C. 2018  \n",
    ">    doi: [10.22022/SR15/08-2018.15428](https://doi.org/10.22022/SR15/08-2018.15428) |\n",
    ">    url: [github.com/iiasa/ipcc_sr15_scenario_analysis](https://github.com/iiasa/ipcc_sr15_scenario_analysis)\n",
    "\n",
    "You can download the recommended citations as [Endnote (ris)](../bibliography/iamc_15c.ris)\n",
    "or [BibTex (bib)](../bibliography/iamc_15c.bib) format."
   ]
  },
  {
   "cell_type": "markdown",
   "metadata": {},
   "source": [
    "## Load required packages, import data and metadata\n",
    "\n",
    "The metadata file should have been generated from the notebook ``sr1p5_categories_indicators`` included in this repository.  \n",
    "If the snapshot file has been updated, make sure that you have an up-to-date metadata file.\n",
    "\n",
    "The last cell of this section loads and assigns a number of auxiliary lists and the `run_control` specifications as defined in the categories-indicators notebook. The imported dictionary `specs` should be empty after popping all relevant data."
   ]
  },
  {
   "cell_type": "code",
   "execution_count": null,
   "metadata": {},
   "outputs": [],
   "source": [
    "import pandas as pd\n",
    "import numpy as np\n",
    "import warnings\n",
    "import io\n",
    "import itertools\n",
    "import yaml\n",
    "import math\n",
    "import matplotlib.pyplot as plt\n",
    "%matplotlib inline\n",
    "import pyam"
   ]
  },
  {
   "cell_type": "code",
   "execution_count": null,
   "metadata": {},
   "outputs": [],
   "source": [
    "sr1p5 = pyam.IamDataFrame(data='../data/iamc15_world_public_release_v0.csv')\n",
    "sr1p5.filter(region='World', inplace=True)"
   ]
  },
  {
   "cell_type": "code",
   "execution_count": null,
   "metadata": {},
   "outputs": [],
   "source": [
    "sr1p5.load_metadata('../analysis/sr1p5_metadata_indicators.xlsx')"
   ]
  },
  {
   "cell_type": "code",
   "execution_count": null,
   "metadata": {},
   "outputs": [],
   "source": [
    "with open(\"../analysis/sr1p5_specs.yaml\", 'r') as stream:\n",
    "    specs = yaml.load(stream, Loader=yaml.FullLoader)\n",
    "\n",
    "rc = pyam.run_control()\n",
    "for item in specs.pop('run_control').items():\n",
    "    rc.update({item[0]: item[1]})\n",
    "cats = specs.pop('cats')\n",
    "all_cats = specs.pop('all_cats')\n",
    "subcats = specs.pop('subcats')\n",
    "all_subcats = specs.pop('all_subcats')\n",
    "plotting_args = specs.pop('plotting_args')\n",
    "marker= specs.pop('marker')\n",
    "\n",
    "specs"
   ]
  },
  {
   "cell_type": "markdown",
   "metadata": {},
   "source": [
    "## Filter for valid scenarios\n",
    "\n",
    "Only include relevant scenarios in the analysis."
   ]
  },
  {
   "cell_type": "code",
   "execution_count": null,
   "metadata": {},
   "outputs": [],
   "source": [
    "full_century = range(2000, 2101, 10)\n",
    "horizon = range(2010, 2101, 10)"
   ]
  },
  {
   "cell_type": "code",
   "execution_count": null,
   "metadata": {},
   "outputs": [],
   "source": [
    "df = sr1p5.filter(category=cats, year=full_century, exclude=False)"
   ]
  },
  {
   "cell_type": "markdown",
   "metadata": {},
   "source": [
    "## Plots of drivers"
   ]
  },
  {
   "cell_type": "code",
   "execution_count": null,
   "metadata": {},
   "outputs": [],
   "source": [
    "pop = df.filter(variable='Population')\n",
    "pop.convert_unit({'million': ('billion', 0.001)}, inplace=True)\n",
    "\n",
    "gdp = df.filter(variable='GDP|PPP')\n",
    "gdp.convert_unit({'billion US$2010/yr': ('trillion US$2010/yr', 0.001)}, inplace=True)\n",
    "\n",
    "primary = df.filter(variable='Primary Energy')\n",
    "\n",
    "forest =  df.filter(variable='Land Cover|Forest')\n",
    "forest.convert_unit({'million ha': ('million km2', 0.01)}, inplace=True)"
   ]
  },
  {
   "cell_type": "code",
   "execution_count": null,
   "metadata": {},
   "outputs": [],
   "source": [
    "config = [\n",
    "    (pop, 'Population'),\n",
    "    (gdp, 'Economic output'),\n",
    "    (primary, 'Primary energy'),\n",
    "    (forest, 'Forest cover')\n",
    "]\n",
    "\n",
    "drivers, _ax = plt.subplots(1, 4, figsize=(11, 2))\n",
    "\n",
    "for i, (_df, title) in enumerate(config):\n",
    "    \n",
    "    _df = _df.filter(year=horizon)\n",
    "    data = _df.timeseries()\n",
    "    data = data[data[2020] > 1]\n",
    "    _min = data.quantile(q=0)\n",
    "    _max = data.quantile(q=1)\n",
    "    _ax[i].stackplot(horizon, _min, _max - _min, colors=['', 'lightgrey'])\n",
    "    \n",
    "    _ax[i] = _df.line_plot(ax=_ax[i], color='lightskyblue', linewidth=0.5, legend=False)\n",
    "    _ax[i].set_title(title)\n",
    "    _ax[i].set_xlabel('')\n",
    "    _ax[i].set_ylabel(_df.data.unit.unique()[0])\n",
    "    _ax[i].set_ylim(0.9 * min(_min), 1.1 * max(_max))\n",
    "\n",
    "drivers.tight_layout()"
   ]
  },
  {
   "cell_type": "code",
   "execution_count": null,
   "metadata": {},
   "outputs": [],
   "source": [
    "drivers.savefig('ncc_drivers.eps')"
   ]
  },
  {
   "cell_type": "markdown",
   "metadata": {},
   "source": [
    "## Carbon dioxide emission"
   ]
  },
  {
   "cell_type": "code",
   "execution_count": null,
   "metadata": {},
   "outputs": [],
   "source": [
    "co2 = df.filter(year=horizon, variable='Emissions|CO2')\n",
    "co2.convert_unit({'Mt CO2/yr': ('Gt CO2/yr', 0.001)}, inplace=True)"
   ]
  },
  {
   "cell_type": "code",
   "execution_count": null,
   "metadata": {},
   "outputs": [],
   "source": [
    "pyam.run_control()"
   ]
  },
  {
   "cell_type": "code",
   "execution_count": null,
   "metadata": {},
   "outputs": [],
   "source": [
    "emissions, _ax = plt.subplots(1, 2, sharey=True, figsize=(6, 2))\n",
    "\n",
    "classes = [\n",
    "    ('1.5C pathways', ['Below 1.5C', '1.5C low OS', '1.5C high OS'], 'xkcd:bluish'),\n",
    "    ('2C pathways', ['Lower 2C', 'Higher 2C'], 'xkcd:orange'),\n",
    "    ('Exceeding 2C', ['Above 2C'], 'lightgrey'),\n",
    "]\n",
    "\n",
    "## settings for axes 2\n",
    "\n",
    "years = [2030, 2050, 2100]\n",
    "ymax = 70\n",
    "mincount = 7\n",
    "\n",
    "_classes = len(classes) - 1\n",
    "w = 0.6 / _classes\n",
    "\n",
    "_ax[1].hlines(0, xmin=-0.5, xmax=(len(years) - 0.5), linewidths=0.6)\n",
    "\n",
    "##\n",
    "\n",
    "for (name, _cats, c) in reversed(classes):\n",
    "    _co2 = co2.filter(category=_cats).timeseries()\n",
    "    if not _co2.empty:\n",
    "        _min = _co2.quantile(q=0.25)\n",
    "        _max = _co2.quantile(q=0.75)\n",
    "        _med = _co2.apply(lambda x: np.median(x))\n",
    "        _ax[0].stackplot(horizon, _min, _max - _min, colors=['', c])\n",
    "        _ax[0].plot(horizon, _min, color=c, linewidth=0.8)\n",
    "        _ax[0].plot(horizon, _max, color=c, linewidth=0.8)\n",
    "        _ax[0].plot(horizon, _med, color=c, linewidth=2)\n",
    "\n",
    "for i, (name, _cats, c) in enumerate(classes):\n",
    "    _co2 = co2.filter(category=_cats).timeseries()\n",
    "    if not _co2.empty:\n",
    "        for j, y in enumerate(years):\n",
    "            lst = _co2[y][~np.isnan(_co2[y])]\n",
    "            pos = (0.75 / _classes * (i - _classes / 2) + j)\n",
    "\n",
    "            outliers = len(lst[lst > ymax])\n",
    "#            if outliers > 0:\n",
    "#                _ax[1].text(pos - 0.01 * len(years), ymax, outliers)\n",
    "\n",
    "            if len(lst) >= mincount:\n",
    "                p = _ax[1].boxplot(lst, positions=[pos], widths=w * .90,\n",
    "                                whis='range',\n",
    "                                patch_artist=True)\n",
    "                plt.setp(p['boxes'], color=c)\n",
    "                plt.setp(p['medians'], color='black')\n",
    "            else:\n",
    "                _ax[1].scatter(x=[pos] * len(lst), y=lst, zorder=5,\n",
    "                            c=c, edgecolors='black', marker='o',\n",
    "                            s=30, label=None)\n",
    "                _ax[1].plot([pos, pos], [max(lst), min(lst)], zorder=4,\n",
    "                         color='black', linewidth=1, linestyle='-',\n",
    "                         marker='_', markersize=8, markeredgewidth=1,\n",
    "                         markeredgecolor='black')\n",
    "\n",
    "        _ax[1].plot([], c=c, label='{} [{}]'.format(name, len(_co2)))\n",
    "\n",
    "_ax[0].hlines(0, xmin=horizon.start, xmax=horizon.stop - 1, linewidths=0.6)\n",
    "#_ax[0].set_title('Trajectories by category')\n",
    "_ax[0].set_ylabel('Gt CO2/yr')\n",
    "_ax[0].set_ylim(-21, ymax)\n",
    "\n",
    "_ax[1].set_position([0.49, 0.124, 0.2, 0.753])\n",
    "#_ax[1].set_title('Ranges')\n",
    "_ax[1].set_xlim(-0.6, (len(years) - 0.4))\n",
    "plt.xticks(range(0, len(years)), years)\n",
    "\n",
    "_ax[1].legend()\n",
    "#emissions.tight_layout()"
   ]
  },
  {
   "cell_type": "code",
   "execution_count": null,
   "metadata": {},
   "outputs": [],
   "source": [
    "emissions.savefig('ncc_carbon_emissions.eps')"
   ]
  },
  {
   "cell_type": "markdown",
   "metadata": {},
   "source": [
    "## Statistical overview of bioenergy and other indicators"
   ]
  },
  {
   "cell_type": "code",
   "execution_count": null,
   "metadata": {},
   "outputs": [],
   "source": [
    "ccs = df.filter(variable='Carbon Sequestration|CCS')\n",
    "ccs.convert_unit({'Mt CO2/yr': ('Gt CO2/yr', 0.001)}, inplace=True)\n",
    "beccs = df.filter(variable='Carbon Sequestration|CCS|Biomass')\n",
    "beccs.convert_unit({'Mt CO2/yr': ('Gt CO2/yr', 0.001)}, inplace=True)"
   ]
  },
  {
   "cell_type": "code",
   "execution_count": null,
   "metadata": {},
   "outputs": [],
   "source": [
    "cum_ccs = ccs.timeseries().apply(pyam.cumulative, raw=False, axis=1, first_year=2020, last_year=2100)\n",
    "cum_beccs = beccs.timeseries().apply(pyam.cumulative, raw=False, axis=1, first_year=2020, last_year=2100)"
   ]
  },
  {
   "cell_type": "code",
   "execution_count": null,
   "metadata": {},
   "outputs": [],
   "source": [
    "ccs_fig, _ax = plt.subplots(2, 2, sharey=True, figsize=(4, 2))\n",
    "\n",
    "for i, (_cats, superclass, color) in enumerate([(['Below 1.5C', '1.5C low OS', '1.5C high OS'], '1.5', 'palegreen'),\n",
    "                                         (['Lower 2C', 'Higher 2C'], '2.0', 'palevioletred')]):\n",
    "\n",
    "    for j, (data, group, count) in enumerate([(cum_ccs, 'CCS', 20),\n",
    "                                      (cum_beccs, 'BECCS', 12)]):\n",
    "        groupby = pyam.filter_by_meta(data.reset_index(),df, join_meta=True, category=_cats).groupby('category')\n",
    "\n",
    "        data = []\n",
    "        color = []\n",
    "        labels = []\n",
    "\n",
    "        for name in _cats:\n",
    "            x = groupby.get_group(name)\n",
    "            if not x.empty:\n",
    "                data.append(x[0][~np.isnan(x[0])])\n",
    "                color.append(rc['color']['category'][name])\n",
    "                labels.append([name])\n",
    "\n",
    "            _ax[i][j].hist(data, count, color=color, label=labels, stacked=True)\n",
    "\n",
    "        if i == 0:\n",
    "            _ax[i][j].set_title(group)\n",
    "            _ax[i][j].set_xticks([])\n",
    "        else:\n",
    "            _ax[1][j].set_xlabel('GtCO2')\n",
    "    _ax[i][0].set_ylabel('Number of \\n {}°C scenarios'.format(superclass))\n",
    "\n",
    "_ax[0][1].set_position([0.52, 0.538, 0.2, 0.342])\n",
    "_ax[1][1].set_position([0.52, 0.124, 0.2, 0.342])"
   ]
  },
  {
   "cell_type": "raw",
   "metadata": {},
   "source": [
    "ccs_fig.savefig('ncc_ccs_histogram.eps')"
   ]
  },
  {
   "cell_type": "markdown",
   "metadata": {},
   "source": [
    "## Energy system transformation in two illustrative pathways"
   ]
  },
  {
   "cell_type": "code",
   "execution_count": null,
   "metadata": {},
   "outputs": [],
   "source": [
    "marker = ['LED', 'S5']"
   ]
  },
  {
   "cell_type": "code",
   "execution_count": null,
   "metadata": {},
   "outputs": [],
   "source": [
    "ene = sr1p5.filter(marker=marker)"
   ]
  },
  {
   "cell_type": "code",
   "execution_count": null,
   "metadata": {},
   "outputs": [],
   "source": [
    "variable_mapping = [\n",
    "    ('Fossil without CCS', 'Primary Energy|Fossil|w/o CCS', 'black', ''),\n",
    "    ('Fossil with CCS', 'Primary Energy|Fossil|w/ CCS', 'grey', '//'),\n",
    "    ('Biomass without CCS',\n",
    "         ['Primary Energy|Biomass|Modern|w/o CCS',\n",
    "          'Primary Energy|Biomass|Traditional'], 'forestgreen', ''),\n",
    "    ('Biomass with CCS', 'Primary Energy|Biomass|Modern|w/ CCS', 'limegreen', '//'),\n",
    "    ('Nuclear', 'Primary Energy|Nuclear', 'firebrick', ''),\n",
    "    ('Other renewables',\n",
    "         ['Primary Energy|Ocean',\n",
    "          'Primary Energy|Geothermal',\n",
    "          'Primary Energy|Hydro'], 'darkorange', ''),\n",
    "    ('Wind', 'Primary Energy|Wind', 'lightskyblue', ''),\n",
    "    ('Solar', 'Primary Energy|Solar', 'gold', ''),\n",
    "]"
   ]
  },
  {
   "cell_type": "code",
   "execution_count": null,
   "metadata": {},
   "outputs": [],
   "source": [
    "variables = []\n",
    "mapping = {}\n",
    "\n",
    "for (name, variable, color, hatch) in variable_mapping:\n",
    "    variables.append(name)\n",
    "    if isinstance(variable, list):\n",
    "        for v in variable:\n",
    "            mapping.update({v: name})\n",
    "    else:\n",
    "        mapping.update({variable: name})\n",
    "    rc.update({'color': {'variable': {name: color}}})\n",
    "    rc.update({'hatch': {'variable': {name: hatch}}})\n",
    "\n",
    "ene.rename({'variable': mapping}, inplace=True)"
   ]
  },
  {
   "cell_type": "code",
   "execution_count": null,
   "metadata": {},
   "outputs": [],
   "source": [
    "_ene = ene.filter(variable=variables, year=range(2010, 2101, 10))"
   ]
  },
  {
   "cell_type": "code",
   "execution_count": null,
   "metadata": {},
   "outputs": [],
   "source": [
    "ene_fig, _ax = plt.subplots(1, len(marker), sharey=True, figsize=(15, 3))\n",
    "\n",
    "for i, m in enumerate(marker):\n",
    "    _df = _ene.filter(marker=m)\n",
    "    _df.data.variable = _df.data.variable.astype('category')\n",
    "    _df.data.variable.cat.set_categories(variables, inplace=True)\n",
    "    _df.data.sort_values('variable', inplace=True)\n",
    "    _df.stack_plot(ax=_ax[i], legend=False)\n",
    "    _ax[i].set_title('')\n",
    "    _ax[i].set_xlabel('')\n",
    "    if i > 0:\n",
    "        _ax[i].set_ylabel('')\n",
    "_ax[0].legend()"
   ]
  },
  {
   "cell_type": "code",
   "execution_count": null,
   "metadata": {},
   "outputs": [],
   "source": [
    "ene_fig.savefig('ncc_energy_transitions.eps')"
   ]
  },
  {
   "cell_type": "code",
   "execution_count": null,
   "metadata": {},
   "outputs": [],
   "source": []
  }
 ],
 "metadata": {
  "kernelspec": {
   "display_name": "Python 3",
   "language": "python",
   "name": "python3"
  },
  "language_info": {
   "codemirror_mode": {
    "name": "ipython",
    "version": 3
   },
   "file_extension": ".py",
   "mimetype": "text/x-python",
   "name": "python",
   "nbconvert_exporter": "python",
   "pygments_lexer": "ipython3",
   "version": "3.6.4"
  }
 },
 "nbformat": 4,
 "nbformat_minor": 2
}
